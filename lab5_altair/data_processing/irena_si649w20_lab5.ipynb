{
  "nbformat": 4,
  "nbformat_minor": 0,
  "metadata": {
    "colab": {
      "name": "irena_si649w20 lab5.ipynb",
      "provenance": [],
      "collapsed_sections": []
    },
    "kernelspec": {
      "name": "python3",
      "display_name": "Python 3"
    }
  },
  "cells": [
    {
      "cell_type": "markdown",
      "metadata": {
        "id": "n25BajP8t_Vd",
        "colab_type": "text"
      },
      "source": [
        "# Information Visualization Altair Demo 5\n",
        "School of Information, University of Michigan\n",
        "\n",
        "\n",
        "## Plan\n",
        "1. Review\n",
        "2. Export \n",
        "\n",
        "## Resources/References \n",
        "*  [Export documentation](https://altair-viz.github.io/user_guide/saving_charts.html?highlight=html#saving-altair-charts)\n",
        "* [idyll example](https://idyll-lang.github.io/examples/csv/)\n",
        "* [vega example](https://vega.github.io/vega-lite/tutorials/streaming.html)\n",
        "\n",
        "\n",
        "\n",
        "\n",
        "\n"
      ]
    },
    {
      "cell_type": "markdown",
      "metadata": {
        "id": "zGax37tXa_5k",
        "colab_type": "text"
      },
      "source": [
        "## 1. Basic Chart"
      ]
    },
    {
      "cell_type": "code",
      "metadata": {
        "id": "tzsh3LD4tzmv",
        "colab_type": "code",
        "colab": {}
      },
      "source": [
        "# imports we will use\n",
        "import altair as alt\n",
        "import pandas as pd\n",
        "from vega_datasets import data as vega_data\n",
        "\n",
        "# usa = vega_data.us_10m.url\n",
        "\n",
        "# states = alt.topo_feature(vega_data.us_10m.url, 'states')\n",
        "# capitals = vega_data.us_state_capitals.url\n",
        "\n",
        "# # US states background\n",
        "# background = alt.Chart(states).mark_geoshape(\n",
        "#     fill='lightgray',\n",
        "#     stroke='white'\n",
        "# ).properties(\n",
        "#     title='US State Capitols',\n",
        "#     width=650,\n",
        "#     height=400\n",
        "# ).project('albersUsa')\n"
      ],
      "execution_count": 0,
      "outputs": []
    },
    {
      "cell_type": "code",
      "metadata": {
        "id": "RJag6TszvbeS",
        "colab_type": "code",
        "colab": {}
      },
      "source": [
        "## overlay election data onto map \n",
        "\n",
        "primaryData=pd.read_csv(\"https://raw.githubusercontent.com/raubsaurier/si649_labs/master/lab5_altair/primaryData.csv\")\n",
        "\n",
        "\n",
        "# alt.Chart(alt.topo_feature(usa, 'states')).mark_geoshape(\n",
        "#     stroke='#aaa', strokeWidth=0.25\n",
        "# ).transform_lookup(\n",
        "#     lookup='state', from_=alt.LookupData(data=test, key='state', fields=['trump_lead'])\n",
        "# ).encode(\n",
        "#     alt.Color('trump_lead:Q',\n",
        "#               scale=alt.Scale(domain=[0, 0.3], clamp=True), \n",
        "#               legend=alt.Legend(format='%')),\n",
        "#     alt.Tooltip('trump_lead:Q', format='.0%')\n",
        "# )\n",
        "\n",
        "primaryData['end_date'] = pd.to_datetime(primaryData['end_date'])\n",
        "primaryData['created_at_date'] = pd.to_datetime(primaryData['created_at_date'])\n",
        "states = {\n",
        "         'Alaska':'AK' ,\n",
        "        'Alabama':'AL',\n",
        "        'Arkansas':'AR',\n",
        "        'Arizona':'AZ' ,\n",
        "        'California':'CA',\n",
        "        'Colorado':'CO',\n",
        "        'Connecticut':'CT',\n",
        "        'District of Columbia':'DC',\n",
        "        'Delaware': 'DE',\n",
        "        'Florida': 'FL',\n",
        "        'Georgia': 'GA',\n",
        "        'Guam': 'GU',\n",
        "        'Hawaii':'HI',\n",
        "        'Iowa':'IA',\n",
        "        'Idaho':'ID',\n",
        "        'Illinois':'IL',\n",
        "        'Indiana':'IN',\n",
        "        'Kansas':'KS',\n",
        "        'Kentucky':'KY',\n",
        "        'Louisiana':'LA',\n",
        "        'Massachusetts':'MA',\n",
        "        'Maryland':'MD',\n",
        "        'Maine':'ME',\n",
        "        'Michigan':'MI',\n",
        "        'Minnesota':'MN',\n",
        "        'Missouri':'MO',\n",
        "        'Mississippi':'MS',\n",
        "        'Montana':'MT',\n",
        "        'North Carolina':'NC',\n",
        "        'North Dakota':'ND',\n",
        "        'Nebraska':'NE',\n",
        "        'National': 'NA',\n",
        "        'New Hampshire':'NH',\n",
        "        'New Jersey':'NJ',\n",
        "        'New Mexico':'NM',\n",
        "        'Nevada':'NV',\n",
        "        'New York':'NY',\n",
        "        'Ohio':'OH',\n",
        "        'Oklahoma':'OK',\n",
        "        'Oregon':'OR',\n",
        "        'Pennsylvania':'PA',\n",
        "        'Puerto Rico':'PR',\n",
        "        'Rhode Island':'RI',\n",
        "        'South Carolina':'SC',\n",
        "        'South Dakota':'SD',\n",
        "        'Tennessee':'TN',\n",
        "        'Texas':'TX',\n",
        "        'Utah':'UT',\n",
        "        'Virginia':'VA',\n",
        "        'Vermont':'VT',\n",
        "        'Washington':'WA',\n",
        "        'Wisconsin':'WI',\n",
        "        'West Virginia':'WV',\n",
        "        'Wyoming':'WY' \n",
        "}\n",
        "\n",
        "## map states to regions \n",
        "regions = {\n",
        "        'AK': 'Other',\n",
        "        'AL': 'South',\n",
        "        'AR': 'South',\n",
        "        'AZ': 'West',\n",
        "        'CA': 'West Coast',\n",
        "        'CO': 'West',\n",
        "        'CT': 'North',\n",
        "        'DC': 'South',\n",
        "        'DE': 'North',\n",
        "        'FL': 'South',\n",
        "        'GA': 'South',\n",
        "        'HI': 'Other',\n",
        "        'IA': 'Midwest',\n",
        "        'ID': 'West',\n",
        "        'IL': 'Midwest',\n",
        "        'IN': 'Midwest',\n",
        "        'KS': 'Midwest',\n",
        "        'KY': 'South',\n",
        "        'LA': 'South',\n",
        "        'MA': 'North',\n",
        "        'MD': 'Mid-Atlantic',\n",
        "        'ME': 'North',\n",
        "        'MI': 'Midwest',\n",
        "        'MN': 'Midwest',\n",
        "        'MO': 'Midwest',\n",
        "        'MS': 'South',\n",
        "        'MT': 'West',\n",
        "        'NA': 'National',\n",
        "        'NC': 'South',\n",
        "        'ND': 'Midwest',\n",
        "        'NE': 'West',\n",
        "        'NH': 'North',\n",
        "        'NJ': 'North',\n",
        "        'NM': 'West',\n",
        "        'NV': 'West',\n",
        "        'NY': 'North',\n",
        "        'OH': 'Midwest',\n",
        "        'OK': 'South',\n",
        "        'OR': 'West Coast',\n",
        "        'PA': 'North',\n",
        "        'PR': 'Other',\n",
        "        'RI': 'North',\n",
        "        'SC': 'South',\n",
        "        'SD': 'Midwest',\n",
        "        'TN': 'South',\n",
        "        'TX': 'West',\n",
        "        'UT': 'West',\n",
        "        'VA': 'South',\n",
        "        'VT': 'North',\n",
        "        'WA': 'West Coast',\n",
        "        'WI': 'Midwest',\n",
        "        'WV': 'South',\n",
        "        'WY': 'West'\n",
        "}\n",
        "\n",
        "## map states to regions \n",
        "primary_method = {\n",
        "        'Automated Phone': 'Phone',\n",
        "        'Online': 'Online',\n",
        "        'Online/IVR': 'Hybrid',\n",
        "        'Online/Text': 'Hybrid',\n",
        "        'IVR/Live Phone': 'Hybrid',\n",
        "        'IVR/Text': 'Hybrid',\n",
        "        'IVR/Online': 'Hybrid',\n",
        "        'Live Phone/Online': 'Hybrid',\n",
        "        'Live Phone/Text': 'Hybrid',\n",
        "        'Live Phone': 'Phone',\n",
        "}\n",
        "\n",
        "primaryData['state'].fillna('National', inplace=True)\n",
        "## replace candidate names with their more common names\n",
        "primaryData = primaryData.replace('Bernard Sanders', 'Bernie Sanders')\n",
        "primaryData = primaryData.replace('Joseph R. Biden Jr.', 'Joe Biden')\n",
        "primaryData = primaryData.replace('Maine CD-1', 'Maine')\n",
        "primaryData = primaryData.replace('Maine CD-2', 'Maine')\n",
        "primaryData['state_abbrev'] = primaryData['state'].map(states)\n",
        "primaryData['region'] = primaryData['state_abbrev'].map(regions)\n",
        "primaryData['method_abbrev'] = primaryData['methodology'].map(primary_method)\n"
      ],
      "execution_count": 0,
      "outputs": []
    },
    {
      "cell_type": "code",
      "metadata": {
        "id": "og8aSAOwS57k",
        "colab_type": "code",
        "colab": {}
      },
      "source": [
        "primaryData.to_csv('primaryData.csv')"
      ],
      "execution_count": 0,
      "outputs": []
    },
    {
      "cell_type": "code",
      "metadata": {
        "id": "mit90m3Yxnux",
        "colab_type": "code",
        "colab": {}
      },
      "source": [
        "## count how many times each candidate won in h2h matchups: \n",
        "\n",
        "def makeC3(data):\n",
        "\n",
        "  ## calculate percentage of wins:\n",
        "  g = data.groupby(['candidate_name', 'state'])['winner']\n",
        "  percentage_wins = g.aggregate(lambda x: (x == 'YES').sum()) / g.size()\n",
        "\n",
        "  data=data.join(percentage_wins, on=['candidate_name', 'state'], how='left', rsuffix='_percentage')\n",
        "    \n",
        "  domain = [\"Bernie Sanders\", \"Pete Buttigieg\", \"Elizabeth Warren\", \"Joe Biden\"]\n",
        "  data= data[data['candidate_name'].isin(domain)]\n",
        "\n",
        "\n",
        "\n",
        "  selectCandidate=alt.selection_single(\n",
        "      fields=[\"candidate_name\"],#where our selection is based on\n",
        "      bind=alt.binding_select(\n",
        "          options=domain, \n",
        "          name=\"Select Candidate\") #drop down menu \n",
        "  )\n",
        "\n",
        "  c0 =alt.Chart(data).mark_bar().transform_filter(\n",
        "          (alt.datum.state==\"Iowa\")\n",
        "    ).encode(\n",
        "      alt.X('candidate_name:N', \n",
        "            title=\"\"),\n",
        "      alt.Y('winner_percentage:Q',\n",
        "            axis=alt.Axis(format='%'),\n",
        "            scale=alt.Scale(domain=(0,1)),\n",
        "            title='% of Times Candidate Beat Trump'),\n",
        "      alt.Color('candidate_name:N')\n",
        "      ).add_selection(selectCandidate).encode(opacity=alt.condition(selectCandidate,\n",
        "                                    alt.value(1),\n",
        "                                    alt.value(0)\n",
        "                                    )\n",
        "        ).properties(title=\"Iowa\")\n",
        "\n",
        "  c1 =alt.Chart(data).mark_bar().transform_filter(\n",
        "          (alt.datum.state==\"New Hampshire\")\n",
        "    ).encode(\n",
        "      alt.X('candidate_name:N', \n",
        "            title=\"\"),\n",
        "      alt.Y('winner_percentage:Q',\n",
        "            axis=alt.Axis(format='%'),\n",
        "            title=''),\n",
        "      alt.Color('candidate_name:N')\n",
        "      ).add_selection(selectCandidate).encode(opacity=alt.condition(selectCandidate,\n",
        "                                    alt.value(1),\n",
        "                                    alt.value(0)\n",
        "                                    )\n",
        "        ).properties(title=\"New Hampshire\")\n",
        "\n",
        "  c2=alt.Chart(data).mark_bar().transform_filter(\n",
        "          (alt.datum.state==\"Nevada\")\n",
        "    ).encode(\n",
        "      alt.X('candidate_name:N', \n",
        "            title=\"\"),\n",
        "      alt.Y('winner_percentage:Q',\n",
        "            title='',\n",
        "            axis=alt.Axis(format='%'),\n",
        "            scale=alt.Scale(domain=(0, 1))),\n",
        "      alt.Color('candidate_name:N')\n",
        "      ).add_selection(selectCandidate).encode(opacity=alt.condition(selectCandidate,\n",
        "                                    alt.value(1),\n",
        "                                    alt.value(0)\n",
        "                                    )\n",
        "        ).properties(title=\"Nevada\")\n",
        "    \n",
        "  c3=alt.Chart(data).mark_bar().transform_filter(\n",
        "          (alt.datum.state==\"National\")\n",
        "    ).encode(\n",
        "      alt.X('candidate_name:N', \n",
        "            title=\"\"),\n",
        "      alt.Y('winner_percentage:Q',\n",
        "            axis=alt.Axis(format='%'),\n",
        "            title=''),\n",
        "             alt.Color('candidate_name:N', title='Dem. Candidate')).add_selection(selectCandidate).encode(opacity=alt.condition(selectCandidate,\n",
        "                                    alt.value(1),\n",
        "                                    alt.value(0)\n",
        "                                    )\n",
        "        ).properties(title=\"National\")\n",
        "  #return c1\n",
        "  \n",
        "  return alt.hconcat(c0|c1|c2|c3).resolve_axis(\"shared\").properties(title=\"Democratic Candidates' Average Favorability (vs. Donald Trump)\")\n",
        "\n",
        "\n",
        "c3 = makeC3(primaryData)\n",
        "c3\n",
        "\n",
        "\n",
        "## TO DO: make sure that this explicitly says compared to Trump! \n",
        "\n",
        "## how many times do they beat trump? (group by end_date)\n",
        "### add error bars \n",
        "c3.save('nh_nv_national_chart.json')\n"
      ],
      "execution_count": 0,
      "outputs": []
    },
    {
      "cell_type": "code",
      "metadata": {
        "id": "BWrplLhkOGEB",
        "colab_type": "code",
        "colab": {}
      },
      "source": [
        "### does the method of polling show different electability among the Dem candidates? \n",
        "def makeC4(data):\n",
        "  # make the first chart. The size of the point\n",
        "  # will change based on the slider\n",
        "\n",
        "  \n",
        "  domain = [\"Bernie Sanders\", \"Pete Buttigieg\", \"Elizabeth Warren\", \"Joe Biden\"]\n",
        "  data= data[data['candidate_name'].isin(domain)]\n",
        "\n",
        "  data =data[~data['methodology'].isnull()]\n",
        "  data =data[data['region'].notna()]\n",
        "\n",
        "  methods = list(data[\"region\"].unique())\n",
        "\n",
        "\n",
        "  selectRegion=alt.selection_single(\n",
        "      fields=[\"region\"],#where our selection is based on\n",
        "      bind=alt.binding_select(\n",
        "          options=methods, \n",
        "          name=\"Select Region\") #drop down menu \n",
        "  )\n",
        "\n",
        "  c1=alt.Chart(data).mark_point(filled=True).transform_filter(\n",
        "      alt.FieldOneOfPredicate(field='candidate_name', oneOf=['Bernie Sanders', 'Elizabeth Warren'])\n",
        "                                                              ).transform_joinaggregate(\n",
        "      mean_pct = 'mean(pct)',\n",
        "      groupby=['region', 'methodology']\n",
        "  ).encode(\n",
        "      alt.X('methodology', title=\"\"),\n",
        "      alt.Y('mean_pct:Q', title=\"Average Polling % Results\"),\n",
        "      alt.Color('region:N',title=\"Region\"),\n",
        "      column=alt.Column('candidate_name:N', title=\"Democratic Candidate\"),\n",
        "      tooltip=['pollster:N', 'sample_size']\n",
        "      ).add_selection(selectRegion).encode(opacity=alt.condition(selectRegion,\n",
        "                                  alt.value(1),\n",
        "                                  alt.value(0)\n",
        "                                  )\n",
        "      ).properties(title=\"Average Poll Results % by Method and U.S. Region\", \n",
        "                   height=150, \n",
        "                   width=200).interactive()\n",
        "      \n",
        "  c2=alt.Chart(data).mark_point(filled=True).transform_filter(\n",
        "      alt.FieldOneOfPredicate(field='candidate_name', oneOf=['Joe Biden', 'Pete Buttigieg'])\n",
        "                                                              ).transform_joinaggregate(\n",
        "      mean_pct = 'mean(pct)',\n",
        "      groupby=['region', 'methodology']\n",
        "  ).encode(\n",
        "      alt.X('methodology', title=\"Polling Method\"),\n",
        "      alt.Y('mean_pct:Q', title=\"Average Polling % Results\"),\n",
        "      alt.Color('region:N',title=\"Region\"),\n",
        "      column=alt.Column('candidate_name:N', title=\"\"),\n",
        "      tooltip=['pollster:N', 'sample_size']\n",
        "      ).add_selection(selectRegion).encode(opacity=alt.condition(selectRegion,\n",
        "                                  alt.value(1),\n",
        "                                  alt.value(0)\n",
        "                                  )\n",
        "      ).properties(height=150, \n",
        "                   width=200).interactive()\n",
        "\n",
        "  return c1& c2\n",
        "  # c2 =alt.Chart(data).mark_line().transform_filter(\n",
        "  #           (alt.datum.state==\"New Hampshire\")\n",
        "  #     ).encode(\n",
        "  #       x='end_date:T',\n",
        "  #       y='mean(pct):Q',\n",
        "  #       color=\"candidate_name:N\").add_selection(selectCandidate).encode(opacity=alt.condition(selectCandidate,\n",
        "  #                                   alt.value(1),\n",
        "  #                                   alt.value(0)\n",
        "  #                                   )\n",
        "  #       ).properties(title=\"Polling Average % General Election Support in New Hampshire\")\n",
        "\n",
        "  # return c1|c2\n",
        "    \n",
        "\n",
        "c4 = makeC4(primaryData)\n",
        "c4\n",
        "c4.save('candidate_by_poll_method.json')\n",
        "## to do - group colors by IVR/Live Phone/Online instead of the sub methods\n"
      ],
      "execution_count": 0,
      "outputs": []
    },
    {
      "cell_type": "code",
      "metadata": {
        "colab_type": "code",
        "id": "aNsKh8tv4Ldr",
        "colab": {}
      },
      "source": [
        "#1.3 get c3\n",
        "\n",
        "#       )\n",
        "### does the method of polling show different electability among the Dem candidates? \n",
        "def makeC5(data):\n",
        "#   # make the first chart. The size of the point\n",
        "#   # will change based on the slider\n",
        "\n",
        "  domain = [\"Donald Trump\"]\n",
        "\n",
        "  data= data[data['candidate_name'].isin(domain)].drop_duplicates()\n",
        "  data =data[data['region'].notna()]\n",
        "\n",
        "  data['national_poll'] = data['region'].apply(lambda x: 'Yes' if x == 'National' else 'No')\n",
        "\n",
        "  ## set up region selection menu: \n",
        "  regions = list(data['region'].unique())\n",
        "  regions.remove('National')\n",
        "  \n",
        "  sortRegions = ['National','North','Midwest','South','West', 'West Coast','Other']\n",
        "\n",
        "  palette = alt.Scale(domain=sortRegions,\n",
        "                  range=['#adadad', '#008b8b', '#b846b8','#ed64b6','olive', 'green','orange'])\n",
        "  \n",
        "\n",
        "\n",
        "  selectRegion=alt.selection_single(\n",
        "        fields=[\"region\"],#where our selection is based on\n",
        "        bind=alt.binding_select(\n",
        "            options=regions, \n",
        "            name=\"Select Region\") #drop down menu \n",
        "    )\n",
        "  \n",
        "\n",
        "  c = alt.Chart(data).transform_joinaggregate(\n",
        "      mean_pct = 'mean(pct)',\n",
        "      groupby=['pollster', 'state', 'end_date']\n",
        "  )\n",
        "  c0 = c.mark_errorbar(extent='stdev').encode(\n",
        "      alt.X('end_date:T', title=\"Poll End Date\"),\n",
        "      y='mean_pct:Q',\n",
        "      color='region:N'\n",
        "      )\n",
        "\n",
        "\n",
        "  c1 = c.transform_filter(alt.datum.region!=\"National\").mark_circle().encode(\n",
        "      alt.X('end_date:T', title=\"Poll End Date\"),\n",
        "      alt.Y('mean_pct:Q', title=\"Mean % Favorability\"),\n",
        "      alt.Color('region:N', scale=palette,\n",
        "                sort=sortRegions, title=\"U.S. Region\"),\n",
        "       tooltip=['state:N','pollster:N']\n",
        "      ).add_selection(selectRegion).encode(opacity=alt.condition(selectRegion,\n",
        "                                    alt.value(1),\n",
        "                                    alt.value(0)\n",
        "                                    )\n",
        "        ).properties(\n",
        "          title=\"Donald Trump's General Election Favorability by Region\")\n",
        "  \n",
        "  ## set up radio for national polls\n",
        "  national_domain = list(data['national_poll'].unique())\n",
        "  selectNational =alt.selection_single(\n",
        "    fields=['national_poll'],\n",
        "    init={\n",
        "        \"national_poll\":national_domain[0]\n",
        "        },\n",
        "    bind=alt.binding_radio(\n",
        "        options=national_domain,\n",
        "        name=\"Show National Results?\"\n",
        "    )\n",
        "  )\n",
        "\n",
        "  c2 = alt.Chart(data).mark_circle().transform_filter(alt.datum.state==\"National\").transform_joinaggregate(\n",
        "        mean_pct = 'mean(pct)',\n",
        "        std_pct = 'stdev(pct)',\n",
        "        groupby=['pollster', 'end_date']\n",
        "    ).encode(\n",
        "        alt.X('yearmonthdate(end_date):T', title=\"Poll End Date\"),\n",
        "        alt.Y('mean_pct:Q',title=\"\"),\n",
        "        alt.Color('region:N', scale=alt.Scale(range=['red'])),\n",
        "        tooltip=['state:N','pollster:N']\n",
        "        ).add_selection(selectNational).encode(opacity=alt.condition(selectNational,\n",
        "                                      alt.value(1),\n",
        "                                      alt.value(0)\n",
        "                                      )\n",
        "          ).properties(\n",
        "            title=\"Donald Trump's General Election Favorability by Region\").interactive()\n",
        "\n",
        "   \n",
        "      \n",
        "  return c1+c2\n",
        "\n",
        "#   #states = list(data[\"state\"].unique()\n",
        "\n",
        "# # #step2\n",
        "#   c1=alt.Chart(data).mark_point(filled=True).encode(\n",
        "#       x='end_date:T',\n",
        "#       y='pct:Q',\n",
        "#       color='region:N',\n",
        "#       ).properties(title=\"General Election Favorability by Region\")\n",
        "      \n",
        "#   \n",
        "\n",
        "## TO DO: get average by poll_id and then create error bars \n",
        "\n",
        "\n",
        "c5 = makeC5(primaryData)\n",
        "c5\n",
        "c5.save('trump_regional_favorability.json')"
      ],
      "execution_count": 0,
      "outputs": []
    },
    {
      "cell_type": "code",
      "metadata": {
        "id": "qZ94IAd91KFr",
        "colab_type": "code",
        "colab": {}
      },
      "source": [
        ""
      ],
      "execution_count": 0,
      "outputs": []
    },
    {
      "cell_type": "code",
      "metadata": {
        "id": "IQj0SvlddDic",
        "colab_type": "code",
        "colab": {}
      },
      "source": [
        ""
      ],
      "execution_count": 0,
      "outputs": []
    },
    {
      "cell_type": "code",
      "metadata": {
        "id": "1ND2sQFr5dTo",
        "colab_type": "code",
        "colab": {}
      },
      "source": [
        ""
      ],
      "execution_count": 0,
      "outputs": []
    },
    {
      "cell_type": "markdown",
      "metadata": {
        "id": "OBEH4nldOlua",
        "colab_type": "text"
      },
      "source": [
        "## 2. Export to images\n",
        "export to png and svg "
      ]
    },
    {
      "cell_type": "code",
      "metadata": {
        "id": "7c1JmjzuOZnU",
        "colab_type": "code",
        "colab": {}
      },
      "source": [
        "#2.1 can export to ['png', 'svg']\n",
        "c3.save(\"chart.png\")\n",
        "c3.save(\"chart.svg\")\n"
      ],
      "execution_count": 0,
      "outputs": []
    },
    {
      "cell_type": "markdown",
      "metadata": {
        "id": "njnSIeT9Sv5X",
        "colab_type": "text"
      },
      "source": [
        "If you have errors related to selenium and chromedriver, run the following command and solve the \"version of Google Chrome and Chromium Browser don't match\" error  "
      ]
    },
    {
      "cell_type": "code",
      "metadata": {
        "id": "i2l61GbYRxEh",
        "colab_type": "code",
        "outputId": "52181492-b6ab-433a-a772-9d08707363c5",
        "colab": {
          "base_uri": "https://localhost:8080/",
          "height": 887
        }
      },
      "source": [
        "# 2.2 \n",
        "# apt-get update\n",
        "!apt install chromium-chromedriver\n",
        "!cp /usr/lib/chromium-browser/chromedriver /usr/bin\n",
        "!pip install selenium"
      ],
      "execution_count": 0,
      "outputs": [
        {
          "output_type": "stream",
          "text": [
            "Reading package lists... Done\n",
            "Building dependency tree       \n",
            "Reading state information... Done\n",
            "The following package was automatically installed and is no longer required:\n",
            "  libnvidia-common-430\n",
            "Use 'apt autoremove' to remove it.\n",
            "The following additional packages will be installed:\n",
            "  chromium-browser chromium-browser-l10n chromium-codecs-ffmpeg-extra\n",
            "Suggested packages:\n",
            "  webaccounts-chromium-extension unity-chromium-extension adobe-flashplugin\n",
            "The following NEW packages will be installed:\n",
            "  chromium-browser chromium-browser-l10n chromium-chromedriver\n",
            "  chromium-codecs-ffmpeg-extra\n",
            "0 upgraded, 4 newly installed, 0 to remove and 25 not upgraded.\n",
            "Need to get 72.7 MB of archives.\n",
            "After this operation, 259 MB of additional disk space will be used.\n",
            "Get:1 http://archive.ubuntu.com/ubuntu bionic-updates/universe amd64 chromium-codecs-ffmpeg-extra amd64 79.0.3945.130-0ubuntu0.18.04.1 [1,078 kB]\n",
            "Get:2 http://archive.ubuntu.com/ubuntu bionic-updates/universe amd64 chromium-browser amd64 79.0.3945.130-0ubuntu0.18.04.1 [64.6 MB]\n",
            "Get:3 http://archive.ubuntu.com/ubuntu bionic-updates/universe amd64 chromium-browser-l10n all 79.0.3945.130-0ubuntu0.18.04.1 [3,093 kB]\n",
            "Get:4 http://archive.ubuntu.com/ubuntu bionic-updates/universe amd64 chromium-chromedriver amd64 79.0.3945.130-0ubuntu0.18.04.1 [3,977 kB]\n",
            "Fetched 72.7 MB in 9s (7,671 kB/s)\n",
            "Selecting previously unselected package chromium-codecs-ffmpeg-extra.\n",
            "(Reading database ... 134443 files and directories currently installed.)\n",
            "Preparing to unpack .../chromium-codecs-ffmpeg-extra_79.0.3945.130-0ubuntu0.18.04.1_amd64.deb ...\n",
            "Unpacking chromium-codecs-ffmpeg-extra (79.0.3945.130-0ubuntu0.18.04.1) ...\n",
            "Selecting previously unselected package chromium-browser.\n",
            "Preparing to unpack .../chromium-browser_79.0.3945.130-0ubuntu0.18.04.1_amd64.deb ...\n",
            "Unpacking chromium-browser (79.0.3945.130-0ubuntu0.18.04.1) ...\n",
            "Selecting previously unselected package chromium-browser-l10n.\n",
            "Preparing to unpack .../chromium-browser-l10n_79.0.3945.130-0ubuntu0.18.04.1_all.deb ...\n",
            "Unpacking chromium-browser-l10n (79.0.3945.130-0ubuntu0.18.04.1) ...\n",
            "Selecting previously unselected package chromium-chromedriver.\n",
            "Preparing to unpack .../chromium-chromedriver_79.0.3945.130-0ubuntu0.18.04.1_amd64.deb ...\n",
            "Unpacking chromium-chromedriver (79.0.3945.130-0ubuntu0.18.04.1) ...\n",
            "Setting up chromium-codecs-ffmpeg-extra (79.0.3945.130-0ubuntu0.18.04.1) ...\n",
            "Setting up chromium-browser (79.0.3945.130-0ubuntu0.18.04.1) ...\n",
            "update-alternatives: using /usr/bin/chromium-browser to provide /usr/bin/x-www-browser (x-www-browser) in auto mode\n",
            "update-alternatives: using /usr/bin/chromium-browser to provide /usr/bin/gnome-www-browser (gnome-www-browser) in auto mode\n",
            "Setting up chromium-chromedriver (79.0.3945.130-0ubuntu0.18.04.1) ...\n",
            "Setting up chromium-browser-l10n (79.0.3945.130-0ubuntu0.18.04.1) ...\n",
            "Processing triggers for hicolor-icon-theme (0.17-2) ...\n",
            "Processing triggers for mime-support (3.60ubuntu1) ...\n",
            "Processing triggers for man-db (2.8.3-2ubuntu0.1) ...\n",
            "cp: '/usr/lib/chromium-browser/chromedriver' and '/usr/bin/chromedriver' are the same file\n",
            "Collecting selenium\n",
            "\u001b[?25l  Downloading https://files.pythonhosted.org/packages/80/d6/4294f0b4bce4de0abf13e17190289f9d0613b0a44e5dd6a7f5ca98459853/selenium-3.141.0-py2.py3-none-any.whl (904kB)\n",
            "\u001b[K     |████████████████████████████████| 911kB 2.7MB/s \n",
            "\u001b[?25hRequirement already satisfied: urllib3 in /usr/local/lib/python3.6/dist-packages (from selenium) (1.24.3)\n",
            "Installing collected packages: selenium\n",
            "Successfully installed selenium-3.141.0\n"
          ],
          "name": "stdout"
        }
      ]
    },
    {
      "cell_type": "markdown",
      "metadata": {
        "id": "3S3AMFlITOhr",
        "colab_type": "text"
      },
      "source": [
        "## 3.Export to json "
      ]
    },
    {
      "cell_type": "code",
      "metadata": {
        "id": "P6N65IdoW5Zo",
        "colab_type": "code",
        "outputId": "3804cab3-dd80-4b19-c030-fe8e7e31f855",
        "colab": {
          "base_uri": "https://localhost:8080/",
          "height": 54
        }
      },
      "source": [
        "#3.1\n",
        "c3.to_json()"
      ],
      "execution_count": 0,
      "outputs": [
        {
          "output_type": "execute_result",
          "data": {
            "text/plain": [
              "'{\\n  \"$schema\": \"https://vega.github.io/schema/vega-lite/v4.0.2.json\",\\n  \"config\": {\\n    \"view\": {\\n      \"continuousHeight\": 300,\\n      \"continuousWidth\": 400\\n    }\\n  },\\n  \"data\": {\\n    \"name\": \"data-8e25068d8b9a578f41a59c91e539d690\"\\n  },\\n  \"datasets\": {\\n    \"data-8e25068d8b9a578f41a59c91e539d690\": [\\n      {\\n        \"Acceleration\": 12.0,\\n        \"Cylinders\": 8,\\n        \"Displacement\": 307.0,\\n        \"Horsepower\": 130.0,\\n        \"Miles_per_Gallon\": 18.0,\\n        \"Name\": \"chevrolet chevelle malibu\",\\n        \"Origin\": \"USA\",\\n        \"Weight_in_lbs\": 3504,\\n        \"Year\": \"1970-01-01\"\\n      },\\n      {\\n        \"Acceleration\": 11.5,\\n        \"Cylinders\": 8,\\n        \"Displacement\": 350.0,\\n        \"Horsepower\": 165.0,\\n        \"Miles_per_Gallon\": 15.0,\\n        \"Name\": \"buick skylark 320\",\\n        \"Origin\": \"USA\",\\n        \"Weight_in_lbs\": 3693,\\n        \"Year\": \"1970-01-01\"\\n      },\\n      {\\n        \"Acceleration\": 11.0,\\n        \"Cylinders\": 8,\\n        \"Displacement\": 318.0,\\n        \"Horsepower\": 150.0,\\n        \"Miles_per_Gallon\": 18.0,\\n        \"Name\": \"plymouth satellite\",\\n        \"Origin\": \"USA\",\\n        \"Weight_in_lbs\": 3436,\\n        \"Year\": \"1970-01-01\"\\n      },\\n      {\\n        \"Acceleration\": 12.0,\\n        \"Cylinders\": 8,\\n        \"Displacement\": 304.0,\\n        \"Horsepower\": 150.0,\\n        \"Miles_per_Gallon\": 16.0,\\n        \"Name\": \"amc rebel sst\",\\n        \"Origin\": \"USA\",\\n        \"Weight_in_lbs\": 3433,\\n        \"Year\": \"1970-01-01\"\\n      },\\n      {\\n        \"Acceleration\": 10.5,\\n        \"Cylinders\": 8,\\n        \"Displacement\": 302.0,\\n        \"Horsepower\": 140.0,\\n        \"Miles_per_Gallon\": 17.0,\\n        \"Name\": \"ford torino\",\\n        \"Origin\": \"USA\",\\n        \"Weight_in_lbs\": 3449,\\n        \"Year\": \"1970-01-01\"\\n      },\\n      {\\n        \"Acceleration\": 10.0,\\n        \"Cylinders\": 8,\\n        \"Displacement\": 429.0,\\n        \"Horsepower\": 198.0,\\n        \"Miles_per_Gallon\": 15.0,\\n        \"Name\": \"ford galaxie 500\",\\n        \"Origin\": \"USA\",\\n        \"Weight_in_lbs\": 4341,\\n        \"Year\": \"1970-01-01\"\\n      },\\n      {\\n        \"Acceleration\": 9.0,\\n        \"Cylinders\": 8,\\n        \"Displacement\": 454.0,\\n        \"Horsepower\": 220.0,\\n        \"Miles_per_Gallon\": 14.0,\\n        \"Name\": \"chevrolet impala\",\\n        \"Origin\": \"USA\",\\n        \"Weight_in_lbs\": 4354,\\n        \"Year\": \"1970-01-01\"\\n      },\\n      {\\n        \"Acceleration\": 8.5,\\n        \"Cylinders\": 8,\\n        \"Displacement\": 440.0,\\n        \"Horsepower\": 215.0,\\n        \"Miles_per_Gallon\": 14.0,\\n        \"Name\": \"plymouth fury iii\",\\n        \"Origin\": \"USA\",\\n        \"Weight_in_lbs\": 4312,\\n        \"Year\": \"1970-01-01\"\\n      },\\n      {\\n        \"Acceleration\": 10.0,\\n        \"Cylinders\": 8,\\n        \"Displacement\": 455.0,\\n        \"Horsepower\": 225.0,\\n        \"Miles_per_Gallon\": 14.0,\\n        \"Name\": \"pontiac catalina\",\\n        \"Origin\": \"USA\",\\n        \"Weight_in_lbs\": 4425,\\n        \"Year\": \"1970-01-01\"\\n      },\\n      {\\n        \"Acceleration\": 8.5,\\n        \"Cylinders\": 8,\\n        \"Displacement\": 390.0,\\n        \"Horsepower\": 190.0,\\n        \"Miles_per_Gallon\": 15.0,\\n        \"Name\": \"amc ambassador dpl\",\\n        \"Origin\": \"USA\",\\n        \"Weight_in_lbs\": 3850,\\n        \"Year\": \"1970-01-01\"\\n      },\\n      {\\n        \"Acceleration\": 17.5,\\n        \"Cylinders\": 4,\\n        \"Displacement\": 133.0,\\n        \"Horsepower\": 115.0,\\n        \"Miles_per_Gallon\": null,\\n        \"Name\": \"citroen ds-21 pallas\",\\n        \"Origin\": \"Europe\",\\n        \"Weight_in_lbs\": 3090,\\n        \"Year\": \"1970-01-01\"\\n      },\\n      {\\n        \"Acceleration\": 11.5,\\n        \"Cylinders\": 8,\\n        \"Displacement\": 350.0,\\n        \"Horsepower\": 165.0,\\n        \"Miles_per_Gallon\": null,\\n        \"Name\": \"chevrolet chevelle concours (sw)\",\\n        \"Origin\": \"USA\",\\n        \"Weight_in_lbs\": 4142,\\n        \"Year\": \"1970-01-01\"\\n      },\\n      {\\n        \"Acceleration\": 11.0,\\n        \"Cylinders\": 8,\\n        \"Displacement\": 351.0,\\n        \"Horsepower\": 153.0,\\n        \"Miles_per_Gallon\": null,\\n        \"Name\": \"ford torino (sw)\",\\n        \"Origin\": \"USA\",\\n        \"Weight_in_lbs\": 4034,\\n        \"Year\": \"1970-01-01\"\\n      },\\n      {\\n        \"Acceleration\": 10.5,\\n        \"Cylinders\": 8,\\n        \"Displacement\": 383.0,\\n        \"Horsepower\": 175.0,\\n        \"Miles_per_Gallon\": null,\\n        \"Name\": \"plymouth satellite (sw)\",\\n        \"Origin\": \"USA\",\\n        \"Weight_in_lbs\": 4166,\\n        \"Year\": \"1970-01-01\"\\n      },\\n      {\\n        \"Acceleration\": 11.0,\\n        \"Cylinders\": 8,\\n        \"Displacement\": 360.0,\\n        \"Horsepower\": 175.0,\\n        \"Miles_per_Gallon\": null,\\n        \"Name\": \"amc rebel sst (sw)\",\\n        \"Origin\": \"USA\",\\n        \"Weight_in_lbs\": 3850,\\n        \"Year\": \"1970-01-01\"\\n      },\\n      {\\n        \"Acceleration\": 10.0,\\n        \"Cylinders\": 8,\\n        \"Displacement\": 383.0,\\n        \"Horsepower\": 170.0,\\n        \"Miles_per_Gallon\": 15.0,\\n        \"Name\": \"dodge challenger se\",\\n        \"Origin\": \"USA\",\\n        \"Weight_in_lbs\": 3563,\\n        \"Year\": \"1970-01-01\"\\n      },\\n      {\\n        \"Acceleration\": 8.0,\\n        \"Cylinders\": 8,\\n        \"Displacement\": 340.0,\\n        \"Horsepower\": 160.0,\\n        \"Miles_per_Gallon\": 14.0,\\n        \"Name\": \"plymouth \\'cuda 340\",\\n        \"Origin\": \"USA\",\\n        \"Weight_in_lbs\": 3609,\\n        \"Year\": \"1970-01-01\"\\n      },\\n      {\\n        \"Acceleration\": 8.0,\\n        \"Cylinders\": 8,\\n        \"Displacement\": 302.0,\\n        \"Horsepower\": 140.0,\\n        \"Miles_per_Gallon\": null,\\n        \"Name\": \"ford mustang boss 302\",\\n        \"Origin\": \"USA\",\\n        \"Weight_in_lbs\": 3353,\\n        \"Year\": \"1970-01-01\"\\n      },\\n      {\\n        \"Acceleration\": 9.5,\\n        \"Cylinders\": 8,\\n        \"Displacement\": 400.0,\\n        \"Horsepower\": 150.0,\\n        \"Miles_per_Gallon\": 15.0,\\n        \"Name\": \"chevrolet monte carlo\",\\n        \"Origin\": \"USA\",\\n        \"Weight_in_lbs\": 3761,\\n        \"Year\": \"1970-01-01\"\\n      },\\n      {\\n        \"Acceleration\": 10.0,\\n        \"Cylinders\": 8,\\n        \"Displacement\": 455.0,\\n        \"Horsepower\": 225.0,\\n        \"Miles_per_Gallon\": 14.0,\\n        \"Name\": \"buick estate wagon (sw)\",\\n        \"Origin\": \"USA\",\\n        \"Weight_in_lbs\": 3086,\\n        \"Year\": \"1970-01-01\"\\n      },\\n      {\\n        \"Acceleration\": 15.0,\\n        \"Cylinders\": 4,\\n        \"Displacement\": 113.0,\\n        \"Horsepower\": 95.0,\\n        \"Miles_per_Gallon\": 24.0,\\n        \"Name\": \"toyota corona mark ii\",\\n        \"Origin\": \"Japan\",\\n        \"Weight_in_lbs\": 2372,\\n        \"Year\": \"1970-01-01\"\\n      },\\n      {\\n        \"Acceleration\": 15.5,\\n        \"Cylinders\": 6,\\n        \"Displacement\": 198.0,\\n        \"Horsepower\": 95.0,\\n        \"Miles_per_Gallon\": 22.0,\\n        \"Name\": \"plymouth duster\",\\n        \"Origin\": \"USA\",\\n        \"Weight_in_lbs\": 2833,\\n        \"Year\": \"1970-01-01\"\\n      },\\n      {\\n        \"Acceleration\": 15.5,\\n        \"Cylinders\": 6,\\n        \"Displacement\": 199.0,\\n        \"Horsepower\": 97.0,\\n        \"Miles_per_Gallon\": 18.0,\\n        \"Name\": \"amc hornet\",\\n        \"Origin\": \"USA\",\\n        \"Weight_in_lbs\": 2774,\\n        \"Year\": \"1970-01-01\"\\n      },\\n      {\\n        \"Acceleration\": 16.0,\\n        \"Cylinders\": 6,\\n        \"Displacement\": 200.0,\\n        \"Horsepower\": 85.0,\\n        \"Miles_per_Gallon\": 21.0,\\n        \"Name\": \"ford maverick\",\\n        \"Origin\": \"USA\",\\n        \"Weight_in_lbs\": 2587,\\n        \"Year\": \"1970-01-01\"\\n      },\\n      {\\n        \"Acceleration\": 14.5,\\n        \"Cylinders\": 4,\\n        \"Displacement\": 97.0,\\n        \"Horsepower\": 88.0,\\n        \"Miles_per_Gallon\": 27.0,\\n        \"Name\": \"datsun pl510\",\\n        \"Origin\": \"Japan\",\\n        \"Weight_in_lbs\": 2130,\\n        \"Year\": \"1970-01-01\"\\n      },\\n      {\\n        \"Acceleration\": 20.5,\\n        \"Cylinders\": 4,\\n        \"Displacement\": 97.0,\\n        \"Horsepower\": 46.0,\\n        \"Miles_per_Gallon\": 26.0,\\n        \"Name\": \"volkswagen 1131 deluxe sedan\",\\n        \"Origin\": \"Europe\",\\n        \"Weight_in_lbs\": 1835,\\n        \"Year\": \"1970-01-01\"\\n      },\\n      {\\n        \"Acceleration\": 17.5,\\n        \"Cylinders\": 4,\\n        \"Displacement\": 110.0,\\n        \"Horsepower\": 87.0,\\n        \"Miles_per_Gallon\": 25.0,\\n        \"Name\": \"peugeot 504\",\\n        \"Origin\": \"Europe\",\\n        \"Weight_in_lbs\": 2672,\\n        \"Year\": \"1970-01-01\"\\n      },\\n      {\\n        \"Acceleration\": 14.5,\\n        \"Cylinders\": 4,\\n        \"Displacement\": 107.0,\\n        \"Horsepower\": 90.0,\\n        \"Miles_per_Gallon\": 24.0,\\n        \"Name\": \"audi 100 ls\",\\n        \"Origin\": \"Europe\",\\n        \"Weight_in_lbs\": 2430,\\n        \"Year\": \"1970-01-01\"\\n      },\\n      {\\n        \"Acceleration\": 17.5,\\n        \"Cylinders\": 4,\\n        \"Displacement\": 104.0,\\n        \"Horsepower\": 95.0,\\n        \"Miles_per_Gallon\": 25.0,\\n        \"Name\": \"saab 99e\",\\n        \"Origin\": \"Europe\",\\n        \"Weight_in_lbs\": 2375,\\n        \"Year\": \"1970-01-01\"\\n      },\\n      {\\n        \"Acceleration\": 12.5,\\n        \"Cylinders\": 4,\\n        \"Displacement\": 121.0,\\n        \"Horsepower\": 113.0,\\n        \"Miles_per_Gallon\": 26.0,\\n        \"Name\": \"bmw 2002\",\\n        \"Origin\": \"Europe\",\\n        \"Weight_in_lbs\": 2234,\\n        \"Year\": \"1970-01-01\"\\n      },\\n      {\\n        \"Acceleration\": 15.0,\\n        \"Cylinders\": 6,\\n        \"Displacement\": 199.0,\\n        \"Horsepower\": 90.0,\\n        \"Miles_per_Gallon\": 21.0,\\n        \"Name\": \"amc gremlin\",\\n        \"Origin\": \"USA\",\\n        \"Weight_in_lbs\": 2648,\\n        \"Year\": \"1970-01-01\"\\n      },\\n      {\\n        \"Acceleration\": 14.0,\\n        \"Cylinders\": 8,\\n        \"Displacement\": 360.0,\\n        \"Horsepower\": 215.0,\\n        \"Miles_per_Gallon\": 10.0,\\n        \"Name\": \"ford f250\",\\n        \"Origin\": \"USA\",\\n        \"Weight_in_lbs\": 4615,\\n        \"Year\": \"1970-01-01\"\\n      },\\n      {\\n        \"Acceleration\": 15.0,\\n        \"Cylinders\": 8,\\n        \"Displacement\": 307.0,\\n        \"Horsepower\": 200.0,\\n        \"Miles_per_Gallon\": 10.0,\\n        \"Name\": \"chevy c20\",\\n        \"Origin\": \"USA\",\\n        \"Weight_in_lbs\": 4376,\\n        \"Year\": \"1970-01-01\"\\n      },\\n      {\\n        \"Acceleration\": 13.5,\\n        \"Cylinders\": 8,\\n        \"Displacement\": 318.0,\\n        \"Horsepower\": 210.0,\\n        \"Miles_per_Gallon\": 11.0,\\n        \"Name\": \"dodge d200\",\\n        \"Origin\": \"USA\",\\n        \"Weight_in_lbs\": 4382,\\n        \"Year\": \"1970-01-01\"\\n      },\\n      {\\n        \"Acceleration\": 18.5,\\n        \"Cylinders\": 8,\\n        \"Displacement\": 304.0,\\n        \"Horsepower\": 193.0,\\n        \"Miles_per_Gallon\": 9.0,\\n        \"Name\": \"hi 1200d\",\\n        \"Origin\": \"USA\",\\n        \"Weight_in_lbs\": 4732,\\n        \"Year\": \"1970-01-01\"\\n      },\\n      {\\n        \"Acceleration\": 14.5,\\n        \"Cylinders\": 4,\\n        \"Displacement\": 97.0,\\n        \"Horsepower\": 88.0,\\n        \"Miles_per_Gallon\": 27.0,\\n        \"Name\": \"datsun pl510\",\\n        \"Origin\": \"Japan\",\\n        \"Weight_in_lbs\": 2130,\\n        \"Year\": \"1971-01-01\"\\n      },\\n      {\\n        \"Acceleration\": 15.5,\\n        \"Cylinders\": 4,\\n        \"Displacement\": 140.0,\\n        \"Horsepower\": 90.0,\\n        \"Miles_per_Gallon\": 28.0,\\n        \"Name\": \"chevrolet vega 2300\",\\n        \"Origin\": \"USA\",\\n        \"Weight_in_lbs\": 2264,\\n        \"Year\": \"1971-01-01\"\\n      },\\n      {\\n        \"Acceleration\": 14.0,\\n        \"Cylinders\": 4,\\n        \"Displacement\": 113.0,\\n        \"Horsepower\": 95.0,\\n        \"Miles_per_Gallon\": 25.0,\\n        \"Name\": \"toyota corona\",\\n        \"Origin\": \"Japan\",\\n        \"Weight_in_lbs\": 2228,\\n        \"Year\": \"1971-01-01\"\\n      },\\n      {\\n        \"Acceleration\": 19.0,\\n        \"Cylinders\": 4,\\n        \"Displacement\": 98.0,\\n        \"Horsepower\": null,\\n        \"Miles_per_Gallon\": 25.0,\\n        \"Name\": \"ford pinto\",\\n        \"Origin\": \"USA\",\\n        \"Weight_in_lbs\": 2046,\\n        \"Year\": \"1971-01-01\"\\n      },\\n      {\\n        \"Acceleration\": 20.0,\\n        \"Cylinders\": 4,\\n        \"Displacement\": 97.0,\\n        \"Horsepower\": 48.0,\\n        \"Miles_per_Gallon\": null,\\n        \"Name\": \"volkswagen super beetle 117\",\\n        \"Origin\": \"Europe\",\\n        \"Weight_in_lbs\": 1978,\\n        \"Year\": \"1971-01-01\"\\n      },\\n      {\\n        \"Acceleration\": 13.0,\\n        \"Cylinders\": 6,\\n        \"Displacement\": 232.0,\\n        \"Horsepower\": 100.0,\\n        \"Miles_per_Gallon\": 19.0,\\n        \"Name\": \"amc gremlin\",\\n        \"Origin\": \"USA\",\\n        \"Weight_in_lbs\": 2634,\\n        \"Year\": \"1971-01-01\"\\n      },\\n      {\\n        \"Acceleration\": 15.5,\\n        \"Cylinders\": 6,\\n        \"Displacement\": 225.0,\\n        \"Horsepower\": 105.0,\\n        \"Miles_per_Gallon\": 16.0,\\n        \"Name\": \"plymouth satellite custom\",\\n        \"Origin\": \"USA\",\\n        \"Weight_in_lbs\": 3439,\\n        \"Year\": \"1971-01-01\"\\n      },\\n      {\\n        \"Acceleration\": 15.5,\\n        \"Cylinders\": 6,\\n        \"Displacement\": 250.0,\\n        \"Horsepower\": 100.0,\\n        \"Miles_per_Gallon\": 17.0,\\n        \"Name\": \"chevrolet chevelle malibu\",\\n        \"Origin\": \"USA\",\\n        \"Weight_in_lbs\": 3329,\\n        \"Year\": \"1971-01-01\"\\n      },\\n      {\\n        \"Acceleration\": 15.5,\\n        \"Cylinders\": 6,\\n        \"Displacement\": 250.0,\\n        \"Horsepower\": 88.0,\\n        \"Miles_per_Gallon\": 19.0,\\n        \"Name\": \"ford torino 500\",\\n        \"Origin\": \"USA\",\\n        \"Weight_in_lbs\": 3302,\\n        \"Year\": \"1971-01-01\"\\n      },\\n      {\\n        \"Acceleration\": 15.5,\\n        \"Cylinders\": 6,\\n        \"Displacement\": 232.0,\\n        \"Horsepower\": 100.0,\\n        \"Miles_per_Gallon\": 18.0,\\n        \"Name\": \"amc matador\",\\n        \"Origin\": \"USA\",\\n        \"Weight_in_lbs\": 3288,\\n        \"Year\": \"1971-01-01\"\\n      },\\n      {\\n        \"Acceleration\": 12.0,\\n        \"Cylinders\": 8,\\n        \"Displacement\": 350.0,\\n        \"Horsepower\": 165.0,\\n        \"Miles_per_Gallon\": 14.0,\\n        \"Name\": \"chevrolet impala\",\\n        \"Origin\": \"USA\",\\n        \"Weight_in_lbs\": 4209,\\n        \"Year\": \"1971-01-01\"\\n      },\\n      {\\n        \"Acceleration\": 11.5,\\n        \"Cylinders\": 8,\\n        \"Displacement\": 400.0,\\n        \"Horsepower\": 175.0,\\n        \"Miles_per_Gallon\": 14.0,\\n        \"Name\": \"pontiac catalina brougham\",\\n        \"Origin\": \"USA\",\\n        \"Weight_in_lbs\": 4464,\\n        \"Year\": \"1971-01-01\"\\n      },\\n      {\\n        \"Acceleration\": 13.5,\\n        \"Cylinders\": 8,\\n        \"Displacement\": 351.0,\\n        \"Horsepower\": 153.0,\\n        \"Miles_per_Gallon\": 14.0,\\n        \"Name\": \"ford galaxie 500\",\\n        \"Origin\": \"USA\",\\n        \"Weight_in_lbs\": 4154,\\n        \"Year\": \"1971-01-01\"\\n      },\\n      {\\n        \"Acceleration\": 13.0,\\n        \"Cylinders\": 8,\\n        \"Displacement\": 318.0,\\n        \"Horsepower\": 150.0,\\n        \"Miles_per_Gallon\": 14.0,\\n        \"Name\": \"plymouth fury iii\",\\n        \"Origin\": \"USA\",\\n        \"Weight_in_lbs\": 4096,\\n        \"Year\": \"1971-01-01\"\\n      },\\n      {\\n        \"Acceleration\": 11.5,\\n        \"Cylinders\": 8,\\n        \"Displacement\": 383.0,\\n        \"Horsepower\": 180.0,\\n        \"Miles_per_Gallon\": 12.0,\\n        \"Name\": \"dodge monaco (sw)\",\\n        \"Origin\": \"USA\",\\n        \"Weight_in_lbs\": 4955,\\n        \"Year\": \"1971-01-01\"\\n      },\\n      {\\n        \"Acceleration\": 12.0,\\n        \"Cylinders\": 8,\\n        \"Displacement\": 400.0,\\n        \"Horsepower\": 170.0,\\n        \"Miles_per_Gallon\": 13.0,\\n        \"Name\": \"ford country squire (sw)\",\\n        \"Origin\": \"USA\",\\n        \"Weight_in_lbs\": 4746,\\n        \"Year\": \"1971-01-01\"\\n      },\\n      {\\n        \"Acceleration\": 12.0,\\n        \"Cylinders\": 8,\\n        \"Displacement\": 400.0,\\n        \"Horsepower\": 175.0,\\n        \"Miles_per_Gallon\": 13.0,\\n        \"Name\": \"pontiac safari (sw)\",\\n        \"Origin\": \"USA\",\\n        \"Weight_in_lbs\": 5140,\\n        \"Year\": \"1971-01-01\"\\n      },\\n      {\\n        \"Acceleration\": 13.5,\\n        \"Cylinders\": 6,\\n        \"Displacement\": 258.0,\\n        \"Horsepower\": 110.0,\\n        \"Miles_per_Gallon\": 18.0,\\n        \"Name\": \"amc hornet sportabout (sw)\",\\n        \"Origin\": \"USA\",\\n        \"Weight_in_lbs\": 2962,\\n        \"Year\": \"1971-01-01\"\\n      },\\n      {\\n        \"Acceleration\": 19.0,\\n        \"Cylinders\": 4,\\n        \"Displacement\": 140.0,\\n        \"Horsepower\": 72.0,\\n        \"Miles_per_Gallon\": 22.0,\\n        \"Name\": \"chevrolet vega (sw)\",\\n        \"Origin\": \"USA\",\\n        \"Weight_in_lbs\": 2408,\\n        \"Year\": \"1971-01-01\"\\n      },\\n      {\\n        \"Acceleration\": 15.0,\\n        \"Cylinders\": 6,\\n        \"Displacement\": 250.0,\\n        \"Horsepower\": 100.0,\\n        \"Miles_per_Gallon\": 19.0,\\n        \"Name\": \"pontiac firebird\",\\n        \"Origin\": \"USA\",\\n        \"Weight_in_lbs\": 3282,\\n        \"Year\": \"1971-01-01\"\\n      },\\n      {\\n        \"Acceleration\": 14.5,\\n        \"Cylinders\": 6,\\n        \"Displacement\": 250.0,\\n        \"Horsepower\": 88.0,\\n        \"Miles_per_Gallon\": 18.0,\\n        \"Name\": \"ford mustang\",\\n        \"Origin\": \"USA\",\\n        \"Weight_in_lbs\": 3139,\\n        \"Year\": \"1971-01-01\"\\n      },\\n      {\\n        \"Acceleration\": 14.0,\\n        \"Cylinders\": 4,\\n        \"Displacement\": 122.0,\\n        \"Horsepower\": 86.0,\\n        \"Miles_per_Gallon\": 23.0,\\n        \"Name\": \"mercury capri 2000\",\\n        \"Origin\": \"USA\",\\n        \"Weight_in_lbs\": 2220,\\n        \"Year\": \"1971-01-01\"\\n      },\\n      {\\n        \"Acceleration\": 14.0,\\n        \"Cylinders\": 4,\\n        \"Displacement\": 116.0,\\n        \"Horsepower\": 90.0,\\n        \"Miles_per_Gallon\": 28.0,\\n        \"Name\": \"opel 1900\",\\n        \"Origin\": \"Europe\",\\n        \"Weight_in_lbs\": 2123,\\n        \"Year\": \"1971-01-01\"\\n      },\\n      {\\n        \"Acceleration\": 19.5,\\n        \"Cylinders\": 4,\\n        \"Displacement\": 79.0,\\n        \"Horsepower\": 70.0,\\n        \"Miles_per_Gallon\": 30.0,\\n        \"Name\": \"peugeot 304\",\\n        \"Origin\": \"Europe\",\\n        \"Weight_in_lbs\": 2074,\\n        \"Year\": \"1971-01-01\"\\n      },\\n      {\\n        \"Acceleration\": 14.5,\\n        \"Cylinders\": 4,\\n        \"Displacement\": 88.0,\\n        \"Horsepower\": 76.0,\\n        \"Miles_per_Gallon\": 30.0,\\n        \"Name\": \"fiat 124b\",\\n        \"Origin\": \"Europe\",\\n        \"Weight_in_lbs\": 2065,\\n        \"Year\": \"1971-01-01\"\\n      },\\n      {\\n        \"Acceleration\": 19.0,\\n        \"Cylinders\": 4,\\n        \"Displacement\": 71.0,\\n        \"Horsepower\": 65.0,\\n        \"Miles_per_Gallon\": 31.0,\\n        \"Name\": \"toyota corolla 1200\",\\n        \"Origin\": \"Japan\",\\n        \"Weight_in_lbs\": 1773,\\n        \"Year\": \"1971-01-01\"\\n      },\\n      {\\n        \"Acceleration\": 18.0,\\n        \"Cylinders\": 4,\\n        \"Displacement\": 72.0,\\n        \"Horsepower\": 69.0,\\n        \"Miles_per_Gallon\": 35.0,\\n        \"Name\": \"datsun 1200\",\\n        \"Origin\": \"Japan\",\\n        \"Weight_in_lbs\": 1613,\\n        \"Year\": \"1971-01-01\"\\n      },\\n      {\\n        \"Acceleration\": 19.0,\\n        \"Cylinders\": 4,\\n        \"Displacement\": 97.0,\\n        \"Horsepower\": 60.0,\\n        \"Miles_per_Gallon\": 27.0,\\n        \"Name\": \"volkswagen model 111\",\\n        \"Origin\": \"Europe\",\\n        \"Weight_in_lbs\": 1834,\\n        \"Year\": \"1971-01-01\"\\n      },\\n      {\\n        \"Acceleration\": 20.5,\\n        \"Cylinders\": 4,\\n        \"Displacement\": 91.0,\\n        \"Horsepower\": 70.0,\\n        \"Miles_per_Gallon\": 26.0,\\n        \"Name\": \"plymouth cricket\",\\n        \"Origin\": \"USA\",\\n        \"Weight_in_lbs\": 1955,\\n        \"Year\": \"1971-01-01\"\\n      },\\n      {\\n        \"Acceleration\": 15.5,\\n        \"Cylinders\": 4,\\n        \"Displacement\": 113.0,\\n        \"Horsepower\": 95.0,\\n        \"Miles_per_Gallon\": 24.0,\\n        \"Name\": \"toyota corona hardtop\",\\n        \"Origin\": \"Japan\",\\n        \"Weight_in_lbs\": 2278,\\n        \"Year\": \"1972-01-01\"\\n      },\\n      {\\n        \"Acceleration\": 17.0,\\n        \"Cylinders\": 4,\\n        \"Displacement\": 97.5,\\n        \"Horsepower\": 80.0,\\n        \"Miles_per_Gallon\": 25.0,\\n        \"Name\": \"dodge colt hardtop\",\\n        \"Origin\": \"USA\",\\n        \"Weight_in_lbs\": 2126,\\n        \"Year\": \"1972-01-01\"\\n      },\\n      {\\n        \"Acceleration\": 23.5,\\n        \"Cylinders\": 4,\\n        \"Displacement\": 97.0,\\n        \"Horsepower\": 54.0,\\n        \"Miles_per_Gallon\": 23.0,\\n        \"Name\": \"volkswagen type 3\",\\n        \"Origin\": \"Europe\",\\n        \"Weight_in_lbs\": 2254,\\n        \"Year\": \"1972-01-01\"\\n      },\\n      {\\n        \"Acceleration\": 19.5,\\n        \"Cylinders\": 4,\\n        \"Displacement\": 140.0,\\n        \"Horsepower\": 90.0,\\n        \"Miles_per_Gallon\": 20.0,\\n        \"Name\": \"chevrolet vega\",\\n        \"Origin\": \"USA\",\\n        \"Weight_in_lbs\": 2408,\\n        \"Year\": \"1972-01-01\"\\n      },\\n      {\\n        \"Acceleration\": 16.5,\\n        \"Cylinders\": 4,\\n        \"Displacement\": 122.0,\\n        \"Horsepower\": 86.0,\\n        \"Miles_per_Gallon\": 21.0,\\n        \"Name\": \"ford pinto runabout\",\\n        \"Origin\": \"USA\",\\n        \"Weight_in_lbs\": 2226,\\n        \"Year\": \"1972-01-01\"\\n      },\\n      {\\n        \"Acceleration\": 12.0,\\n        \"Cylinders\": 8,\\n        \"Displacement\": 350.0,\\n        \"Horsepower\": 165.0,\\n        \"Miles_per_Gallon\": 13.0,\\n        \"Name\": \"chevrolet impala\",\\n        \"Origin\": \"USA\",\\n        \"Weight_in_lbs\": 4274,\\n        \"Year\": \"1972-01-01\"\\n      },\\n      {\\n        \"Acceleration\": 12.0,\\n        \"Cylinders\": 8,\\n        \"Displacement\": 400.0,\\n        \"Horsepower\": 175.0,\\n        \"Miles_per_Gallon\": 14.0,\\n        \"Name\": \"pontiac catalina\",\\n        \"Origin\": \"USA\",\\n        \"Weight_in_lbs\": 4385,\\n        \"Year\": \"1972-01-01\"\\n      },\\n      {\\n        \"Acceleration\": 13.5,\\n        \"Cylinders\": 8,\\n        \"Displacement\": 318.0,\\n        \"Horsepower\": 150.0,\\n        \"Miles_per_Gallon\": 15.0,\\n        \"Name\": \"plymouth fury iii\",\\n        \"Origin\": \"USA\",\\n        \"Weight_in_lbs\": 4135,\\n        \"Year\": \"1972-01-01\"\\n      },\\n      {\\n        \"Acceleration\": 13.0,\\n        \"Cylinders\": 8,\\n        \"Displacement\": 351.0,\\n        \"Horsepower\": 153.0,\\n        \"Miles_per_Gallon\": 14.0,\\n        \"Name\": \"ford galaxie 500\",\\n        \"Origin\": \"USA\",\\n        \"Weight_in_lbs\": 4129,\\n        \"Year\": \"1972-01-01\"\\n      },\\n      {\\n        \"Acceleration\": 11.5,\\n        \"Cylinders\": 8,\\n        \"Displacement\": 304.0,\\n        \"Horsepower\": 150.0,\\n        \"Miles_per_Gallon\": 17.0,\\n        \"Name\": \"amc ambassador sst\",\\n        \"Origin\": \"USA\",\\n        \"Weight_in_lbs\": 3672,\\n        \"Year\": \"1972-01-01\"\\n      },\\n      {\\n        \"Acceleration\": 11.0,\\n        \"Cylinders\": 8,\\n        \"Displacement\": 429.0,\\n        \"Horsepower\": 208.0,\\n        \"Miles_per_Gallon\": 11.0,\\n        \"Name\": \"mercury marquis\",\\n        \"Origin\": \"USA\",\\n        \"Weight_in_lbs\": 4633,\\n        \"Year\": \"1972-01-01\"\\n      },\\n      {\\n        \"Acceleration\": 13.5,\\n        \"Cylinders\": 8,\\n        \"Displacement\": 350.0,\\n        \"Horsepower\": 155.0,\\n        \"Miles_per_Gallon\": 13.0,\\n        \"Name\": \"buick lesabre custom\",\\n        \"Origin\": \"USA\",\\n        \"Weight_in_lbs\": 4502,\\n        \"Year\": \"1972-01-01\"\\n      },\\n      {\\n        \"Acceleration\": 13.5,\\n        \"Cylinders\": 8,\\n        \"Displacement\": 350.0,\\n        \"Horsepower\": 160.0,\\n        \"Miles_per_Gallon\": 12.0,\\n        \"Name\": \"oldsmobile delta 88 royale\",\\n        \"Origin\": \"USA\",\\n        \"Weight_in_lbs\": 4456,\\n        \"Year\": \"1972-01-01\"\\n      },\\n      {\\n        \"Acceleration\": 12.5,\\n        \"Cylinders\": 8,\\n        \"Displacement\": 400.0,\\n        \"Horsepower\": 190.0,\\n        \"Miles_per_Gallon\": 13.0,\\n        \"Name\": \"chrysler newport royal\",\\n        \"Origin\": \"USA\",\\n        \"Weight_in_lbs\": 4422,\\n        \"Year\": \"1972-01-01\"\\n      },\\n      {\\n        \"Acceleration\": 13.5,\\n        \"Cylinders\": 3,\\n        \"Displacement\": 70.0,\\n        \"Horsepower\": 97.0,\\n        \"Miles_per_Gallon\": 19.0,\\n        \"Name\": \"mazda rx2 coupe\",\\n        \"Origin\": \"Japan\",\\n        \"Weight_in_lbs\": 2330,\\n        \"Year\": \"1972-01-01\"\\n      },\\n      {\\n        \"Acceleration\": 12.5,\\n        \"Cylinders\": 8,\\n        \"Displacement\": 304.0,\\n        \"Horsepower\": 150.0,\\n        \"Miles_per_Gallon\": 15.0,\\n        \"Name\": \"amc matador (sw)\",\\n        \"Origin\": \"USA\",\\n        \"Weight_in_lbs\": 3892,\\n        \"Year\": \"1972-01-01\"\\n      },\\n      {\\n        \"Acceleration\": 14.0,\\n        \"Cylinders\": 8,\\n        \"Displacement\": 307.0,\\n        \"Horsepower\": 130.0,\\n        \"Miles_per_Gallon\": 13.0,\\n        \"Name\": \"chevrolet chevelle concours (sw)\",\\n        \"Origin\": \"USA\",\\n        \"Weight_in_lbs\": 4098,\\n        \"Year\": \"1972-01-01\"\\n      },\\n      {\\n        \"Acceleration\": 16.0,\\n        \"Cylinders\": 8,\\n        \"Displacement\": 302.0,\\n        \"Horsepower\": 140.0,\\n        \"Miles_per_Gallon\": 13.0,\\n        \"Name\": \"ford gran torino (sw)\",\\n        \"Origin\": \"USA\",\\n        \"Weight_in_lbs\": 4294,\\n        \"Year\": \"1972-01-01\"\\n      },\\n      {\\n        \"Acceleration\": 14.0,\\n        \"Cylinders\": 8,\\n        \"Displacement\": 318.0,\\n        \"Horsepower\": 150.0,\\n        \"Miles_per_Gallon\": 14.0,\\n        \"Name\": \"plymouth satellite custom (sw)\",\\n        \"Origin\": \"USA\",\\n        \"Weight_in_lbs\": 4077,\\n        \"Year\": \"1972-01-01\"\\n      },\\n      {\\n        \"Acceleration\": 14.5,\\n        \"Cylinders\": 4,\\n        \"Displacement\": 121.0,\\n        \"Horsepower\": 112.0,\\n        \"Miles_per_Gallon\": 18.0,\\n        \"Name\": \"volvo 145e (sw)\",\\n        \"Origin\": \"Europe\",\\n        \"Weight_in_lbs\": 2933,\\n        \"Year\": \"1972-01-01\"\\n      },\\n      {\\n        \"Acceleration\": 18.0,\\n        \"Cylinders\": 4,\\n        \"Displacement\": 121.0,\\n        \"Horsepower\": 76.0,\\n        \"Miles_per_Gallon\": 22.0,\\n        \"Name\": \"volkswagen 411 (sw)\",\\n        \"Origin\": \"Europe\",\\n        \"Weight_in_lbs\": 2511,\\n        \"Year\": \"1972-01-01\"\\n      },\\n      {\\n        \"Acceleration\": 19.5,\\n        \"Cylinders\": 4,\\n        \"Displacement\": 120.0,\\n        \"Horsepower\": 87.0,\\n        \"Miles_per_Gallon\": 21.0,\\n        \"Name\": \"peugeot 504 (sw)\",\\n        \"Origin\": \"Europe\",\\n        \"Weight_in_lbs\": 2979,\\n        \"Year\": \"1972-01-01\"\\n      },\\n      {\\n        \"Acceleration\": 18.0,\\n        \"Cylinders\": 4,\\n        \"Displacement\": 96.0,\\n        \"Horsepower\": 69.0,\\n        \"Miles_per_Gallon\": 26.0,\\n        \"Name\": \"renault 12 (sw)\",\\n        \"Origin\": \"Europe\",\\n        \"Weight_in_lbs\": 2189,\\n        \"Year\": \"1972-01-01\"\\n      },\\n      {\\n        \"Acceleration\": 16.0,\\n        \"Cylinders\": 4,\\n        \"Displacement\": 122.0,\\n        \"Horsepower\": 86.0,\\n        \"Miles_per_Gallon\": 22.0,\\n        \"Name\": \"ford pinto (sw)\",\\n        \"Origin\": \"USA\",\\n        \"Weight_in_lbs\": 2395,\\n        \"Year\": \"1972-01-01\"\\n      },\\n      {\\n        \"Acceleration\": 17.0,\\n        \"Cylinders\": 4,\\n        \"Displacement\": 97.0,\\n        \"Horsepower\": 92.0,\\n        \"Miles_per_Gallon\": 28.0,\\n        \"Name\": \"datsun 510 (sw)\",\\n        \"Origin\": \"Japan\",\\n        \"Weight_in_lbs\": 2288,\\n        \"Year\": \"1972-01-01\"\\n      },\\n      {\\n        \"Acceleration\": 14.5,\\n        \"Cylinders\": 4,\\n        \"Displacement\": 120.0,\\n        \"Horsepower\": 97.0,\\n        \"Miles_per_Gallon\": 23.0,\\n        \"Name\": \"toyouta corona mark ii (sw)\",\\n        \"Origin\": \"Japan\",\\n        \"Weight_in_lbs\": 2506,\\n        \"Year\": \"1972-01-01\"\\n      },\\n      {\\n        \"Acceleration\": 15.0,\\n        \"Cylinders\": 4,\\n        \"Displacement\": 98.0,\\n        \"Horsepower\": 80.0,\\n        \"Miles_per_Gallon\": 28.0,\\n        \"Name\": \"dodge colt (sw)\",\\n        \"Origin\": \"USA\",\\n        \"Weight_in_lbs\": 2164,\\n        \"Year\": \"1972-01-01\"\\n      },\\n      {\\n        \"Acceleration\": 16.5,\\n        \"Cylinders\": 4,\\n        \"Displacement\": 97.0,\\n        \"Horsepower\": 88.0,\\n        \"Miles_per_Gallon\": 27.0,\\n        \"Name\": \"toyota corolla 1600 (sw)\",\\n        \"Origin\": \"Japan\",\\n        \"Weight_in_lbs\": 2100,\\n        \"Year\": \"1972-01-01\"\\n      },\\n      {\\n        \"Acceleration\": 13.0,\\n        \"Cylinders\": 8,\\n        \"Displacement\": 350.0,\\n        \"Horsepower\": 175.0,\\n        \"Miles_per_Gallon\": 13.0,\\n        \"Name\": \"buick century 350\",\\n        \"Origin\": \"USA\",\\n        \"Weight_in_lbs\": 4100,\\n        \"Year\": \"1973-01-01\"\\n      },\\n      {\\n        \"Acceleration\": 11.5,\\n        \"Cylinders\": 8,\\n        \"Displacement\": 304.0,\\n        \"Horsepower\": 150.0,\\n        \"Miles_per_Gallon\": 14.0,\\n        \"Name\": \"amc matador\",\\n        \"Origin\": \"USA\",\\n        \"Weight_in_lbs\": 3672,\\n        \"Year\": \"1973-01-01\"\\n      },\\n      {\\n        \"Acceleration\": 13.0,\\n        \"Cylinders\": 8,\\n        \"Displacement\": 350.0,\\n        \"Horsepower\": 145.0,\\n        \"Miles_per_Gallon\": 13.0,\\n        \"Name\": \"chevrolet malibu\",\\n        \"Origin\": \"USA\",\\n        \"Weight_in_lbs\": 3988,\\n        \"Year\": \"1973-01-01\"\\n      },\\n      {\\n        \"Acceleration\": 14.5,\\n        \"Cylinders\": 8,\\n        \"Displacement\": 302.0,\\n        \"Horsepower\": 137.0,\\n        \"Miles_per_Gallon\": 14.0,\\n        \"Name\": \"ford gran torino\",\\n        \"Origin\": \"USA\",\\n        \"Weight_in_lbs\": 4042,\\n        \"Year\": \"1973-01-01\"\\n      },\\n      {\\n        \"Acceleration\": 12.5,\\n        \"Cylinders\": 8,\\n        \"Displacement\": 318.0,\\n        \"Horsepower\": 150.0,\\n        \"Miles_per_Gallon\": 15.0,\\n        \"Name\": \"dodge coronet custom\",\\n        \"Origin\": \"USA\",\\n        \"Weight_in_lbs\": 3777,\\n        \"Year\": \"1973-01-01\"\\n      },\\n      {\\n        \"Acceleration\": 11.5,\\n        \"Cylinders\": 8,\\n        \"Displacement\": 429.0,\\n        \"Horsepower\": 198.0,\\n        \"Miles_per_Gallon\": 12.0,\\n        \"Name\": \"mercury marquis brougham\",\\n        \"Origin\": \"USA\",\\n        \"Weight_in_lbs\": 4952,\\n        \"Year\": \"1973-01-01\"\\n      },\\n      {\\n        \"Acceleration\": 12.0,\\n        \"Cylinders\": 8,\\n        \"Displacement\": 400.0,\\n        \"Horsepower\": 150.0,\\n        \"Miles_per_Gallon\": 13.0,\\n        \"Name\": \"chevrolet caprice classic\",\\n        \"Origin\": \"USA\",\\n        \"Weight_in_lbs\": 4464,\\n        \"Year\": \"1973-01-01\"\\n      },\\n      {\\n        \"Acceleration\": 13.0,\\n        \"Cylinders\": 8,\\n        \"Displacement\": 351.0,\\n        \"Horsepower\": 158.0,\\n        \"Miles_per_Gallon\": 13.0,\\n        \"Name\": \"ford ltd\",\\n        \"Origin\": \"USA\",\\n        \"Weight_in_lbs\": 4363,\\n        \"Year\": \"1973-01-01\"\\n      },\\n      {\\n        \"Acceleration\": 14.5,\\n        \"Cylinders\": 8,\\n        \"Displacement\": 318.0,\\n        \"Horsepower\": 150.0,\\n        \"Miles_per_Gallon\": 14.0,\\n        \"Name\": \"plymouth fury gran sedan\",\\n        \"Origin\": \"USA\",\\n        \"Weight_in_lbs\": 4237,\\n        \"Year\": \"1973-01-01\"\\n      },\\n      {\\n        \"Acceleration\": 11.0,\\n        \"Cylinders\": 8,\\n        \"Displacement\": 440.0,\\n        \"Horsepower\": 215.0,\\n        \"Miles_per_Gallon\": 13.0,\\n        \"Name\": \"chrysler new yorker brougham\",\\n        \"Origin\": \"USA\",\\n        \"Weight_in_lbs\": 4735,\\n        \"Year\": \"1973-01-01\"\\n      },\\n      {\\n        \"Acceleration\": 11.0,\\n        \"Cylinders\": 8,\\n        \"Displacement\": 455.0,\\n        \"Horsepower\": 225.0,\\n        \"Miles_per_Gallon\": 12.0,\\n        \"Name\": \"buick electra 225 custom\",\\n        \"Origin\": \"USA\",\\n        \"Weight_in_lbs\": 4951,\\n        \"Year\": \"1973-01-01\"\\n      },\\n      {\\n        \"Acceleration\": 11.0,\\n        \"Cylinders\": 8,\\n        \"Displacement\": 360.0,\\n        \"Horsepower\": 175.0,\\n        \"Miles_per_Gallon\": 13.0,\\n        \"Name\": \"amc ambassador brougham\",\\n        \"Origin\": \"USA\",\\n        \"Weight_in_lbs\": 3821,\\n        \"Year\": \"1973-01-01\"\\n      },\\n      {\\n        \"Acceleration\": 16.5,\\n        \"Cylinders\": 6,\\n        \"Displacement\": 225.0,\\n        \"Horsepower\": 105.0,\\n        \"Miles_per_Gallon\": 18.0,\\n        \"Name\": \"plymouth valiant\",\\n        \"Origin\": \"USA\",\\n        \"Weight_in_lbs\": 3121,\\n        \"Year\": \"1973-01-01\"\\n      },\\n      {\\n        \"Acceleration\": 18.0,\\n        \"Cylinders\": 6,\\n        \"Displacement\": 250.0,\\n        \"Horsepower\": 100.0,\\n        \"Miles_per_Gallon\": 16.0,\\n        \"Name\": \"chevrolet nova custom\",\\n        \"Origin\": \"USA\",\\n        \"Weight_in_lbs\": 3278,\\n        \"Year\": \"1973-01-01\"\\n      },\\n      {\\n        \"Acceleration\": 16.0,\\n        \"Cylinders\": 6,\\n        \"Displacement\": 232.0,\\n        \"Horsepower\": 100.0,\\n        \"Miles_per_Gallon\": 18.0,\\n        \"Name\": \"amc hornet\",\\n        \"Origin\": \"USA\",\\n        \"Weight_in_lbs\": 2945,\\n        \"Year\": \"1973-01-01\"\\n      },\\n      {\\n        \"Acceleration\": 16.5,\\n        \"Cylinders\": 6,\\n        \"Displacement\": 250.0,\\n        \"Horsepower\": 88.0,\\n        \"Miles_per_Gallon\": 18.0,\\n        \"Name\": \"ford maverick\",\\n        \"Origin\": \"USA\",\\n        \"Weight_in_lbs\": 3021,\\n        \"Year\": \"1973-01-01\"\\n      },\\n      {\\n        \"Acceleration\": 16.0,\\n        \"Cylinders\": 6,\\n        \"Displacement\": 198.0,\\n        \"Horsepower\": 95.0,\\n        \"Miles_per_Gallon\": 23.0,\\n        \"Name\": \"plymouth duster\",\\n        \"Origin\": \"USA\",\\n        \"Weight_in_lbs\": 2904,\\n        \"Year\": \"1973-01-01\"\\n      },\\n      {\\n        \"Acceleration\": 21.0,\\n        \"Cylinders\": 4,\\n        \"Displacement\": 97.0,\\n        \"Horsepower\": 46.0,\\n        \"Miles_per_Gallon\": 26.0,\\n        \"Name\": \"volkswagen super beetle\",\\n        \"Origin\": \"Europe\",\\n        \"Weight_in_lbs\": 1950,\\n        \"Year\": \"1973-01-01\"\\n      },\\n      {\\n        \"Acceleration\": 14.0,\\n        \"Cylinders\": 8,\\n        \"Displacement\": 400.0,\\n        \"Horsepower\": 150.0,\\n        \"Miles_per_Gallon\": 11.0,\\n        \"Name\": \"chevrolet impala\",\\n        \"Origin\": \"USA\",\\n        \"Weight_in_lbs\": 4997,\\n        \"Year\": \"1973-01-01\"\\n      },\\n      {\\n        \"Acceleration\": 12.5,\\n        \"Cylinders\": 8,\\n        \"Displacement\": 400.0,\\n        \"Horsepower\": 167.0,\\n        \"Miles_per_Gallon\": 12.0,\\n        \"Name\": \"ford country\",\\n        \"Origin\": \"USA\",\\n        \"Weight_in_lbs\": 4906,\\n        \"Year\": \"1973-01-01\"\\n      },\\n      {\\n        \"Acceleration\": 13.0,\\n        \"Cylinders\": 8,\\n        \"Displacement\": 360.0,\\n        \"Horsepower\": 170.0,\\n        \"Miles_per_Gallon\": 13.0,\\n        \"Name\": \"plymouth custom suburb\",\\n        \"Origin\": \"USA\",\\n        \"Weight_in_lbs\": 4654,\\n        \"Year\": \"1973-01-01\"\\n      },\\n      {\\n        \"Acceleration\": 12.5,\\n        \"Cylinders\": 8,\\n        \"Displacement\": 350.0,\\n        \"Horsepower\": 180.0,\\n        \"Miles_per_Gallon\": 12.0,\\n        \"Name\": \"oldsmobile vista cruiser\",\\n        \"Origin\": \"USA\",\\n        \"Weight_in_lbs\": 4499,\\n        \"Year\": \"1973-01-01\"\\n      },\\n      {\\n        \"Acceleration\": 15.0,\\n        \"Cylinders\": 6,\\n        \"Displacement\": 232.0,\\n        \"Horsepower\": 100.0,\\n        \"Miles_per_Gallon\": 18.0,\\n        \"Name\": \"amc gremlin\",\\n        \"Origin\": \"USA\",\\n        \"Weight_in_lbs\": 2789,\\n        \"Year\": \"1973-01-01\"\\n      },\\n      {\\n        \"Acceleration\": 19.0,\\n        \"Cylinders\": 4,\\n        \"Displacement\": 97.0,\\n        \"Horsepower\": 88.0,\\n        \"Miles_per_Gallon\": 20.0,\\n        \"Name\": \"toyota carina\",\\n        \"Origin\": \"Japan\",\\n        \"Weight_in_lbs\": 2279,\\n        \"Year\": \"1973-01-01\"\\n      },\\n      {\\n        \"Acceleration\": 19.5,\\n        \"Cylinders\": 4,\\n        \"Displacement\": 140.0,\\n        \"Horsepower\": 72.0,\\n        \"Miles_per_Gallon\": 21.0,\\n        \"Name\": \"chevrolet vega\",\\n        \"Origin\": \"USA\",\\n        \"Weight_in_lbs\": 2401,\\n        \"Year\": \"1973-01-01\"\\n      },\\n      {\\n        \"Acceleration\": 16.5,\\n        \"Cylinders\": 4,\\n        \"Displacement\": 108.0,\\n        \"Horsepower\": 94.0,\\n        \"Miles_per_Gallon\": 22.0,\\n        \"Name\": \"datsun 610\",\\n        \"Origin\": \"Japan\",\\n        \"Weight_in_lbs\": 2379,\\n        \"Year\": \"1973-01-01\"\\n      },\\n      {\\n        \"Acceleration\": 13.5,\\n        \"Cylinders\": 3,\\n        \"Displacement\": 70.0,\\n        \"Horsepower\": 90.0,\\n        \"Miles_per_Gallon\": 18.0,\\n        \"Name\": \"maxda rx3\",\\n        \"Origin\": \"Japan\",\\n        \"Weight_in_lbs\": 2124,\\n        \"Year\": \"1973-01-01\"\\n      },\\n      {\\n        \"Acceleration\": 18.5,\\n        \"Cylinders\": 4,\\n        \"Displacement\": 122.0,\\n        \"Horsepower\": 85.0,\\n        \"Miles_per_Gallon\": 19.0,\\n        \"Name\": \"ford pinto\",\\n        \"Origin\": \"USA\",\\n        \"Weight_in_lbs\": 2310,\\n        \"Year\": \"1973-01-01\"\\n      },\\n      {\\n        \"Acceleration\": 14.0,\\n        \"Cylinders\": 6,\\n        \"Displacement\": 155.0,\\n        \"Horsepower\": 107.0,\\n        \"Miles_per_Gallon\": 21.0,\\n        \"Name\": \"mercury capri v6\",\\n        \"Origin\": \"USA\",\\n        \"Weight_in_lbs\": 2472,\\n        \"Year\": \"1973-01-01\"\\n      },\\n      {\\n        \"Acceleration\": 15.5,\\n        \"Cylinders\": 4,\\n        \"Displacement\": 98.0,\\n        \"Horsepower\": 90.0,\\n        \"Miles_per_Gallon\": 26.0,\\n        \"Name\": \"fiat 124 sport coupe\",\\n        \"Origin\": \"Europe\",\\n        \"Weight_in_lbs\": 2265,\\n        \"Year\": \"1973-01-01\"\\n      },\\n      {\\n        \"Acceleration\": 13.0,\\n        \"Cylinders\": 8,\\n        \"Displacement\": 350.0,\\n        \"Horsepower\": 145.0,\\n        \"Miles_per_Gallon\": 15.0,\\n        \"Name\": \"chevrolet monte carlo s\",\\n        \"Origin\": \"USA\",\\n        \"Weight_in_lbs\": 4082,\\n        \"Year\": \"1973-01-01\"\\n      },\\n      {\\n        \"Acceleration\": 9.5,\\n        \"Cylinders\": 8,\\n        \"Displacement\": 400.0,\\n        \"Horsepower\": 230.0,\\n        \"Miles_per_Gallon\": 16.0,\\n        \"Name\": \"pontiac grand prix\",\\n        \"Origin\": \"USA\",\\n        \"Weight_in_lbs\": 4278,\\n        \"Year\": \"1973-01-01\"\\n      },\\n      {\\n        \"Acceleration\": 19.5,\\n        \"Cylinders\": 4,\\n        \"Displacement\": 68.0,\\n        \"Horsepower\": 49.0,\\n        \"Miles_per_Gallon\": 29.0,\\n        \"Name\": \"fiat 128\",\\n        \"Origin\": \"Europe\",\\n        \"Weight_in_lbs\": 1867,\\n        \"Year\": \"1973-01-01\"\\n      },\\n      {\\n        \"Acceleration\": 15.5,\\n        \"Cylinders\": 4,\\n        \"Displacement\": 116.0,\\n        \"Horsepower\": 75.0,\\n        \"Miles_per_Gallon\": 24.0,\\n        \"Name\": \"opel manta\",\\n        \"Origin\": \"Europe\",\\n        \"Weight_in_lbs\": 2158,\\n        \"Year\": \"1973-01-01\"\\n      },\\n      {\\n        \"Acceleration\": 14.0,\\n        \"Cylinders\": 4,\\n        \"Displacement\": 114.0,\\n        \"Horsepower\": 91.0,\\n        \"Miles_per_Gallon\": 20.0,\\n        \"Name\": \"audi 100ls\",\\n        \"Origin\": \"Europe\",\\n        \"Weight_in_lbs\": 2582,\\n        \"Year\": \"1973-01-01\"\\n      },\\n      {\\n        \"Acceleration\": 15.5,\\n        \"Cylinders\": 4,\\n        \"Displacement\": 121.0,\\n        \"Horsepower\": 112.0,\\n        \"Miles_per_Gallon\": 19.0,\\n        \"Name\": \"volvo 144ea\",\\n        \"Origin\": \"Europe\",\\n        \"Weight_in_lbs\": 2868,\\n        \"Year\": \"1973-01-01\"\\n      },\\n      {\\n        \"Acceleration\": 11.0,\\n        \"Cylinders\": 8,\\n        \"Displacement\": 318.0,\\n        \"Horsepower\": 150.0,\\n        \"Miles_per_Gallon\": 15.0,\\n        \"Name\": \"dodge dart custom\",\\n        \"Origin\": \"USA\",\\n        \"Weight_in_lbs\": 3399,\\n        \"Year\": \"1973-01-01\"\\n      },\\n      {\\n        \"Acceleration\": 14.0,\\n        \"Cylinders\": 4,\\n        \"Displacement\": 121.0,\\n        \"Horsepower\": 110.0,\\n        \"Miles_per_Gallon\": 24.0,\\n        \"Name\": \"saab 99le\",\\n        \"Origin\": \"Europe\",\\n        \"Weight_in_lbs\": 2660,\\n        \"Year\": \"1973-01-01\"\\n      },\\n      {\\n        \"Acceleration\": 13.5,\\n        \"Cylinders\": 6,\\n        \"Displacement\": 156.0,\\n        \"Horsepower\": 122.0,\\n        \"Miles_per_Gallon\": 20.0,\\n        \"Name\": \"toyota mark ii\",\\n        \"Origin\": \"Japan\",\\n        \"Weight_in_lbs\": 2807,\\n        \"Year\": \"1973-01-01\"\\n      },\\n      {\\n        \"Acceleration\": 11.0,\\n        \"Cylinders\": 8,\\n        \"Displacement\": 350.0,\\n        \"Horsepower\": 180.0,\\n        \"Miles_per_Gallon\": 11.0,\\n        \"Name\": \"oldsmobile omega\",\\n        \"Origin\": \"USA\",\\n        \"Weight_in_lbs\": 3664,\\n        \"Year\": \"1973-01-01\"\\n      },\\n      {\\n        \"Acceleration\": 16.5,\\n        \"Cylinders\": 6,\\n        \"Displacement\": 198.0,\\n        \"Horsepower\": 95.0,\\n        \"Miles_per_Gallon\": 20.0,\\n        \"Name\": \"plymouth duster\",\\n        \"Origin\": \"USA\",\\n        \"Weight_in_lbs\": 3102,\\n        \"Year\": \"1974-01-01\"\\n      },\\n      {\\n        \"Acceleration\": 17.0,\\n        \"Cylinders\": 6,\\n        \"Displacement\": 200.0,\\n        \"Horsepower\": null,\\n        \"Miles_per_Gallon\": 21.0,\\n        \"Name\": \"ford maverick\",\\n        \"Origin\": \"USA\",\\n        \"Weight_in_lbs\": 2875,\\n        \"Year\": \"1974-01-01\"\\n      },\\n      {\\n        \"Acceleration\": 16.0,\\n        \"Cylinders\": 6,\\n        \"Displacement\": 232.0,\\n        \"Horsepower\": 100.0,\\n        \"Miles_per_Gallon\": 19.0,\\n        \"Name\": \"amc hornet\",\\n        \"Origin\": \"USA\",\\n        \"Weight_in_lbs\": 2901,\\n        \"Year\": \"1974-01-01\"\\n      },\\n      {\\n        \"Acceleration\": 17.0,\\n        \"Cylinders\": 6,\\n        \"Displacement\": 250.0,\\n        \"Horsepower\": 100.0,\\n        \"Miles_per_Gallon\": 15.0,\\n        \"Name\": \"chevrolet nova\",\\n        \"Origin\": \"USA\",\\n        \"Weight_in_lbs\": 3336,\\n        \"Year\": \"1974-01-01\"\\n      },\\n      {\\n        \"Acceleration\": 19.0,\\n        \"Cylinders\": 4,\\n        \"Displacement\": 79.0,\\n        \"Horsepower\": 67.0,\\n        \"Miles_per_Gallon\": 31.0,\\n        \"Name\": \"datsun b210\",\\n        \"Origin\": \"Japan\",\\n        \"Weight_in_lbs\": 1950,\\n        \"Year\": \"1974-01-01\"\\n      },\\n      {\\n        \"Acceleration\": 16.5,\\n        \"Cylinders\": 4,\\n        \"Displacement\": 122.0,\\n        \"Horsepower\": 80.0,\\n        \"Miles_per_Gallon\": 26.0,\\n        \"Name\": \"ford pinto\",\\n        \"Origin\": \"USA\",\\n        \"Weight_in_lbs\": 2451,\\n        \"Year\": \"1974-01-01\"\\n      },\\n      {\\n        \"Acceleration\": 21.0,\\n        \"Cylinders\": 4,\\n        \"Displacement\": 71.0,\\n        \"Horsepower\": 65.0,\\n        \"Miles_per_Gallon\": 32.0,\\n        \"Name\": \"toyota corolla 1200\",\\n        \"Origin\": \"Japan\",\\n        \"Weight_in_lbs\": 1836,\\n        \"Year\": \"1974-01-01\"\\n      },\\n      {\\n        \"Acceleration\": 17.0,\\n        \"Cylinders\": 4,\\n        \"Displacement\": 140.0,\\n        \"Horsepower\": 75.0,\\n        \"Miles_per_Gallon\": 25.0,\\n        \"Name\": \"chevrolet vega\",\\n        \"Origin\": \"USA\",\\n        \"Weight_in_lbs\": 2542,\\n        \"Year\": \"1974-01-01\"\\n      },\\n      {\\n        \"Acceleration\": 17.0,\\n        \"Cylinders\": 6,\\n        \"Displacement\": 250.0,\\n        \"Horsepower\": 100.0,\\n        \"Miles_per_Gallon\": 16.0,\\n        \"Name\": \"chevrolet chevelle malibu classic\",\\n        \"Origin\": \"USA\",\\n        \"Weight_in_lbs\": 3781,\\n        \"Year\": \"1974-01-01\"\\n      },\\n      {\\n        \"Acceleration\": 18.0,\\n        \"Cylinders\": 6,\\n        \"Displacement\": 258.0,\\n        \"Horsepower\": 110.0,\\n        \"Miles_per_Gallon\": 16.0,\\n        \"Name\": \"amc matador\",\\n        \"Origin\": \"USA\",\\n        \"Weight_in_lbs\": 3632,\\n        \"Year\": \"1974-01-01\"\\n      },\\n      {\\n        \"Acceleration\": 16.5,\\n        \"Cylinders\": 6,\\n        \"Displacement\": 225.0,\\n        \"Horsepower\": 105.0,\\n        \"Miles_per_Gallon\": 18.0,\\n        \"Name\": \"plymouth satellite sebring\",\\n        \"Origin\": \"USA\",\\n        \"Weight_in_lbs\": 3613,\\n        \"Year\": \"1974-01-01\"\\n      },\\n      {\\n        \"Acceleration\": 14.0,\\n        \"Cylinders\": 8,\\n        \"Displacement\": 302.0,\\n        \"Horsepower\": 140.0,\\n        \"Miles_per_Gallon\": 16.0,\\n        \"Name\": \"ford gran torino\",\\n        \"Origin\": \"USA\",\\n        \"Weight_in_lbs\": 4141,\\n        \"Year\": \"1974-01-01\"\\n      },\\n      {\\n        \"Acceleration\": 14.5,\\n        \"Cylinders\": 8,\\n        \"Displacement\": 350.0,\\n        \"Horsepower\": 150.0,\\n        \"Miles_per_Gallon\": 13.0,\\n        \"Name\": \"buick century luxus (sw)\",\\n        \"Origin\": \"USA\",\\n        \"Weight_in_lbs\": 4699,\\n        \"Year\": \"1974-01-01\"\\n      },\\n      {\\n        \"Acceleration\": 13.5,\\n        \"Cylinders\": 8,\\n        \"Displacement\": 318.0,\\n        \"Horsepower\": 150.0,\\n        \"Miles_per_Gallon\": 14.0,\\n        \"Name\": \"dodge coronet custom (sw)\",\\n        \"Origin\": \"USA\",\\n        \"Weight_in_lbs\": 4457,\\n        \"Year\": \"1974-01-01\"\\n      },\\n      {\\n        \"Acceleration\": 16.0,\\n        \"Cylinders\": 8,\\n        \"Displacement\": 302.0,\\n        \"Horsepower\": 140.0,\\n        \"Miles_per_Gallon\": 14.0,\\n        \"Name\": \"ford gran torino (sw)\",\\n        \"Origin\": \"USA\",\\n        \"Weight_in_lbs\": 4638,\\n        \"Year\": \"1974-01-01\"\\n      },\\n      {\\n        \"Acceleration\": 15.5,\\n        \"Cylinders\": 8,\\n        \"Displacement\": 304.0,\\n        \"Horsepower\": 150.0,\\n        \"Miles_per_Gallon\": 14.0,\\n        \"Name\": \"amc matador (sw)\",\\n        \"Origin\": \"USA\",\\n        \"Weight_in_lbs\": 4257,\\n        \"Year\": \"1974-01-01\"\\n      },\\n      {\\n        \"Acceleration\": 16.5,\\n        \"Cylinders\": 4,\\n        \"Displacement\": 98.0,\\n        \"Horsepower\": 83.0,\\n        \"Miles_per_Gallon\": 29.0,\\n        \"Name\": \"audi fox\",\\n        \"Origin\": \"Europe\",\\n        \"Weight_in_lbs\": 2219,\\n        \"Year\": \"1974-01-01\"\\n      },\\n      {\\n        \"Acceleration\": 15.5,\\n        \"Cylinders\": 4,\\n        \"Displacement\": 79.0,\\n        \"Horsepower\": 67.0,\\n        \"Miles_per_Gallon\": 26.0,\\n        \"Name\": \"volkswagen dasher\",\\n        \"Origin\": \"Europe\",\\n        \"Weight_in_lbs\": 1963,\\n        \"Year\": \"1974-01-01\"\\n      },\\n      {\\n        \"Acceleration\": 14.5,\\n        \"Cylinders\": 4,\\n        \"Displacement\": 97.0,\\n        \"Horsepower\": 78.0,\\n        \"Miles_per_Gallon\": 26.0,\\n        \"Name\": \"opel manta\",\\n        \"Origin\": \"Europe\",\\n        \"Weight_in_lbs\": 2300,\\n        \"Year\": \"1974-01-01\"\\n      },\\n      {\\n        \"Acceleration\": 16.5,\\n        \"Cylinders\": 4,\\n        \"Displacement\": 76.0,\\n        \"Horsepower\": 52.0,\\n        \"Miles_per_Gallon\": 31.0,\\n        \"Name\": \"toyota corona\",\\n        \"Origin\": \"Japan\",\\n        \"Weight_in_lbs\": 1649,\\n        \"Year\": \"1974-01-01\"\\n      },\\n      {\\n        \"Acceleration\": 19.0,\\n        \"Cylinders\": 4,\\n        \"Displacement\": 83.0,\\n        \"Horsepower\": 61.0,\\n        \"Miles_per_Gallon\": 32.0,\\n        \"Name\": \"datsun 710\",\\n        \"Origin\": \"Japan\",\\n        \"Weight_in_lbs\": 2003,\\n        \"Year\": \"1974-01-01\"\\n      },\\n      {\\n        \"Acceleration\": 14.5,\\n        \"Cylinders\": 4,\\n        \"Displacement\": 90.0,\\n        \"Horsepower\": 75.0,\\n        \"Miles_per_Gallon\": 28.0,\\n        \"Name\": \"dodge colt\",\\n        \"Origin\": \"USA\",\\n        \"Weight_in_lbs\": 2125,\\n        \"Year\": \"1974-01-01\"\\n      },\\n      {\\n        \"Acceleration\": 15.5,\\n        \"Cylinders\": 4,\\n        \"Displacement\": 90.0,\\n        \"Horsepower\": 75.0,\\n        \"Miles_per_Gallon\": 24.0,\\n        \"Name\": \"fiat 128\",\\n        \"Origin\": \"Europe\",\\n        \"Weight_in_lbs\": 2108,\\n        \"Year\": \"1974-01-01\"\\n      },\\n      {\\n        \"Acceleration\": 14.0,\\n        \"Cylinders\": 4,\\n        \"Displacement\": 116.0,\\n        \"Horsepower\": 75.0,\\n        \"Miles_per_Gallon\": 26.0,\\n        \"Name\": \"fiat 124 tc\",\\n        \"Origin\": \"Europe\",\\n        \"Weight_in_lbs\": 2246,\\n        \"Year\": \"1974-01-01\"\\n      },\\n      {\\n        \"Acceleration\": 15.0,\\n        \"Cylinders\": 4,\\n        \"Displacement\": 120.0,\\n        \"Horsepower\": 97.0,\\n        \"Miles_per_Gallon\": 24.0,\\n        \"Name\": \"honda civic\",\\n        \"Origin\": \"Japan\",\\n        \"Weight_in_lbs\": 2489,\\n        \"Year\": \"1974-01-01\"\\n      },\\n      {\\n        \"Acceleration\": 15.5,\\n        \"Cylinders\": 4,\\n        \"Displacement\": 108.0,\\n        \"Horsepower\": 93.0,\\n        \"Miles_per_Gallon\": 26.0,\\n        \"Name\": \"subaru\",\\n        \"Origin\": \"Japan\",\\n        \"Weight_in_lbs\": 2391,\\n        \"Year\": \"1974-01-01\"\\n      },\\n      {\\n        \"Acceleration\": 16.0,\\n        \"Cylinders\": 4,\\n        \"Displacement\": 79.0,\\n        \"Horsepower\": 67.0,\\n        \"Miles_per_Gallon\": 31.0,\\n        \"Name\": \"fiat x1.9\",\\n        \"Origin\": \"Europe\",\\n        \"Weight_in_lbs\": 2000,\\n        \"Year\": \"1974-01-01\"\\n      },\\n      {\\n        \"Acceleration\": 16.0,\\n        \"Cylinders\": 6,\\n        \"Displacement\": 225.0,\\n        \"Horsepower\": 95.0,\\n        \"Miles_per_Gallon\": 19.0,\\n        \"Name\": \"plymouth valiant custom\",\\n        \"Origin\": \"USA\",\\n        \"Weight_in_lbs\": 3264,\\n        \"Year\": \"1975-01-01\"\\n      },\\n      {\\n        \"Acceleration\": 16.0,\\n        \"Cylinders\": 6,\\n        \"Displacement\": 250.0,\\n        \"Horsepower\": 105.0,\\n        \"Miles_per_Gallon\": 18.0,\\n        \"Name\": \"chevrolet nova\",\\n        \"Origin\": \"USA\",\\n        \"Weight_in_lbs\": 3459,\\n        \"Year\": \"1975-01-01\"\\n      },\\n      {\\n        \"Acceleration\": 21.0,\\n        \"Cylinders\": 6,\\n        \"Displacement\": 250.0,\\n        \"Horsepower\": 72.0,\\n        \"Miles_per_Gallon\": 15.0,\\n        \"Name\": \"mercury monarch\",\\n        \"Origin\": \"USA\",\\n        \"Weight_in_lbs\": 3432,\\n        \"Year\": \"1975-01-01\"\\n      },\\n      {\\n        \"Acceleration\": 19.5,\\n        \"Cylinders\": 6,\\n        \"Displacement\": 250.0,\\n        \"Horsepower\": 72.0,\\n        \"Miles_per_Gallon\": 15.0,\\n        \"Name\": \"ford maverick\",\\n        \"Origin\": \"USA\",\\n        \"Weight_in_lbs\": 3158,\\n        \"Year\": \"1975-01-01\"\\n      },\\n      {\\n        \"Acceleration\": 11.5,\\n        \"Cylinders\": 8,\\n        \"Displacement\": 400.0,\\n        \"Horsepower\": 170.0,\\n        \"Miles_per_Gallon\": 16.0,\\n        \"Name\": \"pontiac catalina\",\\n        \"Origin\": \"USA\",\\n        \"Weight_in_lbs\": 4668,\\n        \"Year\": \"1975-01-01\"\\n      },\\n      {\\n        \"Acceleration\": 14.0,\\n        \"Cylinders\": 8,\\n        \"Displacement\": 350.0,\\n        \"Horsepower\": 145.0,\\n        \"Miles_per_Gallon\": 15.0,\\n        \"Name\": \"chevrolet bel air\",\\n        \"Origin\": \"USA\",\\n        \"Weight_in_lbs\": 4440,\\n        \"Year\": \"1975-01-01\"\\n      },\\n      {\\n        \"Acceleration\": 14.5,\\n        \"Cylinders\": 8,\\n        \"Displacement\": 318.0,\\n        \"Horsepower\": 150.0,\\n        \"Miles_per_Gallon\": 16.0,\\n        \"Name\": \"plymouth grand fury\",\\n        \"Origin\": \"USA\",\\n        \"Weight_in_lbs\": 4498,\\n        \"Year\": \"1975-01-01\"\\n      },\\n      {\\n        \"Acceleration\": 13.5,\\n        \"Cylinders\": 8,\\n        \"Displacement\": 351.0,\\n        \"Horsepower\": 148.0,\\n        \"Miles_per_Gallon\": 14.0,\\n        \"Name\": \"ford ltd\",\\n        \"Origin\": \"USA\",\\n        \"Weight_in_lbs\": 4657,\\n        \"Year\": \"1975-01-01\"\\n      },\\n      {\\n        \"Acceleration\": 21.0,\\n        \"Cylinders\": 6,\\n        \"Displacement\": 231.0,\\n        \"Horsepower\": 110.0,\\n        \"Miles_per_Gallon\": 17.0,\\n        \"Name\": \"buick century\",\\n        \"Origin\": \"USA\",\\n        \"Weight_in_lbs\": 3907,\\n        \"Year\": \"1975-01-01\"\\n      },\\n      {\\n        \"Acceleration\": 18.5,\\n        \"Cylinders\": 6,\\n        \"Displacement\": 250.0,\\n        \"Horsepower\": 105.0,\\n        \"Miles_per_Gallon\": 16.0,\\n        \"Name\": \"chevroelt chevelle malibu\",\\n        \"Origin\": \"USA\",\\n        \"Weight_in_lbs\": 3897,\\n        \"Year\": \"1975-01-01\"\\n      },\\n      {\\n        \"Acceleration\": 19.0,\\n        \"Cylinders\": 6,\\n        \"Displacement\": 258.0,\\n        \"Horsepower\": 110.0,\\n        \"Miles_per_Gallon\": 15.0,\\n        \"Name\": \"amc matador\",\\n        \"Origin\": \"USA\",\\n        \"Weight_in_lbs\": 3730,\\n        \"Year\": \"1975-01-01\"\\n      },\\n      {\\n        \"Acceleration\": 19.0,\\n        \"Cylinders\": 6,\\n        \"Displacement\": 225.0,\\n        \"Horsepower\": 95.0,\\n        \"Miles_per_Gallon\": 18.0,\\n        \"Name\": \"plymouth fury\",\\n        \"Origin\": \"USA\",\\n        \"Weight_in_lbs\": 3785,\\n        \"Year\": \"1975-01-01\"\\n      },\\n      {\\n        \"Acceleration\": 15.0,\\n        \"Cylinders\": 6,\\n        \"Displacement\": 231.0,\\n        \"Horsepower\": 110.0,\\n        \"Miles_per_Gallon\": 21.0,\\n        \"Name\": \"buick skyhawk\",\\n        \"Origin\": \"USA\",\\n        \"Weight_in_lbs\": 3039,\\n        \"Year\": \"1975-01-01\"\\n      },\\n      {\\n        \"Acceleration\": 13.5,\\n        \"Cylinders\": 8,\\n        \"Displacement\": 262.0,\\n        \"Horsepower\": 110.0,\\n        \"Miles_per_Gallon\": 20.0,\\n        \"Name\": \"chevrolet monza 2+2\",\\n        \"Origin\": \"USA\",\\n        \"Weight_in_lbs\": 3221,\\n        \"Year\": \"1975-01-01\"\\n      },\\n      {\\n        \"Acceleration\": 12.0,\\n        \"Cylinders\": 8,\\n        \"Displacement\": 302.0,\\n        \"Horsepower\": 129.0,\\n        \"Miles_per_Gallon\": 13.0,\\n        \"Name\": \"ford mustang ii\",\\n        \"Origin\": \"USA\",\\n        \"Weight_in_lbs\": 3169,\\n        \"Year\": \"1975-01-01\"\\n      },\\n      {\\n        \"Acceleration\": 16.0,\\n        \"Cylinders\": 4,\\n        \"Displacement\": 97.0,\\n        \"Horsepower\": 75.0,\\n        \"Miles_per_Gallon\": 29.0,\\n        \"Name\": \"toyota corolla\",\\n        \"Origin\": \"Japan\",\\n        \"Weight_in_lbs\": 2171,\\n        \"Year\": \"1975-01-01\"\\n      },\\n      {\\n        \"Acceleration\": 17.0,\\n        \"Cylinders\": 4,\\n        \"Displacement\": 140.0,\\n        \"Horsepower\": 83.0,\\n        \"Miles_per_Gallon\": 23.0,\\n        \"Name\": \"ford pinto\",\\n        \"Origin\": \"USA\",\\n        \"Weight_in_lbs\": 2639,\\n        \"Year\": \"1975-01-01\"\\n      },\\n      {\\n        \"Acceleration\": 16.0,\\n        \"Cylinders\": 6,\\n        \"Displacement\": 232.0,\\n        \"Horsepower\": 100.0,\\n        \"Miles_per_Gallon\": 20.0,\\n        \"Name\": \"amc gremlin\",\\n        \"Origin\": \"USA\",\\n        \"Weight_in_lbs\": 2914,\\n        \"Year\": \"1975-01-01\"\\n      },\\n      {\\n        \"Acceleration\": 18.5,\\n        \"Cylinders\": 4,\\n        \"Displacement\": 140.0,\\n        \"Horsepower\": 78.0,\\n        \"Miles_per_Gallon\": 23.0,\\n        \"Name\": \"pontiac astro\",\\n        \"Origin\": \"USA\",\\n        \"Weight_in_lbs\": 2592,\\n        \"Year\": \"1975-01-01\"\\n      },\\n      {\\n        \"Acceleration\": 13.5,\\n        \"Cylinders\": 4,\\n        \"Displacement\": 134.0,\\n        \"Horsepower\": 96.0,\\n        \"Miles_per_Gallon\": 24.0,\\n        \"Name\": \"toyota corona\",\\n        \"Origin\": \"Japan\",\\n        \"Weight_in_lbs\": 2702,\\n        \"Year\": \"1975-01-01\"\\n      },\\n      {\\n        \"Acceleration\": 16.5,\\n        \"Cylinders\": 4,\\n        \"Displacement\": 90.0,\\n        \"Horsepower\": 71.0,\\n        \"Miles_per_Gallon\": 25.0,\\n        \"Name\": \"volkswagen dasher\",\\n        \"Origin\": \"Europe\",\\n        \"Weight_in_lbs\": 2223,\\n        \"Year\": \"1975-01-01\"\\n      },\\n      {\\n        \"Acceleration\": 17.0,\\n        \"Cylinders\": 4,\\n        \"Displacement\": 119.0,\\n        \"Horsepower\": 97.0,\\n        \"Miles_per_Gallon\": 24.0,\\n        \"Name\": \"datsun 710\",\\n        \"Origin\": \"Japan\",\\n        \"Weight_in_lbs\": 2545,\\n        \"Year\": \"1975-01-01\"\\n      },\\n      {\\n        \"Acceleration\": 14.5,\\n        \"Cylinders\": 6,\\n        \"Displacement\": 171.0,\\n        \"Horsepower\": 97.0,\\n        \"Miles_per_Gallon\": 18.0,\\n        \"Name\": \"ford pinto\",\\n        \"Origin\": \"USA\",\\n        \"Weight_in_lbs\": 2984,\\n        \"Year\": \"1975-01-01\"\\n      },\\n      {\\n        \"Acceleration\": 14.0,\\n        \"Cylinders\": 4,\\n        \"Displacement\": 90.0,\\n        \"Horsepower\": 70.0,\\n        \"Miles_per_Gallon\": 29.0,\\n        \"Name\": \"volkswagen rabbit\",\\n        \"Origin\": \"Europe\",\\n        \"Weight_in_lbs\": 1937,\\n        \"Year\": \"1975-01-01\"\\n      },\\n      {\\n        \"Acceleration\": 17.0,\\n        \"Cylinders\": 6,\\n        \"Displacement\": 232.0,\\n        \"Horsepower\": 90.0,\\n        \"Miles_per_Gallon\": 19.0,\\n        \"Name\": \"amc pacer\",\\n        \"Origin\": \"USA\",\\n        \"Weight_in_lbs\": 3211,\\n        \"Year\": \"1975-01-01\"\\n      },\\n      {\\n        \"Acceleration\": 15.0,\\n        \"Cylinders\": 4,\\n        \"Displacement\": 115.0,\\n        \"Horsepower\": 95.0,\\n        \"Miles_per_Gallon\": 23.0,\\n        \"Name\": \"audi 100ls\",\\n        \"Origin\": \"Europe\",\\n        \"Weight_in_lbs\": 2694,\\n        \"Year\": \"1975-01-01\"\\n      },\\n      {\\n        \"Acceleration\": 17.0,\\n        \"Cylinders\": 4,\\n        \"Displacement\": 120.0,\\n        \"Horsepower\": 88.0,\\n        \"Miles_per_Gallon\": 23.0,\\n        \"Name\": \"peugeot 504\",\\n        \"Origin\": \"Europe\",\\n        \"Weight_in_lbs\": 2957,\\n        \"Year\": \"1975-01-01\"\\n      },\\n      {\\n        \"Acceleration\": 14.5,\\n        \"Cylinders\": 4,\\n        \"Displacement\": 121.0,\\n        \"Horsepower\": 98.0,\\n        \"Miles_per_Gallon\": 22.0,\\n        \"Name\": \"volvo 244dl\",\\n        \"Origin\": \"Europe\",\\n        \"Weight_in_lbs\": 2945,\\n        \"Year\": \"1975-01-01\"\\n      },\\n      {\\n        \"Acceleration\": 13.5,\\n        \"Cylinders\": 4,\\n        \"Displacement\": 121.0,\\n        \"Horsepower\": 115.0,\\n        \"Miles_per_Gallon\": 25.0,\\n        \"Name\": \"saab 99le\",\\n        \"Origin\": \"Europe\",\\n        \"Weight_in_lbs\": 2671,\\n        \"Year\": \"1975-01-01\"\\n      },\\n      {\\n        \"Acceleration\": 17.5,\\n        \"Cylinders\": 4,\\n        \"Displacement\": 91.0,\\n        \"Horsepower\": 53.0,\\n        \"Miles_per_Gallon\": 33.0,\\n        \"Name\": \"honda civic cvcc\",\\n        \"Origin\": \"Japan\",\\n        \"Weight_in_lbs\": 1795,\\n        \"Year\": \"1975-01-01\"\\n      },\\n      {\\n        \"Acceleration\": 15.5,\\n        \"Cylinders\": 4,\\n        \"Displacement\": 107.0,\\n        \"Horsepower\": 86.0,\\n        \"Miles_per_Gallon\": 28.0,\\n        \"Name\": \"fiat 131\",\\n        \"Origin\": \"Europe\",\\n        \"Weight_in_lbs\": 2464,\\n        \"Year\": \"1976-01-01\"\\n      },\\n      {\\n        \"Acceleration\": 16.9,\\n        \"Cylinders\": 4,\\n        \"Displacement\": 116.0,\\n        \"Horsepower\": 81.0,\\n        \"Miles_per_Gallon\": 25.0,\\n        \"Name\": \"opel 1900\",\\n        \"Origin\": \"Europe\",\\n        \"Weight_in_lbs\": 2220,\\n        \"Year\": \"1976-01-01\"\\n      },\\n      {\\n        \"Acceleration\": 14.9,\\n        \"Cylinders\": 4,\\n        \"Displacement\": 140.0,\\n        \"Horsepower\": 92.0,\\n        \"Miles_per_Gallon\": 25.0,\\n        \"Name\": \"capri ii\",\\n        \"Origin\": \"USA\",\\n        \"Weight_in_lbs\": 2572,\\n        \"Year\": \"1976-01-01\"\\n      },\\n      {\\n        \"Acceleration\": 17.7,\\n        \"Cylinders\": 4,\\n        \"Displacement\": 98.0,\\n        \"Horsepower\": 79.0,\\n        \"Miles_per_Gallon\": 26.0,\\n        \"Name\": \"dodge colt\",\\n        \"Origin\": \"USA\",\\n        \"Weight_in_lbs\": 2255,\\n        \"Year\": \"1976-01-01\"\\n      },\\n      {\\n        \"Acceleration\": 15.3,\\n        \"Cylinders\": 4,\\n        \"Displacement\": 101.0,\\n        \"Horsepower\": 83.0,\\n        \"Miles_per_Gallon\": 27.0,\\n        \"Name\": \"renault 12tl\",\\n        \"Origin\": \"Europe\",\\n        \"Weight_in_lbs\": 2202,\\n        \"Year\": \"1976-01-01\"\\n      },\\n      {\\n        \"Acceleration\": 13.0,\\n        \"Cylinders\": 8,\\n        \"Displacement\": 305.0,\\n        \"Horsepower\": 140.0,\\n        \"Miles_per_Gallon\": 17.5,\\n        \"Name\": \"chevrolet chevelle malibu classic\",\\n        \"Origin\": \"USA\",\\n        \"Weight_in_lbs\": 4215,\\n        \"Year\": \"1976-01-01\"\\n      },\\n      {\\n        \"Acceleration\": 13.0,\\n        \"Cylinders\": 8,\\n        \"Displacement\": 318.0,\\n        \"Horsepower\": 150.0,\\n        \"Miles_per_Gallon\": 16.0,\\n        \"Name\": \"dodge coronet brougham\",\\n        \"Origin\": \"USA\",\\n        \"Weight_in_lbs\": 4190,\\n        \"Year\": \"1976-01-01\"\\n      },\\n      {\\n        \"Acceleration\": 13.9,\\n        \"Cylinders\": 8,\\n        \"Displacement\": 304.0,\\n        \"Horsepower\": 120.0,\\n        \"Miles_per_Gallon\": 15.5,\\n        \"Name\": \"amc matador\",\\n        \"Origin\": \"USA\",\\n        \"Weight_in_lbs\": 3962,\\n        \"Year\": \"1976-01-01\"\\n      },\\n      {\\n        \"Acceleration\": 12.8,\\n        \"Cylinders\": 8,\\n        \"Displacement\": 351.0,\\n        \"Horsepower\": 152.0,\\n        \"Miles_per_Gallon\": 14.5,\\n        \"Name\": \"ford gran torino\",\\n        \"Origin\": \"USA\",\\n        \"Weight_in_lbs\": 4215,\\n        \"Year\": \"1976-01-01\"\\n      },\\n      {\\n        \"Acceleration\": 15.4,\\n        \"Cylinders\": 6,\\n        \"Displacement\": 225.0,\\n        \"Horsepower\": 100.0,\\n        \"Miles_per_Gallon\": 22.0,\\n        \"Name\": \"plymouth valiant\",\\n        \"Origin\": \"USA\",\\n        \"Weight_in_lbs\": 3233,\\n        \"Year\": \"1976-01-01\"\\n      },\\n      {\\n        \"Acceleration\": 14.5,\\n        \"Cylinders\": 6,\\n        \"Displacement\": 250.0,\\n        \"Horsepower\": 105.0,\\n        \"Miles_per_Gallon\": 22.0,\\n        \"Name\": \"chevrolet nova\",\\n        \"Origin\": \"USA\",\\n        \"Weight_in_lbs\": 3353,\\n        \"Year\": \"1976-01-01\"\\n      },\\n      {\\n        \"Acceleration\": 17.6,\\n        \"Cylinders\": 6,\\n        \"Displacement\": 200.0,\\n        \"Horsepower\": 81.0,\\n        \"Miles_per_Gallon\": 24.0,\\n        \"Name\": \"ford maverick\",\\n        \"Origin\": \"USA\",\\n        \"Weight_in_lbs\": 3012,\\n        \"Year\": \"1976-01-01\"\\n      },\\n      {\\n        \"Acceleration\": 17.6,\\n        \"Cylinders\": 6,\\n        \"Displacement\": 232.0,\\n        \"Horsepower\": 90.0,\\n        \"Miles_per_Gallon\": 22.5,\\n        \"Name\": \"amc hornet\",\\n        \"Origin\": \"USA\",\\n        \"Weight_in_lbs\": 3085,\\n        \"Year\": \"1976-01-01\"\\n      },\\n      {\\n        \"Acceleration\": 22.2,\\n        \"Cylinders\": 4,\\n        \"Displacement\": 85.0,\\n        \"Horsepower\": 52.0,\\n        \"Miles_per_Gallon\": 29.0,\\n        \"Name\": \"chevrolet chevette\",\\n        \"Origin\": \"USA\",\\n        \"Weight_in_lbs\": 2035,\\n        \"Year\": \"1976-01-01\"\\n      },\\n      {\\n        \"Acceleration\": 22.1,\\n        \"Cylinders\": 4,\\n        \"Displacement\": 98.0,\\n        \"Horsepower\": 60.0,\\n        \"Miles_per_Gallon\": 24.5,\\n        \"Name\": \"chevrolet woody\",\\n        \"Origin\": \"USA\",\\n        \"Weight_in_lbs\": 2164,\\n        \"Year\": \"1976-01-01\"\\n      },\\n      {\\n        \"Acceleration\": 14.2,\\n        \"Cylinders\": 4,\\n        \"Displacement\": 90.0,\\n        \"Horsepower\": 70.0,\\n        \"Miles_per_Gallon\": 29.0,\\n        \"Name\": \"vw rabbit\",\\n        \"Origin\": \"Europe\",\\n        \"Weight_in_lbs\": 1937,\\n        \"Year\": \"1976-01-01\"\\n      },\\n      {\\n        \"Acceleration\": 17.4,\\n        \"Cylinders\": 4,\\n        \"Displacement\": 91.0,\\n        \"Horsepower\": 53.0,\\n        \"Miles_per_Gallon\": 33.0,\\n        \"Name\": \"honda civic\",\\n        \"Origin\": \"Japan\",\\n        \"Weight_in_lbs\": 1795,\\n        \"Year\": \"1976-01-01\"\\n      },\\n      {\\n        \"Acceleration\": 17.7,\\n        \"Cylinders\": 6,\\n        \"Displacement\": 225.0,\\n        \"Horsepower\": 100.0,\\n        \"Miles_per_Gallon\": 20.0,\\n        \"Name\": \"dodge aspen se\",\\n        \"Origin\": \"USA\",\\n        \"Weight_in_lbs\": 3651,\\n        \"Year\": \"1976-01-01\"\\n      },\\n      {\\n        \"Acceleration\": 21.0,\\n        \"Cylinders\": 6,\\n        \"Displacement\": 250.0,\\n        \"Horsepower\": 78.0,\\n        \"Miles_per_Gallon\": 18.0,\\n        \"Name\": \"ford granada ghia\",\\n        \"Origin\": \"USA\",\\n        \"Weight_in_lbs\": 3574,\\n        \"Year\": \"1976-01-01\"\\n      },\\n      {\\n        \"Acceleration\": 16.2,\\n        \"Cylinders\": 6,\\n        \"Displacement\": 250.0,\\n        \"Horsepower\": 110.0,\\n        \"Miles_per_Gallon\": 18.5,\\n        \"Name\": \"pontiac ventura sj\",\\n        \"Origin\": \"USA\",\\n        \"Weight_in_lbs\": 3645,\\n        \"Year\": \"1976-01-01\"\\n      },\\n      {\\n        \"Acceleration\": 17.8,\\n        \"Cylinders\": 6,\\n        \"Displacement\": 258.0,\\n        \"Horsepower\": 95.0,\\n        \"Miles_per_Gallon\": 17.5,\\n        \"Name\": \"amc pacer d/l\",\\n        \"Origin\": \"USA\",\\n        \"Weight_in_lbs\": 3193,\\n        \"Year\": \"1976-01-01\"\\n      },\\n      {\\n        \"Acceleration\": 12.2,\\n        \"Cylinders\": 4,\\n        \"Displacement\": 97.0,\\n        \"Horsepower\": 71.0,\\n        \"Miles_per_Gallon\": 29.5,\\n        \"Name\": \"volkswagen rabbit\",\\n        \"Origin\": \"Europe\",\\n        \"Weight_in_lbs\": 1825,\\n        \"Year\": \"1976-01-01\"\\n      },\\n      {\\n        \"Acceleration\": 17.0,\\n        \"Cylinders\": 4,\\n        \"Displacement\": 85.0,\\n        \"Horsepower\": 70.0,\\n        \"Miles_per_Gallon\": 32.0,\\n        \"Name\": \"datsun b-210\",\\n        \"Origin\": \"Japan\",\\n        \"Weight_in_lbs\": 1990,\\n        \"Year\": \"1976-01-01\"\\n      },\\n      {\\n        \"Acceleration\": 16.4,\\n        \"Cylinders\": 4,\\n        \"Displacement\": 97.0,\\n        \"Horsepower\": 75.0,\\n        \"Miles_per_Gallon\": 28.0,\\n        \"Name\": \"toyota corolla\",\\n        \"Origin\": \"Japan\",\\n        \"Weight_in_lbs\": 2155,\\n        \"Year\": \"1976-01-01\"\\n      },\\n      {\\n        \"Acceleration\": 13.6,\\n        \"Cylinders\": 4,\\n        \"Displacement\": 140.0,\\n        \"Horsepower\": 72.0,\\n        \"Miles_per_Gallon\": 26.5,\\n        \"Name\": \"ford pinto\",\\n        \"Origin\": \"USA\",\\n        \"Weight_in_lbs\": 2565,\\n        \"Year\": \"1976-01-01\"\\n      },\\n      {\\n        \"Acceleration\": 15.7,\\n        \"Cylinders\": 4,\\n        \"Displacement\": 130.0,\\n        \"Horsepower\": 102.0,\\n        \"Miles_per_Gallon\": 20.0,\\n        \"Name\": \"volvo 245\",\\n        \"Origin\": \"Europe\",\\n        \"Weight_in_lbs\": 3150,\\n        \"Year\": \"1976-01-01\"\\n      },\\n      {\\n        \"Acceleration\": 13.2,\\n        \"Cylinders\": 8,\\n        \"Displacement\": 318.0,\\n        \"Horsepower\": 150.0,\\n        \"Miles_per_Gallon\": 13.0,\\n        \"Name\": \"plymouth volare premier v8\",\\n        \"Origin\": \"USA\",\\n        \"Weight_in_lbs\": 3940,\\n        \"Year\": \"1976-01-01\"\\n      },\\n      {\\n        \"Acceleration\": 21.9,\\n        \"Cylinders\": 4,\\n        \"Displacement\": 120.0,\\n        \"Horsepower\": 88.0,\\n        \"Miles_per_Gallon\": 19.0,\\n        \"Name\": \"peugeot 504\",\\n        \"Origin\": \"Europe\",\\n        \"Weight_in_lbs\": 3270,\\n        \"Year\": \"1976-01-01\"\\n      },\\n      {\\n        \"Acceleration\": 15.5,\\n        \"Cylinders\": 6,\\n        \"Displacement\": 156.0,\\n        \"Horsepower\": 108.0,\\n        \"Miles_per_Gallon\": 19.0,\\n        \"Name\": \"toyota mark ii\",\\n        \"Origin\": \"Japan\",\\n        \"Weight_in_lbs\": 2930,\\n        \"Year\": \"1976-01-01\"\\n      },\\n      {\\n        \"Acceleration\": 16.7,\\n        \"Cylinders\": 6,\\n        \"Displacement\": 168.0,\\n        \"Horsepower\": 120.0,\\n        \"Miles_per_Gallon\": 16.5,\\n        \"Name\": \"mercedes-benz 280s\",\\n        \"Origin\": \"Europe\",\\n        \"Weight_in_lbs\": 3820,\\n        \"Year\": \"1976-01-01\"\\n      },\\n      {\\n        \"Acceleration\": 12.1,\\n        \"Cylinders\": 8,\\n        \"Displacement\": 350.0,\\n        \"Horsepower\": 180.0,\\n        \"Miles_per_Gallon\": 16.5,\\n        \"Name\": \"cadillac seville\",\\n        \"Origin\": \"USA\",\\n        \"Weight_in_lbs\": 4380,\\n        \"Year\": \"1976-01-01\"\\n      },\\n      {\\n        \"Acceleration\": 12.0,\\n        \"Cylinders\": 8,\\n        \"Displacement\": 350.0,\\n        \"Horsepower\": 145.0,\\n        \"Miles_per_Gallon\": 13.0,\\n        \"Name\": \"chevy c10\",\\n        \"Origin\": \"USA\",\\n        \"Weight_in_lbs\": 4055,\\n        \"Year\": \"1976-01-01\"\\n      },\\n      {\\n        \"Acceleration\": 15.0,\\n        \"Cylinders\": 8,\\n        \"Displacement\": 302.0,\\n        \"Horsepower\": 130.0,\\n        \"Miles_per_Gallon\": 13.0,\\n        \"Name\": \"ford f108\",\\n        \"Origin\": \"USA\",\\n        \"Weight_in_lbs\": 3870,\\n        \"Year\": \"1976-01-01\"\\n      },\\n      {\\n        \"Acceleration\": 14.0,\\n        \"Cylinders\": 8,\\n        \"Displacement\": 318.0,\\n        \"Horsepower\": 150.0,\\n        \"Miles_per_Gallon\": 13.0,\\n        \"Name\": \"dodge d100\",\\n        \"Origin\": \"USA\",\\n        \"Weight_in_lbs\": 3755,\\n        \"Year\": \"1976-01-01\"\\n      },\\n      {\\n        \"Acceleration\": 18.5,\\n        \"Cylinders\": 4,\\n        \"Displacement\": 98.0,\\n        \"Horsepower\": 68.0,\\n        \"Miles_per_Gallon\": 31.5,\\n        \"Name\": \"honda Accelerationord cvcc\",\\n        \"Origin\": \"Japan\",\\n        \"Weight_in_lbs\": 2045,\\n        \"Year\": \"1977-01-01\"\\n      },\\n      {\\n        \"Acceleration\": 14.8,\\n        \"Cylinders\": 4,\\n        \"Displacement\": 111.0,\\n        \"Horsepower\": 80.0,\\n        \"Miles_per_Gallon\": 30.0,\\n        \"Name\": \"buick opel isuzu deluxe\",\\n        \"Origin\": \"USA\",\\n        \"Weight_in_lbs\": 2155,\\n        \"Year\": \"1977-01-01\"\\n      },\\n      {\\n        \"Acceleration\": 18.6,\\n        \"Cylinders\": 4,\\n        \"Displacement\": 79.0,\\n        \"Horsepower\": 58.0,\\n        \"Miles_per_Gallon\": 36.0,\\n        \"Name\": \"renault 5 gtl\",\\n        \"Origin\": \"Europe\",\\n        \"Weight_in_lbs\": 1825,\\n        \"Year\": \"1977-01-01\"\\n      },\\n      {\\n        \"Acceleration\": 15.5,\\n        \"Cylinders\": 4,\\n        \"Displacement\": 122.0,\\n        \"Horsepower\": 96.0,\\n        \"Miles_per_Gallon\": 25.5,\\n        \"Name\": \"plymouth arrow gs\",\\n        \"Origin\": \"USA\",\\n        \"Weight_in_lbs\": 2300,\\n        \"Year\": \"1977-01-01\"\\n      },\\n      {\\n        \"Acceleration\": 16.8,\\n        \"Cylinders\": 4,\\n        \"Displacement\": 85.0,\\n        \"Horsepower\": 70.0,\\n        \"Miles_per_Gallon\": 33.5,\\n        \"Name\": \"datsun f-10 hatchback\",\\n        \"Origin\": \"Japan\",\\n        \"Weight_in_lbs\": 1945,\\n        \"Year\": \"1977-01-01\"\\n      },\\n      {\\n        \"Acceleration\": 12.5,\\n        \"Cylinders\": 8,\\n        \"Displacement\": 305.0,\\n        \"Horsepower\": 145.0,\\n        \"Miles_per_Gallon\": 17.5,\\n        \"Name\": \"chevrolet caprice classic\",\\n        \"Origin\": \"USA\",\\n        \"Weight_in_lbs\": 3880,\\n        \"Year\": \"1977-01-01\"\\n      },\\n      {\\n        \"Acceleration\": 19.0,\\n        \"Cylinders\": 8,\\n        \"Displacement\": 260.0,\\n        \"Horsepower\": 110.0,\\n        \"Miles_per_Gallon\": 17.0,\\n        \"Name\": \"oldsmobile cutlass supreme\",\\n        \"Origin\": \"USA\",\\n        \"Weight_in_lbs\": 4060,\\n        \"Year\": \"1977-01-01\"\\n      },\\n      {\\n        \"Acceleration\": 13.7,\\n        \"Cylinders\": 8,\\n        \"Displacement\": 318.0,\\n        \"Horsepower\": 145.0,\\n        \"Miles_per_Gallon\": 15.5,\\n        \"Name\": \"dodge monaco brougham\",\\n        \"Origin\": \"USA\",\\n        \"Weight_in_lbs\": 4140,\\n        \"Year\": \"1977-01-01\"\\n      },\\n      {\\n        \"Acceleration\": 14.9,\\n        \"Cylinders\": 8,\\n        \"Displacement\": 302.0,\\n        \"Horsepower\": 130.0,\\n        \"Miles_per_Gallon\": 15.0,\\n        \"Name\": \"mercury cougar brougham\",\\n        \"Origin\": \"USA\",\\n        \"Weight_in_lbs\": 4295,\\n        \"Year\": \"1977-01-01\"\\n      },\\n      {\\n        \"Acceleration\": 16.4,\\n        \"Cylinders\": 6,\\n        \"Displacement\": 250.0,\\n        \"Horsepower\": 110.0,\\n        \"Miles_per_Gallon\": 17.5,\\n        \"Name\": \"chevrolet concours\",\\n        \"Origin\": \"USA\",\\n        \"Weight_in_lbs\": 3520,\\n        \"Year\": \"1977-01-01\"\\n      },\\n      {\\n        \"Acceleration\": 16.9,\\n        \"Cylinders\": 6,\\n        \"Displacement\": 231.0,\\n        \"Horsepower\": 105.0,\\n        \"Miles_per_Gallon\": 20.5,\\n        \"Name\": \"buick skylark\",\\n        \"Origin\": \"USA\",\\n        \"Weight_in_lbs\": 3425,\\n        \"Year\": \"1977-01-01\"\\n      },\\n      {\\n        \"Acceleration\": 17.7,\\n        \"Cylinders\": 6,\\n        \"Displacement\": 225.0,\\n        \"Horsepower\": 100.0,\\n        \"Miles_per_Gallon\": 19.0,\\n        \"Name\": \"plymouth volare custom\",\\n        \"Origin\": \"USA\",\\n        \"Weight_in_lbs\": 3630,\\n        \"Year\": \"1977-01-01\"\\n      },\\n      {\\n        \"Acceleration\": 19.0,\\n        \"Cylinders\": 6,\\n        \"Displacement\": 250.0,\\n        \"Horsepower\": 98.0,\\n        \"Miles_per_Gallon\": 18.5,\\n        \"Name\": \"ford granada\",\\n        \"Origin\": \"USA\",\\n        \"Weight_in_lbs\": 3525,\\n        \"Year\": \"1977-01-01\"\\n      },\\n      {\\n        \"Acceleration\": 11.1,\\n        \"Cylinders\": 8,\\n        \"Displacement\": 400.0,\\n        \"Horsepower\": 180.0,\\n        \"Miles_per_Gallon\": 16.0,\\n        \"Name\": \"pontiac grand prix lj\",\\n        \"Origin\": \"USA\",\\n        \"Weight_in_lbs\": 4220,\\n        \"Year\": \"1977-01-01\"\\n      },\\n      {\\n        \"Acceleration\": 11.4,\\n        \"Cylinders\": 8,\\n        \"Displacement\": 350.0,\\n        \"Horsepower\": 170.0,\\n        \"Miles_per_Gallon\": 15.5,\\n        \"Name\": \"chevrolet monte carlo landau\",\\n        \"Origin\": \"USA\",\\n        \"Weight_in_lbs\": 4165,\\n        \"Year\": \"1977-01-01\"\\n      },\\n      {\\n        \"Acceleration\": 12.2,\\n        \"Cylinders\": 8,\\n        \"Displacement\": 400.0,\\n        \"Horsepower\": 190.0,\\n        \"Miles_per_Gallon\": 15.5,\\n        \"Name\": \"chrysler cordoba\",\\n        \"Origin\": \"USA\",\\n        \"Weight_in_lbs\": 4325,\\n        \"Year\": \"1977-01-01\"\\n      },\\n      {\\n        \"Acceleration\": 14.5,\\n        \"Cylinders\": 8,\\n        \"Displacement\": 351.0,\\n        \"Horsepower\": 149.0,\\n        \"Miles_per_Gallon\": 16.0,\\n        \"Name\": \"ford thunderbird\",\\n        \"Origin\": \"USA\",\\n        \"Weight_in_lbs\": 4335,\\n        \"Year\": \"1977-01-01\"\\n      },\\n      {\\n        \"Acceleration\": 14.5,\\n        \"Cylinders\": 4,\\n        \"Displacement\": 97.0,\\n        \"Horsepower\": 78.0,\\n        \"Miles_per_Gallon\": 29.0,\\n        \"Name\": \"volkswagen rabbit custom\",\\n        \"Origin\": \"Europe\",\\n        \"Weight_in_lbs\": 1940,\\n        \"Year\": \"1977-01-01\"\\n      },\\n      {\\n        \"Acceleration\": 16.0,\\n        \"Cylinders\": 4,\\n        \"Displacement\": 151.0,\\n        \"Horsepower\": 88.0,\\n        \"Miles_per_Gallon\": 24.5,\\n        \"Name\": \"pontiac sunbird coupe\",\\n        \"Origin\": \"USA\",\\n        \"Weight_in_lbs\": 2740,\\n        \"Year\": \"1977-01-01\"\\n      },\\n      {\\n        \"Acceleration\": 18.2,\\n        \"Cylinders\": 4,\\n        \"Displacement\": 97.0,\\n        \"Horsepower\": 75.0,\\n        \"Miles_per_Gallon\": 26.0,\\n        \"Name\": \"toyota corolla liftback\",\\n        \"Origin\": \"Japan\",\\n        \"Weight_in_lbs\": 2265,\\n        \"Year\": \"1977-01-01\"\\n      },\\n      {\\n        \"Acceleration\": 15.8,\\n        \"Cylinders\": 4,\\n        \"Displacement\": 140.0,\\n        \"Horsepower\": 89.0,\\n        \"Miles_per_Gallon\": 25.5,\\n        \"Name\": \"ford mustang ii 2+2\",\\n        \"Origin\": \"USA\",\\n        \"Weight_in_lbs\": 2755,\\n        \"Year\": \"1977-01-01\"\\n      },\\n      {\\n        \"Acceleration\": 17.0,\\n        \"Cylinders\": 4,\\n        \"Displacement\": 98.0,\\n        \"Horsepower\": 63.0,\\n        \"Miles_per_Gallon\": 30.5,\\n        \"Name\": \"chevrolet chevette\",\\n        \"Origin\": \"USA\",\\n        \"Weight_in_lbs\": 2051,\\n        \"Year\": \"1977-01-01\"\\n      },\\n      {\\n        \"Acceleration\": 15.9,\\n        \"Cylinders\": 4,\\n        \"Displacement\": 98.0,\\n        \"Horsepower\": 83.0,\\n        \"Miles_per_Gallon\": 33.5,\\n        \"Name\": \"dodge colt m/m\",\\n        \"Origin\": \"USA\",\\n        \"Weight_in_lbs\": 2075,\\n        \"Year\": \"1977-01-01\"\\n      },\\n      {\\n        \"Acceleration\": 16.4,\\n        \"Cylinders\": 4,\\n        \"Displacement\": 97.0,\\n        \"Horsepower\": 67.0,\\n        \"Miles_per_Gallon\": 30.0,\\n        \"Name\": \"subaru dl\",\\n        \"Origin\": \"Japan\",\\n        \"Weight_in_lbs\": 1985,\\n        \"Year\": \"1977-01-01\"\\n      },\\n      {\\n        \"Acceleration\": 14.1,\\n        \"Cylinders\": 4,\\n        \"Displacement\": 97.0,\\n        \"Horsepower\": 78.0,\\n        \"Miles_per_Gallon\": 30.5,\\n        \"Name\": \"volkswagen dasher\",\\n        \"Origin\": \"Europe\",\\n        \"Weight_in_lbs\": 2190,\\n        \"Year\": \"1977-01-01\"\\n      },\\n      {\\n        \"Acceleration\": 14.5,\\n        \"Cylinders\": 6,\\n        \"Displacement\": 146.0,\\n        \"Horsepower\": 97.0,\\n        \"Miles_per_Gallon\": 22.0,\\n        \"Name\": \"datsun 810\",\\n        \"Origin\": \"Japan\",\\n        \"Weight_in_lbs\": 2815,\\n        \"Year\": \"1977-01-01\"\\n      },\\n      {\\n        \"Acceleration\": 12.8,\\n        \"Cylinders\": 4,\\n        \"Displacement\": 121.0,\\n        \"Horsepower\": 110.0,\\n        \"Miles_per_Gallon\": 21.5,\\n        \"Name\": \"bmw 320i\",\\n        \"Origin\": \"Europe\",\\n        \"Weight_in_lbs\": 2600,\\n        \"Year\": \"1977-01-01\"\\n      },\\n      {\\n        \"Acceleration\": 13.5,\\n        \"Cylinders\": 3,\\n        \"Displacement\": 80.0,\\n        \"Horsepower\": 110.0,\\n        \"Miles_per_Gallon\": 21.5,\\n        \"Name\": \"mazda rx-4\",\\n        \"Origin\": \"Japan\",\\n        \"Weight_in_lbs\": 2720,\\n        \"Year\": \"1977-01-01\"\\n      },\\n      {\\n        \"Acceleration\": 21.5,\\n        \"Cylinders\": 4,\\n        \"Displacement\": 90.0,\\n        \"Horsepower\": 48.0,\\n        \"Miles_per_Gallon\": 43.1,\\n        \"Name\": \"volkswagen rabbit custom diesel\",\\n        \"Origin\": \"Europe\",\\n        \"Weight_in_lbs\": 1985,\\n        \"Year\": \"1978-01-01\"\\n      },\\n      {\\n        \"Acceleration\": 14.4,\\n        \"Cylinders\": 4,\\n        \"Displacement\": 98.0,\\n        \"Horsepower\": 66.0,\\n        \"Miles_per_Gallon\": 36.1,\\n        \"Name\": \"ford fiesta\",\\n        \"Origin\": \"USA\",\\n        \"Weight_in_lbs\": 1800,\\n        \"Year\": \"1978-01-01\"\\n      },\\n      {\\n        \"Acceleration\": 19.4,\\n        \"Cylinders\": 4,\\n        \"Displacement\": 78.0,\\n        \"Horsepower\": 52.0,\\n        \"Miles_per_Gallon\": 32.8,\\n        \"Name\": \"mazda glc deluxe\",\\n        \"Origin\": \"Japan\",\\n        \"Weight_in_lbs\": 1985,\\n        \"Year\": \"1978-01-01\"\\n      },\\n      {\\n        \"Acceleration\": 18.6,\\n        \"Cylinders\": 4,\\n        \"Displacement\": 85.0,\\n        \"Horsepower\": 70.0,\\n        \"Miles_per_Gallon\": 39.4,\\n        \"Name\": \"datsun b210 gx\",\\n        \"Origin\": \"Japan\",\\n        \"Weight_in_lbs\": 2070,\\n        \"Year\": \"1978-01-01\"\\n      },\\n      {\\n        \"Acceleration\": 16.4,\\n        \"Cylinders\": 4,\\n        \"Displacement\": 91.0,\\n        \"Horsepower\": 60.0,\\n        \"Miles_per_Gallon\": 36.1,\\n        \"Name\": \"honda civic cvcc\",\\n        \"Origin\": \"Japan\",\\n        \"Weight_in_lbs\": 1800,\\n        \"Year\": \"1978-01-01\"\\n      },\\n      {\\n        \"Acceleration\": 15.5,\\n        \"Cylinders\": 8,\\n        \"Displacement\": 260.0,\\n        \"Horsepower\": 110.0,\\n        \"Miles_per_Gallon\": 19.9,\\n        \"Name\": \"oldsmobile cutlass salon brougham\",\\n        \"Origin\": \"USA\",\\n        \"Weight_in_lbs\": 3365,\\n        \"Year\": \"1978-01-01\"\\n      },\\n      {\\n        \"Acceleration\": 13.2,\\n        \"Cylinders\": 8,\\n        \"Displacement\": 318.0,\\n        \"Horsepower\": 140.0,\\n        \"Miles_per_Gallon\": 19.4,\\n        \"Name\": \"dodge diplomat\",\\n        \"Origin\": \"USA\",\\n        \"Weight_in_lbs\": 3735,\\n        \"Year\": \"1978-01-01\"\\n      },\\n      {\\n        \"Acceleration\": 12.8,\\n        \"Cylinders\": 8,\\n        \"Displacement\": 302.0,\\n        \"Horsepower\": 139.0,\\n        \"Miles_per_Gallon\": 20.2,\\n        \"Name\": \"mercury monarch ghia\",\\n        \"Origin\": \"USA\",\\n        \"Weight_in_lbs\": 3570,\\n        \"Year\": \"1978-01-01\"\\n      },\\n      {\\n        \"Acceleration\": 19.2,\\n        \"Cylinders\": 6,\\n        \"Displacement\": 231.0,\\n        \"Horsepower\": 105.0,\\n        \"Miles_per_Gallon\": 19.2,\\n        \"Name\": \"pontiac phoenix lj\",\\n        \"Origin\": \"USA\",\\n        \"Weight_in_lbs\": 3535,\\n        \"Year\": \"1978-01-01\"\\n      },\\n      {\\n        \"Acceleration\": 18.2,\\n        \"Cylinders\": 6,\\n        \"Displacement\": 200.0,\\n        \"Horsepower\": 95.0,\\n        \"Miles_per_Gallon\": 20.5,\\n        \"Name\": \"chevrolet malibu\",\\n        \"Origin\": \"USA\",\\n        \"Weight_in_lbs\": 3155,\\n        \"Year\": \"1978-01-01\"\\n      },\\n      {\\n        \"Acceleration\": 15.8,\\n        \"Cylinders\": 6,\\n        \"Displacement\": 200.0,\\n        \"Horsepower\": 85.0,\\n        \"Miles_per_Gallon\": 20.2,\\n        \"Name\": \"ford fairmont (auto)\",\\n        \"Origin\": \"USA\",\\n        \"Weight_in_lbs\": 2965,\\n        \"Year\": \"1978-01-01\"\\n      },\\n      {\\n        \"Acceleration\": 15.4,\\n        \"Cylinders\": 4,\\n        \"Displacement\": 140.0,\\n        \"Horsepower\": 88.0,\\n        \"Miles_per_Gallon\": 25.1,\\n        \"Name\": \"ford fairmont (man)\",\\n        \"Origin\": \"USA\",\\n        \"Weight_in_lbs\": 2720,\\n        \"Year\": \"1978-01-01\"\\n      },\\n      {\\n        \"Acceleration\": 17.2,\\n        \"Cylinders\": 6,\\n        \"Displacement\": 225.0,\\n        \"Horsepower\": 100.0,\\n        \"Miles_per_Gallon\": 20.5,\\n        \"Name\": \"plymouth volare\",\\n        \"Origin\": \"USA\",\\n        \"Weight_in_lbs\": 3430,\\n        \"Year\": \"1978-01-01\"\\n      },\\n      {\\n        \"Acceleration\": 17.2,\\n        \"Cylinders\": 6,\\n        \"Displacement\": 232.0,\\n        \"Horsepower\": 90.0,\\n        \"Miles_per_Gallon\": 19.4,\\n        \"Name\": \"amc concord\",\\n        \"Origin\": \"USA\",\\n        \"Weight_in_lbs\": 3210,\\n        \"Year\": \"1978-01-01\"\\n      },\\n      {\\n        \"Acceleration\": 15.8,\\n        \"Cylinders\": 6,\\n        \"Displacement\": 231.0,\\n        \"Horsepower\": 105.0,\\n        \"Miles_per_Gallon\": 20.6,\\n        \"Name\": \"buick century special\",\\n        \"Origin\": \"USA\",\\n        \"Weight_in_lbs\": 3380,\\n        \"Year\": \"1978-01-01\"\\n      },\\n      {\\n        \"Acceleration\": 16.7,\\n        \"Cylinders\": 6,\\n        \"Displacement\": 200.0,\\n        \"Horsepower\": 85.0,\\n        \"Miles_per_Gallon\": 20.8,\\n        \"Name\": \"mercury zephyr\",\\n        \"Origin\": \"USA\",\\n        \"Weight_in_lbs\": 3070,\\n        \"Year\": \"1978-01-01\"\\n      },\\n      {\\n        \"Acceleration\": 18.7,\\n        \"Cylinders\": 6,\\n        \"Displacement\": 225.0,\\n        \"Horsepower\": 110.0,\\n        \"Miles_per_Gallon\": 18.6,\\n        \"Name\": \"dodge aspen\",\\n        \"Origin\": \"USA\",\\n        \"Weight_in_lbs\": 3620,\\n        \"Year\": \"1978-01-01\"\\n      },\\n      {\\n        \"Acceleration\": 15.1,\\n        \"Cylinders\": 6,\\n        \"Displacement\": 258.0,\\n        \"Horsepower\": 120.0,\\n        \"Miles_per_Gallon\": 18.1,\\n        \"Name\": \"amc concord d/l\",\\n        \"Origin\": \"USA\",\\n        \"Weight_in_lbs\": 3410,\\n        \"Year\": \"1978-01-01\"\\n      },\\n      {\\n        \"Acceleration\": 13.2,\\n        \"Cylinders\": 8,\\n        \"Displacement\": 305.0,\\n        \"Horsepower\": 145.0,\\n        \"Miles_per_Gallon\": 19.2,\\n        \"Name\": \"chevrolet monte carlo landau\",\\n        \"Origin\": \"USA\",\\n        \"Weight_in_lbs\": 3425,\\n        \"Year\": \"1978-01-01\"\\n      },\\n      {\\n        \"Acceleration\": 13.4,\\n        \"Cylinders\": 6,\\n        \"Displacement\": 231.0,\\n        \"Horsepower\": 165.0,\\n        \"Miles_per_Gallon\": 17.7,\\n        \"Name\": \"buick regal sport coupe (turbo)\",\\n        \"Origin\": \"USA\",\\n        \"Weight_in_lbs\": 3445,\\n        \"Year\": \"1978-01-01\"\\n      },\\n      {\\n        \"Acceleration\": 11.2,\\n        \"Cylinders\": 8,\\n        \"Displacement\": 302.0,\\n        \"Horsepower\": 139.0,\\n        \"Miles_per_Gallon\": 18.1,\\n        \"Name\": \"ford futura\",\\n        \"Origin\": \"USA\",\\n        \"Weight_in_lbs\": 3205,\\n        \"Year\": \"1978-01-01\"\\n      },\\n      {\\n        \"Acceleration\": 13.7,\\n        \"Cylinders\": 8,\\n        \"Displacement\": 318.0,\\n        \"Horsepower\": 140.0,\\n        \"Miles_per_Gallon\": 17.5,\\n        \"Name\": \"dodge magnum xe\",\\n        \"Origin\": \"USA\",\\n        \"Weight_in_lbs\": 4080,\\n        \"Year\": \"1978-01-01\"\\n      },\\n      {\\n        \"Acceleration\": 16.5,\\n        \"Cylinders\": 4,\\n        \"Displacement\": 98.0,\\n        \"Horsepower\": 68.0,\\n        \"Miles_per_Gallon\": 30.0,\\n        \"Name\": \"chevrolet chevette\",\\n        \"Origin\": \"USA\",\\n        \"Weight_in_lbs\": 2155,\\n        \"Year\": \"1978-01-01\"\\n      },\\n      {\\n        \"Acceleration\": 14.2,\\n        \"Cylinders\": 4,\\n        \"Displacement\": 134.0,\\n        \"Horsepower\": 95.0,\\n        \"Miles_per_Gallon\": 27.5,\\n        \"Name\": \"toyota corona\",\\n        \"Origin\": \"Japan\",\\n        \"Weight_in_lbs\": 2560,\\n        \"Year\": \"1978-01-01\"\\n      },\\n      {\\n        \"Acceleration\": 14.7,\\n        \"Cylinders\": 4,\\n        \"Displacement\": 119.0,\\n        \"Horsepower\": 97.0,\\n        \"Miles_per_Gallon\": 27.2,\\n        \"Name\": \"datsun 510\",\\n        \"Origin\": \"Japan\",\\n        \"Weight_in_lbs\": 2300,\\n        \"Year\": \"1978-01-01\"\\n      },\\n      {\\n        \"Acceleration\": 14.5,\\n        \"Cylinders\": 4,\\n        \"Displacement\": 105.0,\\n        \"Horsepower\": 75.0,\\n        \"Miles_per_Gallon\": 30.9,\\n        \"Name\": \"dodge omni\",\\n        \"Origin\": \"USA\",\\n        \"Weight_in_lbs\": 2230,\\n        \"Year\": \"1978-01-01\"\\n      },\\n      {\\n        \"Acceleration\": 14.8,\\n        \"Cylinders\": 4,\\n        \"Displacement\": 134.0,\\n        \"Horsepower\": 95.0,\\n        \"Miles_per_Gallon\": 21.1,\\n        \"Name\": \"toyota celica gt liftback\",\\n        \"Origin\": \"Japan\",\\n        \"Weight_in_lbs\": 2515,\\n        \"Year\": \"1978-01-01\"\\n      },\\n      {\\n        \"Acceleration\": 16.7,\\n        \"Cylinders\": 4,\\n        \"Displacement\": 156.0,\\n        \"Horsepower\": 105.0,\\n        \"Miles_per_Gallon\": 23.2,\\n        \"Name\": \"plymouth sapporo\",\\n        \"Origin\": \"USA\",\\n        \"Weight_in_lbs\": 2745,\\n        \"Year\": \"1978-01-01\"\\n      },\\n      {\\n        \"Acceleration\": 17.6,\\n        \"Cylinders\": 4,\\n        \"Displacement\": 151.0,\\n        \"Horsepower\": 85.0,\\n        \"Miles_per_Gallon\": 23.8,\\n        \"Name\": \"oldsmobile starfire sx\",\\n        \"Origin\": \"USA\",\\n        \"Weight_in_lbs\": 2855,\\n        \"Year\": \"1978-01-01\"\\n      },\\n      {\\n        \"Acceleration\": 14.9,\\n        \"Cylinders\": 4,\\n        \"Displacement\": 119.0,\\n        \"Horsepower\": 97.0,\\n        \"Miles_per_Gallon\": 23.9,\\n        \"Name\": \"datsun 200-sx\",\\n        \"Origin\": \"Japan\",\\n        \"Weight_in_lbs\": 2405,\\n        \"Year\": \"1978-01-01\"\\n      },\\n      {\\n        \"Acceleration\": 15.9,\\n        \"Cylinders\": 5,\\n        \"Displacement\": 131.0,\\n        \"Horsepower\": 103.0,\\n        \"Miles_per_Gallon\": 20.3,\\n        \"Name\": \"audi 5000\",\\n        \"Origin\": \"Europe\",\\n        \"Weight_in_lbs\": 2830,\\n        \"Year\": \"1978-01-01\"\\n      },\\n      {\\n        \"Acceleration\": 13.6,\\n        \"Cylinders\": 6,\\n        \"Displacement\": 163.0,\\n        \"Horsepower\": 125.0,\\n        \"Miles_per_Gallon\": 17.0,\\n        \"Name\": \"volvo 264gl\",\\n        \"Origin\": \"Europe\",\\n        \"Weight_in_lbs\": 3140,\\n        \"Year\": \"1978-01-01\"\\n      },\\n      {\\n        \"Acceleration\": 15.7,\\n        \"Cylinders\": 4,\\n        \"Displacement\": 121.0,\\n        \"Horsepower\": 115.0,\\n        \"Miles_per_Gallon\": 21.6,\\n        \"Name\": \"saab 99gle\",\\n        \"Origin\": \"Europe\",\\n        \"Weight_in_lbs\": 2795,\\n        \"Year\": \"1978-01-01\"\\n      },\\n      {\\n        \"Acceleration\": 15.8,\\n        \"Cylinders\": 6,\\n        \"Displacement\": 163.0,\\n        \"Horsepower\": 133.0,\\n        \"Miles_per_Gallon\": 16.2,\\n        \"Name\": \"peugeot 604sl\",\\n        \"Origin\": \"Europe\",\\n        \"Weight_in_lbs\": 3410,\\n        \"Year\": \"1978-01-01\"\\n      },\\n      {\\n        \"Acceleration\": 14.9,\\n        \"Cylinders\": 4,\\n        \"Displacement\": 89.0,\\n        \"Horsepower\": 71.0,\\n        \"Miles_per_Gallon\": 31.5,\\n        \"Name\": \"volkswagen scirocco\",\\n        \"Origin\": \"Europe\",\\n        \"Weight_in_lbs\": 1990,\\n        \"Year\": \"1978-01-01\"\\n      },\\n      {\\n        \"Acceleration\": 16.6,\\n        \"Cylinders\": 4,\\n        \"Displacement\": 98.0,\\n        \"Horsepower\": 68.0,\\n        \"Miles_per_Gallon\": 29.5,\\n        \"Name\": \"honda Accelerationord lx\",\\n        \"Origin\": \"Japan\",\\n        \"Weight_in_lbs\": 2135,\\n        \"Year\": \"1978-01-01\"\\n      },\\n      {\\n        \"Acceleration\": 15.4,\\n        \"Cylinders\": 6,\\n        \"Displacement\": 231.0,\\n        \"Horsepower\": 115.0,\\n        \"Miles_per_Gallon\": 21.5,\\n        \"Name\": \"pontiac lemans v6\",\\n        \"Origin\": \"USA\",\\n        \"Weight_in_lbs\": 3245,\\n        \"Year\": \"1979-01-01\"\\n      },\\n      {\\n        \"Acceleration\": 18.2,\\n        \"Cylinders\": 6,\\n        \"Displacement\": 200.0,\\n        \"Horsepower\": 85.0,\\n        \"Miles_per_Gallon\": 19.8,\\n        \"Name\": \"mercury zephyr 6\",\\n        \"Origin\": \"USA\",\\n        \"Weight_in_lbs\": 2990,\\n        \"Year\": \"1979-01-01\"\\n      },\\n      {\\n        \"Acceleration\": 17.3,\\n        \"Cylinders\": 4,\\n        \"Displacement\": 140.0,\\n        \"Horsepower\": 88.0,\\n        \"Miles_per_Gallon\": 22.3,\\n        \"Name\": \"ford fairmont 4\",\\n        \"Origin\": \"USA\",\\n        \"Weight_in_lbs\": 2890,\\n        \"Year\": \"1979-01-01\"\\n      },\\n      {\\n        \"Acceleration\": 18.2,\\n        \"Cylinders\": 6,\\n        \"Displacement\": 232.0,\\n        \"Horsepower\": 90.0,\\n        \"Miles_per_Gallon\": 20.2,\\n        \"Name\": \"amc concord dl 6\",\\n        \"Origin\": \"USA\",\\n        \"Weight_in_lbs\": 3265,\\n        \"Year\": \"1979-01-01\"\\n      },\\n      {\\n        \"Acceleration\": 16.6,\\n        \"Cylinders\": 6,\\n        \"Displacement\": 225.0,\\n        \"Horsepower\": 110.0,\\n        \"Miles_per_Gallon\": 20.6,\\n        \"Name\": \"dodge aspen 6\",\\n        \"Origin\": \"USA\",\\n        \"Weight_in_lbs\": 3360,\\n        \"Year\": \"1979-01-01\"\\n      },\\n      {\\n        \"Acceleration\": 15.4,\\n        \"Cylinders\": 8,\\n        \"Displacement\": 305.0,\\n        \"Horsepower\": 130.0,\\n        \"Miles_per_Gallon\": 17.0,\\n        \"Name\": \"chevrolet caprice classic\",\\n        \"Origin\": \"USA\",\\n        \"Weight_in_lbs\": 3840,\\n        \"Year\": \"1979-01-01\"\\n      },\\n      {\\n        \"Acceleration\": 13.4,\\n        \"Cylinders\": 8,\\n        \"Displacement\": 302.0,\\n        \"Horsepower\": 129.0,\\n        \"Miles_per_Gallon\": 17.6,\\n        \"Name\": \"ford ltd landau\",\\n        \"Origin\": \"USA\",\\n        \"Weight_in_lbs\": 3725,\\n        \"Year\": \"1979-01-01\"\\n      },\\n      {\\n        \"Acceleration\": 13.2,\\n        \"Cylinders\": 8,\\n        \"Displacement\": 351.0,\\n        \"Horsepower\": 138.0,\\n        \"Miles_per_Gallon\": 16.5,\\n        \"Name\": \"mercury grand marquis\",\\n        \"Origin\": \"USA\",\\n        \"Weight_in_lbs\": 3955,\\n        \"Year\": \"1979-01-01\"\\n      },\\n      {\\n        \"Acceleration\": 15.2,\\n        \"Cylinders\": 8,\\n        \"Displacement\": 318.0,\\n        \"Horsepower\": 135.0,\\n        \"Miles_per_Gallon\": 18.2,\\n        \"Name\": \"dodge st. regis\",\\n        \"Origin\": \"USA\",\\n        \"Weight_in_lbs\": 3830,\\n        \"Year\": \"1979-01-01\"\\n      },\\n      {\\n        \"Acceleration\": 14.9,\\n        \"Cylinders\": 8,\\n        \"Displacement\": 350.0,\\n        \"Horsepower\": 155.0,\\n        \"Miles_per_Gallon\": 16.9,\\n        \"Name\": \"buick estate wagon (sw)\",\\n        \"Origin\": \"USA\",\\n        \"Weight_in_lbs\": 4360,\\n        \"Year\": \"1979-01-01\"\\n      },\\n      {\\n        \"Acceleration\": 14.3,\\n        \"Cylinders\": 8,\\n        \"Displacement\": 351.0,\\n        \"Horsepower\": 142.0,\\n        \"Miles_per_Gallon\": 15.5,\\n        \"Name\": \"ford country squire (sw)\",\\n        \"Origin\": \"USA\",\\n        \"Weight_in_lbs\": 4054,\\n        \"Year\": \"1979-01-01\"\\n      },\\n      {\\n        \"Acceleration\": 15.0,\\n        \"Cylinders\": 8,\\n        \"Displacement\": 267.0,\\n        \"Horsepower\": 125.0,\\n        \"Miles_per_Gallon\": 19.2,\\n        \"Name\": \"chevrolet malibu classic (sw)\",\\n        \"Origin\": \"USA\",\\n        \"Weight_in_lbs\": 3605,\\n        \"Year\": \"1979-01-01\"\\n      },\\n      {\\n        \"Acceleration\": 13.0,\\n        \"Cylinders\": 8,\\n        \"Displacement\": 360.0,\\n        \"Horsepower\": 150.0,\\n        \"Miles_per_Gallon\": 18.5,\\n        \"Name\": \"chrysler lebaron town @ country (sw)\",\\n        \"Origin\": \"USA\",\\n        \"Weight_in_lbs\": 3940,\\n        \"Year\": \"1979-01-01\"\\n      },\\n      {\\n        \"Acceleration\": 14.0,\\n        \"Cylinders\": 4,\\n        \"Displacement\": 89.0,\\n        \"Horsepower\": 71.0,\\n        \"Miles_per_Gallon\": 31.9,\\n        \"Name\": \"vw rabbit custom\",\\n        \"Origin\": \"Europe\",\\n        \"Weight_in_lbs\": 1925,\\n        \"Year\": \"1979-01-01\"\\n      },\\n      {\\n        \"Acceleration\": 15.2,\\n        \"Cylinders\": 4,\\n        \"Displacement\": 86.0,\\n        \"Horsepower\": 65.0,\\n        \"Miles_per_Gallon\": 34.1,\\n        \"Name\": \"maxda glc deluxe\",\\n        \"Origin\": \"Japan\",\\n        \"Weight_in_lbs\": 1975,\\n        \"Year\": \"1979-01-01\"\\n      },\\n      {\\n        \"Acceleration\": 14.4,\\n        \"Cylinders\": 4,\\n        \"Displacement\": 98.0,\\n        \"Horsepower\": 80.0,\\n        \"Miles_per_Gallon\": 35.7,\\n        \"Name\": \"dodge colt hatchback custom\",\\n        \"Origin\": \"USA\",\\n        \"Weight_in_lbs\": 1915,\\n        \"Year\": \"1979-01-01\"\\n      },\\n      {\\n        \"Acceleration\": 15.0,\\n        \"Cylinders\": 4,\\n        \"Displacement\": 121.0,\\n        \"Horsepower\": 80.0,\\n        \"Miles_per_Gallon\": 27.4,\\n        \"Name\": \"amc spirit dl\",\\n        \"Origin\": \"USA\",\\n        \"Weight_in_lbs\": 2670,\\n        \"Year\": \"1979-01-01\"\\n      },\\n      {\\n        \"Acceleration\": 20.1,\\n        \"Cylinders\": 5,\\n        \"Displacement\": 183.0,\\n        \"Horsepower\": 77.0,\\n        \"Miles_per_Gallon\": 25.4,\\n        \"Name\": \"mercedes benz 300d\",\\n        \"Origin\": \"Europe\",\\n        \"Weight_in_lbs\": 3530,\\n        \"Year\": \"1979-01-01\"\\n      },\\n      {\\n        \"Acceleration\": 17.4,\\n        \"Cylinders\": 8,\\n        \"Displacement\": 350.0,\\n        \"Horsepower\": 125.0,\\n        \"Miles_per_Gallon\": 23.0,\\n        \"Name\": \"cadillac eldorado\",\\n        \"Origin\": \"USA\",\\n        \"Weight_in_lbs\": 3900,\\n        \"Year\": \"1979-01-01\"\\n      },\\n      {\\n        \"Acceleration\": 24.8,\\n        \"Cylinders\": 4,\\n        \"Displacement\": 141.0,\\n        \"Horsepower\": 71.0,\\n        \"Miles_per_Gallon\": 27.2,\\n        \"Name\": \"peugeot 504\",\\n        \"Origin\": \"Europe\",\\n        \"Weight_in_lbs\": 3190,\\n        \"Year\": \"1979-01-01\"\\n      },\\n      {\\n        \"Acceleration\": 22.2,\\n        \"Cylinders\": 8,\\n        \"Displacement\": 260.0,\\n        \"Horsepower\": 90.0,\\n        \"Miles_per_Gallon\": 23.9,\\n        \"Name\": \"oldsmobile cutlass salon brougham\",\\n        \"Origin\": \"USA\",\\n        \"Weight_in_lbs\": 3420,\\n        \"Year\": \"1979-01-01\"\\n      },\\n      {\\n        \"Acceleration\": 13.2,\\n        \"Cylinders\": 4,\\n        \"Displacement\": 105.0,\\n        \"Horsepower\": 70.0,\\n        \"Miles_per_Gallon\": 34.2,\\n        \"Name\": \"plymouth horizon\",\\n        \"Origin\": \"USA\",\\n        \"Weight_in_lbs\": 2200,\\n        \"Year\": \"1979-01-01\"\\n      },\\n      {\\n        \"Acceleration\": 14.9,\\n        \"Cylinders\": 4,\\n        \"Displacement\": 105.0,\\n        \"Horsepower\": 70.0,\\n        \"Miles_per_Gallon\": 34.5,\\n        \"Name\": \"plymouth horizon tc3\",\\n        \"Origin\": \"USA\",\\n        \"Weight_in_lbs\": 2150,\\n        \"Year\": \"1979-01-01\"\\n      },\\n      {\\n        \"Acceleration\": 19.2,\\n        \"Cylinders\": 4,\\n        \"Displacement\": 85.0,\\n        \"Horsepower\": 65.0,\\n        \"Miles_per_Gallon\": 31.8,\\n        \"Name\": \"datsun 210\",\\n        \"Origin\": \"Japan\",\\n        \"Weight_in_lbs\": 2020,\\n        \"Year\": \"1979-01-01\"\\n      },\\n      {\\n        \"Acceleration\": 14.7,\\n        \"Cylinders\": 4,\\n        \"Displacement\": 91.0,\\n        \"Horsepower\": 69.0,\\n        \"Miles_per_Gallon\": 37.3,\\n        \"Name\": \"fiat strada custom\",\\n        \"Origin\": \"Europe\",\\n        \"Weight_in_lbs\": 2130,\\n        \"Year\": \"1979-01-01\"\\n      },\\n      {\\n        \"Acceleration\": 16.0,\\n        \"Cylinders\": 4,\\n        \"Displacement\": 151.0,\\n        \"Horsepower\": 90.0,\\n        \"Miles_per_Gallon\": 28.4,\\n        \"Name\": \"buick skylark limited\",\\n        \"Origin\": \"USA\",\\n        \"Weight_in_lbs\": 2670,\\n        \"Year\": \"1979-01-01\"\\n      },\\n      {\\n        \"Acceleration\": 11.3,\\n        \"Cylinders\": 6,\\n        \"Displacement\": 173.0,\\n        \"Horsepower\": 115.0,\\n        \"Miles_per_Gallon\": 28.8,\\n        \"Name\": \"chevrolet citation\",\\n        \"Origin\": \"USA\",\\n        \"Weight_in_lbs\": 2595,\\n        \"Year\": \"1979-01-01\"\\n      },\\n      {\\n        \"Acceleration\": 12.9,\\n        \"Cylinders\": 6,\\n        \"Displacement\": 173.0,\\n        \"Horsepower\": 115.0,\\n        \"Miles_per_Gallon\": 26.8,\\n        \"Name\": \"oldsmobile omega brougham\",\\n        \"Origin\": \"USA\",\\n        \"Weight_in_lbs\": 2700,\\n        \"Year\": \"1979-01-01\"\\n      },\\n      {\\n        \"Acceleration\": 13.2,\\n        \"Cylinders\": 4,\\n        \"Displacement\": 151.0,\\n        \"Horsepower\": 90.0,\\n        \"Miles_per_Gallon\": 33.5,\\n        \"Name\": \"pontiac phoenix\",\\n        \"Origin\": \"USA\",\\n        \"Weight_in_lbs\": 2556,\\n        \"Year\": \"1979-01-01\"\\n      },\\n      {\\n        \"Acceleration\": 14.7,\\n        \"Cylinders\": 4,\\n        \"Displacement\": 98.0,\\n        \"Horsepower\": 76.0,\\n        \"Miles_per_Gallon\": 41.5,\\n        \"Name\": \"vw rabbit\",\\n        \"Origin\": \"Europe\",\\n        \"Weight_in_lbs\": 2144,\\n        \"Year\": \"1980-01-01\"\\n      },\\n      {\\n        \"Acceleration\": 18.8,\\n        \"Cylinders\": 4,\\n        \"Displacement\": 89.0,\\n        \"Horsepower\": 60.0,\\n        \"Miles_per_Gallon\": 38.1,\\n        \"Name\": \"toyota corolla tercel\",\\n        \"Origin\": \"Japan\",\\n        \"Weight_in_lbs\": 1968,\\n        \"Year\": \"1980-01-01\"\\n      },\\n      {\\n        \"Acceleration\": 15.5,\\n        \"Cylinders\": 4,\\n        \"Displacement\": 98.0,\\n        \"Horsepower\": 70.0,\\n        \"Miles_per_Gallon\": 32.1,\\n        \"Name\": \"chevrolet chevette\",\\n        \"Origin\": \"USA\",\\n        \"Weight_in_lbs\": 2120,\\n        \"Year\": \"1980-01-01\"\\n      },\\n      {\\n        \"Acceleration\": 16.4,\\n        \"Cylinders\": 4,\\n        \"Displacement\": 86.0,\\n        \"Horsepower\": 65.0,\\n        \"Miles_per_Gallon\": 37.2,\\n        \"Name\": \"datsun 310\",\\n        \"Origin\": \"Japan\",\\n        \"Weight_in_lbs\": 2019,\\n        \"Year\": \"1980-01-01\"\\n      },\\n      {\\n        \"Acceleration\": 16.5,\\n        \"Cylinders\": 4,\\n        \"Displacement\": 151.0,\\n        \"Horsepower\": 90.0,\\n        \"Miles_per_Gallon\": 28.0,\\n        \"Name\": \"chevrolet citation\",\\n        \"Origin\": \"USA\",\\n        \"Weight_in_lbs\": 2678,\\n        \"Year\": \"1980-01-01\"\\n      },\\n      {\\n        \"Acceleration\": 18.1,\\n        \"Cylinders\": 4,\\n        \"Displacement\": 140.0,\\n        \"Horsepower\": 88.0,\\n        \"Miles_per_Gallon\": 26.4,\\n        \"Name\": \"ford fairmont\",\\n        \"Origin\": \"USA\",\\n        \"Weight_in_lbs\": 2870,\\n        \"Year\": \"1980-01-01\"\\n      },\\n      {\\n        \"Acceleration\": 20.1,\\n        \"Cylinders\": 4,\\n        \"Displacement\": 151.0,\\n        \"Horsepower\": 90.0,\\n        \"Miles_per_Gallon\": 24.3,\\n        \"Name\": \"amc concord\",\\n        \"Origin\": \"USA\",\\n        \"Weight_in_lbs\": 3003,\\n        \"Year\": \"1980-01-01\"\\n      },\\n      {\\n        \"Acceleration\": 18.7,\\n        \"Cylinders\": 6,\\n        \"Displacement\": 225.0,\\n        \"Horsepower\": 90.0,\\n        \"Miles_per_Gallon\": 19.1,\\n        \"Name\": \"dodge aspen\",\\n        \"Origin\": \"USA\",\\n        \"Weight_in_lbs\": 3381,\\n        \"Year\": \"1980-01-01\"\\n      },\\n      {\\n        \"Acceleration\": 15.8,\\n        \"Cylinders\": 4,\\n        \"Displacement\": 97.0,\\n        \"Horsepower\": 78.0,\\n        \"Miles_per_Gallon\": 34.3,\\n        \"Name\": \"audi 4000\",\\n        \"Origin\": \"Europe\",\\n        \"Weight_in_lbs\": 2188,\\n        \"Year\": \"1980-01-01\"\\n      },\\n      {\\n        \"Acceleration\": 15.5,\\n        \"Cylinders\": 4,\\n        \"Displacement\": 134.0,\\n        \"Horsepower\": 90.0,\\n        \"Miles_per_Gallon\": 29.8,\\n        \"Name\": \"toyota corona liftback\",\\n        \"Origin\": \"Japan\",\\n        \"Weight_in_lbs\": 2711,\\n        \"Year\": \"1980-01-01\"\\n      },\\n      {\\n        \"Acceleration\": 17.5,\\n        \"Cylinders\": 4,\\n        \"Displacement\": 120.0,\\n        \"Horsepower\": 75.0,\\n        \"Miles_per_Gallon\": 31.3,\\n        \"Name\": \"mazda 626\",\\n        \"Origin\": \"Japan\",\\n        \"Weight_in_lbs\": 2542,\\n        \"Year\": \"1980-01-01\"\\n      },\\n      {\\n        \"Acceleration\": 15.0,\\n        \"Cylinders\": 4,\\n        \"Displacement\": 119.0,\\n        \"Horsepower\": 92.0,\\n        \"Miles_per_Gallon\": 37.0,\\n        \"Name\": \"datsun 510 hatchback\",\\n        \"Origin\": \"Japan\",\\n        \"Weight_in_lbs\": 2434,\\n        \"Year\": \"1980-01-01\"\\n      },\\n      {\\n        \"Acceleration\": 15.2,\\n        \"Cylinders\": 4,\\n        \"Displacement\": 108.0,\\n        \"Horsepower\": 75.0,\\n        \"Miles_per_Gallon\": 32.2,\\n        \"Name\": \"toyota corolla\",\\n        \"Origin\": \"Japan\",\\n        \"Weight_in_lbs\": 2265,\\n        \"Year\": \"1980-01-01\"\\n      },\\n      {\\n        \"Acceleration\": 17.9,\\n        \"Cylinders\": 4,\\n        \"Displacement\": 86.0,\\n        \"Horsepower\": 65.0,\\n        \"Miles_per_Gallon\": 46.6,\\n        \"Name\": \"mazda glc\",\\n        \"Origin\": \"Japan\",\\n        \"Weight_in_lbs\": 2110,\\n        \"Year\": \"1980-01-01\"\\n      },\\n      {\\n        \"Acceleration\": 14.4,\\n        \"Cylinders\": 4,\\n        \"Displacement\": 156.0,\\n        \"Horsepower\": 105.0,\\n        \"Miles_per_Gallon\": 27.9,\\n        \"Name\": \"dodge colt\",\\n        \"Origin\": \"USA\",\\n        \"Weight_in_lbs\": 2800,\\n        \"Year\": \"1980-01-01\"\\n      },\\n      {\\n        \"Acceleration\": 19.2,\\n        \"Cylinders\": 4,\\n        \"Displacement\": 85.0,\\n        \"Horsepower\": 65.0,\\n        \"Miles_per_Gallon\": 40.8,\\n        \"Name\": \"datsun 210\",\\n        \"Origin\": \"Japan\",\\n        \"Weight_in_lbs\": 2110,\\n        \"Year\": \"1980-01-01\"\\n      },\\n      {\\n        \"Acceleration\": 21.7,\\n        \"Cylinders\": 4,\\n        \"Displacement\": 90.0,\\n        \"Horsepower\": 48.0,\\n        \"Miles_per_Gallon\": 44.3,\\n        \"Name\": \"vw rabbit c (diesel)\",\\n        \"Origin\": \"Europe\",\\n        \"Weight_in_lbs\": 2085,\\n        \"Year\": \"1980-01-01\"\\n      },\\n      {\\n        \"Acceleration\": 23.7,\\n        \"Cylinders\": 4,\\n        \"Displacement\": 90.0,\\n        \"Horsepower\": 48.0,\\n        \"Miles_per_Gallon\": 43.4,\\n        \"Name\": \"vw dasher (diesel)\",\\n        \"Origin\": \"Europe\",\\n        \"Weight_in_lbs\": 2335,\\n        \"Year\": \"1980-01-01\"\\n      },\\n      {\\n        \"Acceleration\": 19.9,\\n        \"Cylinders\": 5,\\n        \"Displacement\": 121.0,\\n        \"Horsepower\": 67.0,\\n        \"Miles_per_Gallon\": 36.4,\\n        \"Name\": \"audi 5000s (diesel)\",\\n        \"Origin\": \"Europe\",\\n        \"Weight_in_lbs\": 2950,\\n        \"Year\": \"1980-01-01\"\\n      },\\n      {\\n        \"Acceleration\": 21.8,\\n        \"Cylinders\": 4,\\n        \"Displacement\": 146.0,\\n        \"Horsepower\": 67.0,\\n        \"Miles_per_Gallon\": 30.0,\\n        \"Name\": \"mercedes-benz 240d\",\\n        \"Origin\": \"Europe\",\\n        \"Weight_in_lbs\": 3250,\\n        \"Year\": \"1980-01-01\"\\n      },\\n      {\\n        \"Acceleration\": 13.8,\\n        \"Cylinders\": 4,\\n        \"Displacement\": 91.0,\\n        \"Horsepower\": 67.0,\\n        \"Miles_per_Gallon\": 44.6,\\n        \"Name\": \"honda civic 1500 gl\",\\n        \"Origin\": \"Japan\",\\n        \"Weight_in_lbs\": 1850,\\n        \"Year\": \"1980-01-01\"\\n      },\\n      {\\n        \"Acceleration\": 17.3,\\n        \"Cylinders\": 4,\\n        \"Displacement\": 85.0,\\n        \"Horsepower\": null,\\n        \"Miles_per_Gallon\": 40.9,\\n        \"Name\": \"renault lecar deluxe\",\\n        \"Origin\": \"Europe\",\\n        \"Weight_in_lbs\": 1835,\\n        \"Year\": \"1980-01-01\"\\n      },\\n      {\\n        \"Acceleration\": 18.0,\\n        \"Cylinders\": 4,\\n        \"Displacement\": 97.0,\\n        \"Horsepower\": 67.0,\\n        \"Miles_per_Gallon\": 33.8,\\n        \"Name\": \"subaru dl\",\\n        \"Origin\": \"Japan\",\\n        \"Weight_in_lbs\": 2145,\\n        \"Year\": \"1980-01-01\"\\n      },\\n      {\\n        \"Acceleration\": 15.3,\\n        \"Cylinders\": 4,\\n        \"Displacement\": 89.0,\\n        \"Horsepower\": 62.0,\\n        \"Miles_per_Gallon\": 29.8,\\n        \"Name\": \"vokswagen rabbit\",\\n        \"Origin\": \"Europe\",\\n        \"Weight_in_lbs\": 1845,\\n        \"Year\": \"1980-01-01\"\\n      },\\n      {\\n        \"Acceleration\": 11.4,\\n        \"Cylinders\": 6,\\n        \"Displacement\": 168.0,\\n        \"Horsepower\": 132.0,\\n        \"Miles_per_Gallon\": 32.7,\\n        \"Name\": \"datsun 280-zx\",\\n        \"Origin\": \"Japan\",\\n        \"Weight_in_lbs\": 2910,\\n        \"Year\": \"1980-01-01\"\\n      },\\n      {\\n        \"Acceleration\": 12.5,\\n        \"Cylinders\": 3,\\n        \"Displacement\": 70.0,\\n        \"Horsepower\": 100.0,\\n        \"Miles_per_Gallon\": 23.7,\\n        \"Name\": \"mazda rx-7 gs\",\\n        \"Origin\": \"Japan\",\\n        \"Weight_in_lbs\": 2420,\\n        \"Year\": \"1980-01-01\"\\n      },\\n      {\\n        \"Acceleration\": 15.1,\\n        \"Cylinders\": 4,\\n        \"Displacement\": 122.0,\\n        \"Horsepower\": 88.0,\\n        \"Miles_per_Gallon\": 35.0,\\n        \"Name\": \"triumph tr7 coupe\",\\n        \"Origin\": \"Europe\",\\n        \"Weight_in_lbs\": 2500,\\n        \"Year\": \"1980-01-01\"\\n      },\\n      {\\n        \"Acceleration\": 14.3,\\n        \"Cylinders\": 4,\\n        \"Displacement\": 140.0,\\n        \"Horsepower\": null,\\n        \"Miles_per_Gallon\": 23.6,\\n        \"Name\": \"ford mustang cobra\",\\n        \"Origin\": \"USA\",\\n        \"Weight_in_lbs\": 2905,\\n        \"Year\": \"1980-01-01\"\\n      },\\n      {\\n        \"Acceleration\": 17.0,\\n        \"Cylinders\": 4,\\n        \"Displacement\": 107.0,\\n        \"Horsepower\": 72.0,\\n        \"Miles_per_Gallon\": 32.4,\\n        \"Name\": \"honda Accelerationord\",\\n        \"Origin\": \"Japan\",\\n        \"Weight_in_lbs\": 2290,\\n        \"Year\": \"1980-01-01\"\\n      },\\n      {\\n        \"Acceleration\": 15.7,\\n        \"Cylinders\": 4,\\n        \"Displacement\": 135.0,\\n        \"Horsepower\": 84.0,\\n        \"Miles_per_Gallon\": 27.2,\\n        \"Name\": \"plymouth reliant\",\\n        \"Origin\": \"USA\",\\n        \"Weight_in_lbs\": 2490,\\n        \"Year\": \"1982-01-01\"\\n      },\\n      {\\n        \"Acceleration\": 16.4,\\n        \"Cylinders\": 4,\\n        \"Displacement\": 151.0,\\n        \"Horsepower\": 84.0,\\n        \"Miles_per_Gallon\": 26.6,\\n        \"Name\": \"buick skylark\",\\n        \"Origin\": \"USA\",\\n        \"Weight_in_lbs\": 2635,\\n        \"Year\": \"1982-01-01\"\\n      },\\n      {\\n        \"Acceleration\": 14.4,\\n        \"Cylinders\": 4,\\n        \"Displacement\": 156.0,\\n        \"Horsepower\": 92.0,\\n        \"Miles_per_Gallon\": 25.8,\\n        \"Name\": \"dodge aries wagon (sw)\",\\n        \"Origin\": \"USA\",\\n        \"Weight_in_lbs\": 2620,\\n        \"Year\": \"1982-01-01\"\\n      },\\n      {\\n        \"Acceleration\": 12.6,\\n        \"Cylinders\": 6,\\n        \"Displacement\": 173.0,\\n        \"Horsepower\": 110.0,\\n        \"Miles_per_Gallon\": 23.5,\\n        \"Name\": \"chevrolet citation\",\\n        \"Origin\": \"USA\",\\n        \"Weight_in_lbs\": 2725,\\n        \"Year\": \"1982-01-01\"\\n      },\\n      {\\n        \"Acceleration\": 12.9,\\n        \"Cylinders\": 4,\\n        \"Displacement\": 135.0,\\n        \"Horsepower\": 84.0,\\n        \"Miles_per_Gallon\": 30.0,\\n        \"Name\": \"plymouth reliant\",\\n        \"Origin\": \"USA\",\\n        \"Weight_in_lbs\": 2385,\\n        \"Year\": \"1982-01-01\"\\n      },\\n      {\\n        \"Acceleration\": 16.9,\\n        \"Cylinders\": 4,\\n        \"Displacement\": 79.0,\\n        \"Horsepower\": 58.0,\\n        \"Miles_per_Gallon\": 39.1,\\n        \"Name\": \"toyota starlet\",\\n        \"Origin\": \"Japan\",\\n        \"Weight_in_lbs\": 1755,\\n        \"Year\": \"1982-01-01\"\\n      },\\n      {\\n        \"Acceleration\": 16.4,\\n        \"Cylinders\": 4,\\n        \"Displacement\": 86.0,\\n        \"Horsepower\": 64.0,\\n        \"Miles_per_Gallon\": 39.0,\\n        \"Name\": \"plymouth champ\",\\n        \"Origin\": \"USA\",\\n        \"Weight_in_lbs\": 1875,\\n        \"Year\": \"1982-01-01\"\\n      },\\n      {\\n        \"Acceleration\": 16.1,\\n        \"Cylinders\": 4,\\n        \"Displacement\": 81.0,\\n        \"Horsepower\": 60.0,\\n        \"Miles_per_Gallon\": 35.1,\\n        \"Name\": \"honda civic 1300\",\\n        \"Origin\": \"Japan\",\\n        \"Weight_in_lbs\": 1760,\\n        \"Year\": \"1982-01-01\"\\n      },\\n      {\\n        \"Acceleration\": 17.8,\\n        \"Cylinders\": 4,\\n        \"Displacement\": 97.0,\\n        \"Horsepower\": 67.0,\\n        \"Miles_per_Gallon\": 32.3,\\n        \"Name\": \"subaru\",\\n        \"Origin\": \"Japan\",\\n        \"Weight_in_lbs\": 2065,\\n        \"Year\": \"1982-01-01\"\\n      },\\n      {\\n        \"Acceleration\": 19.4,\\n        \"Cylinders\": 4,\\n        \"Displacement\": 85.0,\\n        \"Horsepower\": 65.0,\\n        \"Miles_per_Gallon\": 37.0,\\n        \"Name\": \"datsun 210\",\\n        \"Origin\": \"Japan\",\\n        \"Weight_in_lbs\": 1975,\\n        \"Year\": \"1982-01-01\"\\n      },\\n      {\\n        \"Acceleration\": 17.3,\\n        \"Cylinders\": 4,\\n        \"Displacement\": 89.0,\\n        \"Horsepower\": 62.0,\\n        \"Miles_per_Gallon\": 37.7,\\n        \"Name\": \"toyota tercel\",\\n        \"Origin\": \"Japan\",\\n        \"Weight_in_lbs\": 2050,\\n        \"Year\": \"1982-01-01\"\\n      },\\n      {\\n        \"Acceleration\": 16.0,\\n        \"Cylinders\": 4,\\n        \"Displacement\": 91.0,\\n        \"Horsepower\": 68.0,\\n        \"Miles_per_Gallon\": 34.1,\\n        \"Name\": \"mazda glc 4\",\\n        \"Origin\": \"Japan\",\\n        \"Weight_in_lbs\": 1985,\\n        \"Year\": \"1982-01-01\"\\n      },\\n      {\\n        \"Acceleration\": 14.9,\\n        \"Cylinders\": 4,\\n        \"Displacement\": 105.0,\\n        \"Horsepower\": 63.0,\\n        \"Miles_per_Gallon\": 34.7,\\n        \"Name\": \"plymouth horizon 4\",\\n        \"Origin\": \"USA\",\\n        \"Weight_in_lbs\": 2215,\\n        \"Year\": \"1982-01-01\"\\n      },\\n      {\\n        \"Acceleration\": 16.2,\\n        \"Cylinders\": 4,\\n        \"Displacement\": 98.0,\\n        \"Horsepower\": 65.0,\\n        \"Miles_per_Gallon\": 34.4,\\n        \"Name\": \"ford escort 4w\",\\n        \"Origin\": \"USA\",\\n        \"Weight_in_lbs\": 2045,\\n        \"Year\": \"1982-01-01\"\\n      },\\n      {\\n        \"Acceleration\": 20.7,\\n        \"Cylinders\": 4,\\n        \"Displacement\": 98.0,\\n        \"Horsepower\": 65.0,\\n        \"Miles_per_Gallon\": 29.9,\\n        \"Name\": \"ford escort 2h\",\\n        \"Origin\": \"USA\",\\n        \"Weight_in_lbs\": 2380,\\n        \"Year\": \"1982-01-01\"\\n      },\\n      {\\n        \"Acceleration\": 14.2,\\n        \"Cylinders\": 4,\\n        \"Displacement\": 105.0,\\n        \"Horsepower\": 74.0,\\n        \"Miles_per_Gallon\": 33.0,\\n        \"Name\": \"volkswagen jetta\",\\n        \"Origin\": \"Europe\",\\n        \"Weight_in_lbs\": 2190,\\n        \"Year\": \"1982-01-01\"\\n      },\\n      {\\n        \"Acceleration\": 15.8,\\n        \"Cylinders\": 4,\\n        \"Displacement\": 100.0,\\n        \"Horsepower\": null,\\n        \"Miles_per_Gallon\": 34.5,\\n        \"Name\": \"renault 18i\",\\n        \"Origin\": \"Europe\",\\n        \"Weight_in_lbs\": 2320,\\n        \"Year\": \"1982-01-01\"\\n      },\\n      {\\n        \"Acceleration\": 14.4,\\n        \"Cylinders\": 4,\\n        \"Displacement\": 107.0,\\n        \"Horsepower\": 75.0,\\n        \"Miles_per_Gallon\": 33.7,\\n        \"Name\": \"honda prelude\",\\n        \"Origin\": \"Japan\",\\n        \"Weight_in_lbs\": 2210,\\n        \"Year\": \"1982-01-01\"\\n      },\\n      {\\n        \"Acceleration\": 16.8,\\n        \"Cylinders\": 4,\\n        \"Displacement\": 108.0,\\n        \"Horsepower\": 75.0,\\n        \"Miles_per_Gallon\": 32.4,\\n        \"Name\": \"toyota corolla\",\\n        \"Origin\": \"Japan\",\\n        \"Weight_in_lbs\": 2350,\\n        \"Year\": \"1982-01-01\"\\n      },\\n      {\\n        \"Acceleration\": 14.8,\\n        \"Cylinders\": 4,\\n        \"Displacement\": 119.0,\\n        \"Horsepower\": 100.0,\\n        \"Miles_per_Gallon\": 32.9,\\n        \"Name\": \"datsun 200sx\",\\n        \"Origin\": \"Japan\",\\n        \"Weight_in_lbs\": 2615,\\n        \"Year\": \"1982-01-01\"\\n      },\\n      {\\n        \"Acceleration\": 18.3,\\n        \"Cylinders\": 4,\\n        \"Displacement\": 120.0,\\n        \"Horsepower\": 74.0,\\n        \"Miles_per_Gallon\": 31.6,\\n        \"Name\": \"mazda 626\",\\n        \"Origin\": \"Japan\",\\n        \"Weight_in_lbs\": 2635,\\n        \"Year\": \"1982-01-01\"\\n      },\\n      {\\n        \"Acceleration\": 20.4,\\n        \"Cylinders\": 4,\\n        \"Displacement\": 141.0,\\n        \"Horsepower\": 80.0,\\n        \"Miles_per_Gallon\": 28.1,\\n        \"Name\": \"peugeot 505s turbo diesel\",\\n        \"Origin\": \"Europe\",\\n        \"Weight_in_lbs\": 3230,\\n        \"Year\": \"1982-01-01\"\\n      },\\n      {\\n        \"Acceleration\": 15.4,\\n        \"Cylinders\": 4,\\n        \"Displacement\": 121.0,\\n        \"Horsepower\": 110.0,\\n        \"Miles_per_Gallon\": null,\\n        \"Name\": \"saab 900s\",\\n        \"Origin\": \"Europe\",\\n        \"Weight_in_lbs\": 2800,\\n        \"Year\": \"1982-01-01\"\\n      },\\n      {\\n        \"Acceleration\": 19.6,\\n        \"Cylinders\": 6,\\n        \"Displacement\": 145.0,\\n        \"Horsepower\": 76.0,\\n        \"Miles_per_Gallon\": 30.7,\\n        \"Name\": \"volvo diesel\",\\n        \"Origin\": \"Europe\",\\n        \"Weight_in_lbs\": 3160,\\n        \"Year\": \"1982-01-01\"\\n      },\\n      {\\n        \"Acceleration\": 12.6,\\n        \"Cylinders\": 6,\\n        \"Displacement\": 168.0,\\n        \"Horsepower\": 116.0,\\n        \"Miles_per_Gallon\": 25.4,\\n        \"Name\": \"toyota cressida\",\\n        \"Origin\": \"Japan\",\\n        \"Weight_in_lbs\": 2900,\\n        \"Year\": \"1982-01-01\"\\n      },\\n      {\\n        \"Acceleration\": 13.8,\\n        \"Cylinders\": 6,\\n        \"Displacement\": 146.0,\\n        \"Horsepower\": 120.0,\\n        \"Miles_per_Gallon\": 24.2,\\n        \"Name\": \"datsun 810 maxima\",\\n        \"Origin\": \"Japan\",\\n        \"Weight_in_lbs\": 2930,\\n        \"Year\": \"1982-01-01\"\\n      },\\n      {\\n        \"Acceleration\": 15.8,\\n        \"Cylinders\": 6,\\n        \"Displacement\": 231.0,\\n        \"Horsepower\": 110.0,\\n        \"Miles_per_Gallon\": 22.4,\\n        \"Name\": \"buick century\",\\n        \"Origin\": \"USA\",\\n        \"Weight_in_lbs\": 3415,\\n        \"Year\": \"1982-01-01\"\\n      },\\n      {\\n        \"Acceleration\": 19.0,\\n        \"Cylinders\": 8,\\n        \"Displacement\": 350.0,\\n        \"Horsepower\": 105.0,\\n        \"Miles_per_Gallon\": 26.6,\\n        \"Name\": \"oldsmobile cutlass ls\",\\n        \"Origin\": \"USA\",\\n        \"Weight_in_lbs\": 3725,\\n        \"Year\": \"1982-01-01\"\\n      },\\n      {\\n        \"Acceleration\": 17.1,\\n        \"Cylinders\": 6,\\n        \"Displacement\": 200.0,\\n        \"Horsepower\": 88.0,\\n        \"Miles_per_Gallon\": 20.2,\\n        \"Name\": \"ford granada gl\",\\n        \"Origin\": \"USA\",\\n        \"Weight_in_lbs\": 3060,\\n        \"Year\": \"1982-01-01\"\\n      },\\n      {\\n        \"Acceleration\": 16.6,\\n        \"Cylinders\": 6,\\n        \"Displacement\": 225.0,\\n        \"Horsepower\": 85.0,\\n        \"Miles_per_Gallon\": 17.6,\\n        \"Name\": \"chrysler lebaron salon\",\\n        \"Origin\": \"USA\",\\n        \"Weight_in_lbs\": 3465,\\n        \"Year\": \"1982-01-01\"\\n      },\\n      {\\n        \"Acceleration\": 19.6,\\n        \"Cylinders\": 4,\\n        \"Displacement\": 112.0,\\n        \"Horsepower\": 88.0,\\n        \"Miles_per_Gallon\": 28.0,\\n        \"Name\": \"chevrolet cavalier\",\\n        \"Origin\": \"USA\",\\n        \"Weight_in_lbs\": 2605,\\n        \"Year\": \"1982-01-01\"\\n      },\\n      {\\n        \"Acceleration\": 18.6,\\n        \"Cylinders\": 4,\\n        \"Displacement\": 112.0,\\n        \"Horsepower\": 88.0,\\n        \"Miles_per_Gallon\": 27.0,\\n        \"Name\": \"chevrolet cavalier wagon\",\\n        \"Origin\": \"USA\",\\n        \"Weight_in_lbs\": 2640,\\n        \"Year\": \"1982-01-01\"\\n      },\\n      {\\n        \"Acceleration\": 18.0,\\n        \"Cylinders\": 4,\\n        \"Displacement\": 112.0,\\n        \"Horsepower\": 88.0,\\n        \"Miles_per_Gallon\": 34.0,\\n        \"Name\": \"chevrolet cavalier 2-door\",\\n        \"Origin\": \"USA\",\\n        \"Weight_in_lbs\": 2395,\\n        \"Year\": \"1982-01-01\"\\n      },\\n      {\\n        \"Acceleration\": 16.2,\\n        \"Cylinders\": 4,\\n        \"Displacement\": 112.0,\\n        \"Horsepower\": 85.0,\\n        \"Miles_per_Gallon\": 31.0,\\n        \"Name\": \"pontiac j2000 se hatchback\",\\n        \"Origin\": \"USA\",\\n        \"Weight_in_lbs\": 2575,\\n        \"Year\": \"1982-01-01\"\\n      },\\n      {\\n        \"Acceleration\": 16.0,\\n        \"Cylinders\": 4,\\n        \"Displacement\": 135.0,\\n        \"Horsepower\": 84.0,\\n        \"Miles_per_Gallon\": 29.0,\\n        \"Name\": \"dodge aries se\",\\n        \"Origin\": \"USA\",\\n        \"Weight_in_lbs\": 2525,\\n        \"Year\": \"1982-01-01\"\\n      },\\n      {\\n        \"Acceleration\": 18.0,\\n        \"Cylinders\": 4,\\n        \"Displacement\": 151.0,\\n        \"Horsepower\": 90.0,\\n        \"Miles_per_Gallon\": 27.0,\\n        \"Name\": \"pontiac phoenix\",\\n        \"Origin\": \"USA\",\\n        \"Weight_in_lbs\": 2735,\\n        \"Year\": \"1982-01-01\"\\n      },\\n      {\\n        \"Acceleration\": 16.4,\\n        \"Cylinders\": 4,\\n        \"Displacement\": 140.0,\\n        \"Horsepower\": 92.0,\\n        \"Miles_per_Gallon\": 24.0,\\n        \"Name\": \"ford fairmont futura\",\\n        \"Origin\": \"USA\",\\n        \"Weight_in_lbs\": 2865,\\n        \"Year\": \"1982-01-01\"\\n      },\\n      {\\n        \"Acceleration\": 20.5,\\n        \"Cylinders\": 4,\\n        \"Displacement\": 151.0,\\n        \"Horsepower\": null,\\n        \"Miles_per_Gallon\": 23.0,\\n        \"Name\": \"amc concord dl\",\\n        \"Origin\": \"USA\",\\n        \"Weight_in_lbs\": 3035,\\n        \"Year\": \"1982-01-01\"\\n      },\\n      {\\n        \"Acceleration\": 15.3,\\n        \"Cylinders\": 4,\\n        \"Displacement\": 105.0,\\n        \"Horsepower\": 74.0,\\n        \"Miles_per_Gallon\": 36.0,\\n        \"Name\": \"volkswagen rabbit l\",\\n        \"Origin\": \"Europe\",\\n        \"Weight_in_lbs\": 1980,\\n        \"Year\": \"1982-01-01\"\\n      },\\n      {\\n        \"Acceleration\": 18.2,\\n        \"Cylinders\": 4,\\n        \"Displacement\": 91.0,\\n        \"Horsepower\": 68.0,\\n        \"Miles_per_Gallon\": 37.0,\\n        \"Name\": \"mazda glc custom l\",\\n        \"Origin\": \"Japan\",\\n        \"Weight_in_lbs\": 2025,\\n        \"Year\": \"1982-01-01\"\\n      },\\n      {\\n        \"Acceleration\": 17.6,\\n        \"Cylinders\": 4,\\n        \"Displacement\": 91.0,\\n        \"Horsepower\": 68.0,\\n        \"Miles_per_Gallon\": 31.0,\\n        \"Name\": \"mazda glc custom\",\\n        \"Origin\": \"Japan\",\\n        \"Weight_in_lbs\": 1970,\\n        \"Year\": \"1982-01-01\"\\n      },\\n      {\\n        \"Acceleration\": 14.7,\\n        \"Cylinders\": 4,\\n        \"Displacement\": 105.0,\\n        \"Horsepower\": 63.0,\\n        \"Miles_per_Gallon\": 38.0,\\n        \"Name\": \"plymouth horizon miser\",\\n        \"Origin\": \"USA\",\\n        \"Weight_in_lbs\": 2125,\\n        \"Year\": \"1982-01-01\"\\n      },\\n      {\\n        \"Acceleration\": 17.3,\\n        \"Cylinders\": 4,\\n        \"Displacement\": 98.0,\\n        \"Horsepower\": 70.0,\\n        \"Miles_per_Gallon\": 36.0,\\n        \"Name\": \"mercury lynx l\",\\n        \"Origin\": \"USA\",\\n        \"Weight_in_lbs\": 2125,\\n        \"Year\": \"1982-01-01\"\\n      },\\n      {\\n        \"Acceleration\": 14.5,\\n        \"Cylinders\": 4,\\n        \"Displacement\": 120.0,\\n        \"Horsepower\": 88.0,\\n        \"Miles_per_Gallon\": 36.0,\\n        \"Name\": \"nissan stanza xe\",\\n        \"Origin\": \"Japan\",\\n        \"Weight_in_lbs\": 2160,\\n        \"Year\": \"1982-01-01\"\\n      },\\n      {\\n        \"Acceleration\": 14.5,\\n        \"Cylinders\": 4,\\n        \"Displacement\": 107.0,\\n        \"Horsepower\": 75.0,\\n        \"Miles_per_Gallon\": 36.0,\\n        \"Name\": \"honda Accelerationord\",\\n        \"Origin\": \"Japan\",\\n        \"Weight_in_lbs\": 2205,\\n        \"Year\": \"1982-01-01\"\\n      },\\n      {\\n        \"Acceleration\": 16.9,\\n        \"Cylinders\": 4,\\n        \"Displacement\": 108.0,\\n        \"Horsepower\": 70.0,\\n        \"Miles_per_Gallon\": 34.0,\\n        \"Name\": \"toyota corolla\",\\n        \"Origin\": \"Japan\",\\n        \"Weight_in_lbs\": 2245,\\n        \"Year\": \"1982-01-01\"\\n      },\\n      {\\n        \"Acceleration\": 15.0,\\n        \"Cylinders\": 4,\\n        \"Displacement\": 91.0,\\n        \"Horsepower\": 67.0,\\n        \"Miles_per_Gallon\": 38.0,\\n        \"Name\": \"honda civic\",\\n        \"Origin\": \"Japan\",\\n        \"Weight_in_lbs\": 1965,\\n        \"Year\": \"1982-01-01\"\\n      },\\n      {\\n        \"Acceleration\": 15.7,\\n        \"Cylinders\": 4,\\n        \"Displacement\": 91.0,\\n        \"Horsepower\": 67.0,\\n        \"Miles_per_Gallon\": 32.0,\\n        \"Name\": \"honda civic (auto)\",\\n        \"Origin\": \"Japan\",\\n        \"Weight_in_lbs\": 1965,\\n        \"Year\": \"1982-01-01\"\\n      },\\n      {\\n        \"Acceleration\": 16.2,\\n        \"Cylinders\": 4,\\n        \"Displacement\": 91.0,\\n        \"Horsepower\": 67.0,\\n        \"Miles_per_Gallon\": 38.0,\\n        \"Name\": \"datsun 310 gx\",\\n        \"Origin\": \"Japan\",\\n        \"Weight_in_lbs\": 1995,\\n        \"Year\": \"1982-01-01\"\\n      },\\n      {\\n        \"Acceleration\": 16.4,\\n        \"Cylinders\": 6,\\n        \"Displacement\": 181.0,\\n        \"Horsepower\": 110.0,\\n        \"Miles_per_Gallon\": 25.0,\\n        \"Name\": \"buick century limited\",\\n        \"Origin\": \"USA\",\\n        \"Weight_in_lbs\": 2945,\\n        \"Year\": \"1982-01-01\"\\n      },\\n      {\\n        \"Acceleration\": 17.0,\\n        \"Cylinders\": 6,\\n        \"Displacement\": 262.0,\\n        \"Horsepower\": 85.0,\\n        \"Miles_per_Gallon\": 38.0,\\n        \"Name\": \"oldsmobile cutlass ciera (diesel)\",\\n        \"Origin\": \"USA\",\\n        \"Weight_in_lbs\": 3015,\\n        \"Year\": \"1982-01-01\"\\n      },\\n      {\\n        \"Acceleration\": 14.5,\\n        \"Cylinders\": 4,\\n        \"Displacement\": 156.0,\\n        \"Horsepower\": 92.0,\\n        \"Miles_per_Gallon\": 26.0,\\n        \"Name\": \"chrysler lebaron medallion\",\\n        \"Origin\": \"USA\",\\n        \"Weight_in_lbs\": 2585,\\n        \"Year\": \"1982-01-01\"\\n      },\\n      {\\n        \"Acceleration\": 14.7,\\n        \"Cylinders\": 6,\\n        \"Displacement\": 232.0,\\n        \"Horsepower\": 112.0,\\n        \"Miles_per_Gallon\": 22.0,\\n        \"Name\": \"ford granada l\",\\n        \"Origin\": \"USA\",\\n        \"Weight_in_lbs\": 2835,\\n        \"Year\": \"1982-01-01\"\\n      },\\n      {\\n        \"Acceleration\": 13.9,\\n        \"Cylinders\": 4,\\n        \"Displacement\": 144.0,\\n        \"Horsepower\": 96.0,\\n        \"Miles_per_Gallon\": 32.0,\\n        \"Name\": \"toyota celica gt\",\\n        \"Origin\": \"Japan\",\\n        \"Weight_in_lbs\": 2665,\\n        \"Year\": \"1982-01-01\"\\n      },\\n      {\\n        \"Acceleration\": 13.0,\\n        \"Cylinders\": 4,\\n        \"Displacement\": 135.0,\\n        \"Horsepower\": 84.0,\\n        \"Miles_per_Gallon\": 36.0,\\n        \"Name\": \"dodge charger 2.2\",\\n        \"Origin\": \"USA\",\\n        \"Weight_in_lbs\": 2370,\\n        \"Year\": \"1982-01-01\"\\n      },\\n      {\\n        \"Acceleration\": 17.3,\\n        \"Cylinders\": 4,\\n        \"Displacement\": 151.0,\\n        \"Horsepower\": 90.0,\\n        \"Miles_per_Gallon\": 27.0,\\n        \"Name\": \"chevrolet camaro\",\\n        \"Origin\": \"USA\",\\n        \"Weight_in_lbs\": 2950,\\n        \"Year\": \"1982-01-01\"\\n      },\\n      {\\n        \"Acceleration\": 15.6,\\n        \"Cylinders\": 4,\\n        \"Displacement\": 140.0,\\n        \"Horsepower\": 86.0,\\n        \"Miles_per_Gallon\": 27.0,\\n        \"Name\": \"ford mustang gl\",\\n        \"Origin\": \"USA\",\\n        \"Weight_in_lbs\": 2790,\\n        \"Year\": \"1982-01-01\"\\n      },\\n      {\\n        \"Acceleration\": 24.6,\\n        \"Cylinders\": 4,\\n        \"Displacement\": 97.0,\\n        \"Horsepower\": 52.0,\\n        \"Miles_per_Gallon\": 44.0,\\n        \"Name\": \"vw pickup\",\\n        \"Origin\": \"Europe\",\\n        \"Weight_in_lbs\": 2130,\\n        \"Year\": \"1982-01-01\"\\n      },\\n      {\\n        \"Acceleration\": 11.6,\\n        \"Cylinders\": 4,\\n        \"Displacement\": 135.0,\\n        \"Horsepower\": 84.0,\\n        \"Miles_per_Gallon\": 32.0,\\n        \"Name\": \"dodge rampage\",\\n        \"Origin\": \"USA\",\\n        \"Weight_in_lbs\": 2295,\\n        \"Year\": \"1982-01-01\"\\n      },\\n      {\\n        \"Acceleration\": 18.6,\\n        \"Cylinders\": 4,\\n        \"Displacement\": 120.0,\\n        \"Horsepower\": 79.0,\\n        \"Miles_per_Gallon\": 28.0,\\n        \"Name\": \"ford ranger\",\\n        \"Origin\": \"USA\",\\n        \"Weight_in_lbs\": 2625,\\n        \"Year\": \"1982-01-01\"\\n      },\\n      {\\n        \"Acceleration\": 19.4,\\n        \"Cylinders\": 4,\\n        \"Displacement\": 119.0,\\n        \"Horsepower\": 82.0,\\n        \"Miles_per_Gallon\": 31.0,\\n        \"Name\": \"chevy s-10\",\\n        \"Origin\": \"USA\",\\n        \"Weight_in_lbs\": 2720,\\n        \"Year\": \"1982-01-01\"\\n      }\\n    ]\\n  },\\n  \"hconcat\": [\\n    {\\n      \"encoding\": {\\n        \"color\": {\\n          \"field\": \"Origin\",\\n          \"type\": \"nominal\"\\n        },\\n        \"size\": {\\n          \"condition\": {\\n            \"test\": \"(datum.Horsepower < selector001.cutoff)\",\\n            \"value\": 300\\n          },\\n          \"value\": 10\\n        },\\n        \"x\": {\\n          \"field\": \"Horsepower\",\\n          \"type\": \"quantitative\"\\n        },\\n        \"y\": {\\n          \"field\": \"Miles_per_Gallon\",\\n          \"type\": \"quantitative\"\\n        }\\n      },\\n      \"mark\": {\\n        \"opacity\": 0.5,\\n        \"size\": 80,\\n        \"type\": \"circle\"\\n      },\\n      \"selection\": {\\n        \"selector001\": {\\n          \"bind\": {\\n            \"input\": \"range\",\\n            \"max\": 230.0,\\n            \"min\": 46.0,\\n            \"name\": \"cutoff\",\\n            \"step\": 1\\n          },\\n          \"fields\": [\\n            \"cutoff\"\\n          ],\\n          \"init\": {\\n            \"cutoff\": 230.0\\n          },\\n          \"type\": \"single\"\\n        }\\n      }\\n    },\\n    {\\n      \"encoding\": {\\n        \"color\": {\\n          \"field\": \"Origin\",\\n          \"type\": \"nominal\"\\n        },\\n        \"size\": {\\n          \"condition\": {\\n            \"test\": \"(datum.Horsepower < selector001.cutoff)\",\\n            \"value\": 100\\n          },\\n          \"value\": 10\\n        },\\n        \"x\": {\\n          \"field\": \"Miles_per_Gallon\",\\n          \"type\": \"quantitative\"\\n        },\\n        \"y\": {\\n          \"field\": \"Horsepower\",\\n          \"type\": \"quantitative\"\\n        }\\n      },\\n      \"mark\": {\\n        \"opacity\": 0.5,\\n        \"size\": 80,\\n        \"type\": \"circle\"\\n      },\\n      \"selection\": {\\n        \"selector001\": {\\n          \"bind\": {\\n            \"input\": \"range\",\\n            \"max\": 230.0,\\n            \"min\": 46.0,\\n            \"name\": \"cutoff\",\\n            \"step\": 1\\n          },\\n          \"fields\": [\\n            \"cutoff\"\\n          ],\\n          \"init\": {\\n            \"cutoff\": 230.0\\n          },\\n          \"type\": \"single\"\\n        }\\n      }\\n    }\\n  ]\\n}'"
            ]
          },
          "metadata": {
            "tags": []
          },
          "execution_count": 10
        }
      ]
    },
    {
      "cell_type": "code",
      "metadata": {
        "id": "Y4y88SrcWHYU",
        "colab_type": "code",
        "colab": {}
      },
      "source": [
        "#3.2\n",
        "c3.save('chart.json')"
      ],
      "execution_count": 0,
      "outputs": []
    },
    {
      "cell_type": "code",
      "metadata": {
        "id": "0AePKjLACHUT",
        "colab_type": "code",
        "colab": {}
      },
      "source": [
        "from google.colab import drive\n",
        "drive.mount('/content/drive')"
      ],
      "execution_count": 0,
      "outputs": []
    },
    {
      "cell_type": "markdown",
      "metadata": {
        "id": "OwQnat3RXlTP",
        "colab_type": "text"
      },
      "source": [
        "[json beautifier ](https://jsonformatter.org/)"
      ]
    },
    {
      "cell_type": "markdown",
      "metadata": {
        "id": "e6zbgAuIT1I8",
        "colab_type": "text"
      },
      "source": [
        "### 3.3 Shorter JSON: Uinsg url \n"
      ]
    },
    {
      "cell_type": "code",
      "metadata": {
        "id": "aEQg7j2UXuc5",
        "colab_type": "code",
        "outputId": "63c33fab-332c-4aa5-b959-06972f7246f8",
        "colab": {
          "base_uri": "https://localhost:8080/",
          "height": 34
        }
      },
      "source": [
        "#3.3.1 \n",
        "car_url = vega_data.cars.url\n",
        "car_url"
      ],
      "execution_count": 0,
      "outputs": [
        {
          "output_type": "execute_result",
          "data": {
            "text/plain": [
              "'https://vega.github.io/vega-datasets/data/cars.json'"
            ]
          },
          "metadata": {
            "tags": []
          },
          "execution_count": 12
        }
      ]
    },
    {
      "cell_type": "code",
      "metadata": {
        "id": "sFutcsieXxQ3",
        "colab_type": "code",
        "outputId": "2281ce24-dbe1-4223-ccfc-dc01cf2c5436",
        "colab": {
          "base_uri": "https://localhost:8080/",
          "height": 368
        }
      },
      "source": [
        "#3.3.2\n",
        "hp_mpg_2=alt.Chart(car_url).mark_circle(size=80,opacity=0.5).encode(\n",
        "    x='Horsepower:Q',\n",
        "    y='Miles_per_Gallon:Q',\n",
        "    color=\"Origin:N\"\n",
        ")\n",
        "hp_mpg_2"
      ],
      "execution_count": 0,
      "outputs": [
        {
          "output_type": "execute_result",
          "data": {
            "text/plain": [
              "alt.Chart(...)"
            ],
            "text/html": [
              "\n",
              "<div id=\"altair-viz-c56ab36e8e8e417691ffc2272b89a9c5\"></div>\n",
              "<script type=\"text/javascript\">\n",
              "  (function(spec, embedOpt){\n",
              "    const outputDiv = document.getElementById(\"altair-viz-c56ab36e8e8e417691ffc2272b89a9c5\");\n",
              "    const paths = {\n",
              "      \"vega\": \"https://cdn.jsdelivr.net/npm//vega@5?noext\",\n",
              "      \"vega-lib\": \"https://cdn.jsdelivr.net/npm//vega-lib?noext\",\n",
              "      \"vega-lite\": \"https://cdn.jsdelivr.net/npm//vega-lite@4.0.2?noext\",\n",
              "      \"vega-embed\": \"https://cdn.jsdelivr.net/npm//vega-embed@6?noext\",\n",
              "    };\n",
              "\n",
              "    function loadScript(lib) {\n",
              "      return new Promise(function(resolve, reject) {\n",
              "        var s = document.createElement('script');\n",
              "        s.src = paths[lib];\n",
              "        s.async = true;\n",
              "        s.onload = () => resolve(paths[lib]);\n",
              "        s.onerror = () => reject(`Error loading script: ${paths[lib]}`);\n",
              "        document.getElementsByTagName(\"head\")[0].appendChild(s);\n",
              "      });\n",
              "    }\n",
              "\n",
              "    function showError(err) {\n",
              "      outputDiv.innerHTML = `<div class=\"error\" style=\"color:red;\">${err}</div>`;\n",
              "      throw err;\n",
              "    }\n",
              "\n",
              "    function displayChart(vegaEmbed) {\n",
              "      vegaEmbed(outputDiv, spec, embedOpt)\n",
              "        .catch(err => showError(`Javascript Error: ${err.message}<br>This usually means there's a typo in your chart specification. See the javascript console for the full traceback.`));\n",
              "    }\n",
              "\n",
              "    if(typeof define === \"function\" && define.amd) {\n",
              "      requirejs.config({paths});\n",
              "      require([\"vega-embed\"], displayChart, err => showError(`Error loading script: ${err.message}`));\n",
              "    } else if (typeof vegaEmbed === \"function\") {\n",
              "      displayChart(vegaEmbed);\n",
              "    } else {\n",
              "      loadScript(\"vega\")\n",
              "        .then(() => loadScript(\"vega-lite\"))\n",
              "        .then(() => loadScript(\"vega-embed\"))\n",
              "        .catch(showError)\n",
              "        .then(() => displayChart(vegaEmbed));\n",
              "    }\n",
              "  })({\"config\": {\"view\": {\"continuousWidth\": 400, \"continuousHeight\": 300}}, \"data\": {\"url\": \"https://vega.github.io/vega-datasets/data/cars.json\"}, \"mark\": {\"type\": \"circle\", \"opacity\": 0.5, \"size\": 80}, \"encoding\": {\"color\": {\"type\": \"nominal\", \"field\": \"Origin\"}, \"x\": {\"type\": \"quantitative\", \"field\": \"Horsepower\"}, \"y\": {\"type\": \"quantitative\", \"field\": \"Miles_per_Gallon\"}}, \"$schema\": \"https://vega.github.io/schema/vega-lite/v4.0.2.json\"}, {\"mode\": \"vega-lite\"});\n",
              "</script>"
            ]
          },
          "metadata": {
            "tags": []
          },
          "execution_count": 13
        }
      ]
    },
    {
      "cell_type": "code",
      "metadata": {
        "id": "i08LTlmNYAWv",
        "colab_type": "code",
        "outputId": "0b418a85-fef9-4dae-9ff7-a25002c2bd42",
        "colab": {
          "base_uri": "https://localhost:8080/",
          "height": 393
        }
      },
      "source": [
        "#3.3.3\n",
        "c3=makeC3(car_url)\n",
        "c3.save(\"c3.json\")\n",
        "c3"
      ],
      "execution_count": 0,
      "outputs": [
        {
          "output_type": "execute_result",
          "data": {
            "text/plain": [
              "alt.HConcatChart(...)"
            ],
            "text/html": [
              "\n",
              "<div id=\"altair-viz-dda09c5db7924cddaf6ce2df230779da\"></div>\n",
              "<script type=\"text/javascript\">\n",
              "  (function(spec, embedOpt){\n",
              "    const outputDiv = document.getElementById(\"altair-viz-dda09c5db7924cddaf6ce2df230779da\");\n",
              "    const paths = {\n",
              "      \"vega\": \"https://cdn.jsdelivr.net/npm//vega@5?noext\",\n",
              "      \"vega-lib\": \"https://cdn.jsdelivr.net/npm//vega-lib?noext\",\n",
              "      \"vega-lite\": \"https://cdn.jsdelivr.net/npm//vega-lite@4.0.2?noext\",\n",
              "      \"vega-embed\": \"https://cdn.jsdelivr.net/npm//vega-embed@6?noext\",\n",
              "    };\n",
              "\n",
              "    function loadScript(lib) {\n",
              "      return new Promise(function(resolve, reject) {\n",
              "        var s = document.createElement('script');\n",
              "        s.src = paths[lib];\n",
              "        s.async = true;\n",
              "        s.onload = () => resolve(paths[lib]);\n",
              "        s.onerror = () => reject(`Error loading script: ${paths[lib]}`);\n",
              "        document.getElementsByTagName(\"head\")[0].appendChild(s);\n",
              "      });\n",
              "    }\n",
              "\n",
              "    function showError(err) {\n",
              "      outputDiv.innerHTML = `<div class=\"error\" style=\"color:red;\">${err}</div>`;\n",
              "      throw err;\n",
              "    }\n",
              "\n",
              "    function displayChart(vegaEmbed) {\n",
              "      vegaEmbed(outputDiv, spec, embedOpt)\n",
              "        .catch(err => showError(`Javascript Error: ${err.message}<br>This usually means there's a typo in your chart specification. See the javascript console for the full traceback.`));\n",
              "    }\n",
              "\n",
              "    if(typeof define === \"function\" && define.amd) {\n",
              "      requirejs.config({paths});\n",
              "      require([\"vega-embed\"], displayChart, err => showError(`Error loading script: ${err.message}`));\n",
              "    } else if (typeof vegaEmbed === \"function\") {\n",
              "      displayChart(vegaEmbed);\n",
              "    } else {\n",
              "      loadScript(\"vega\")\n",
              "        .then(() => loadScript(\"vega-lite\"))\n",
              "        .then(() => loadScript(\"vega-embed\"))\n",
              "        .catch(showError)\n",
              "        .then(() => displayChart(vegaEmbed));\n",
              "    }\n",
              "  })({\"config\": {\"view\": {\"continuousWidth\": 400, \"continuousHeight\": 300}}, \"hconcat\": [{\"mark\": {\"type\": \"circle\", \"opacity\": 0.5, \"size\": 80}, \"encoding\": {\"color\": {\"type\": \"nominal\", \"field\": \"Origin\"}, \"size\": {\"condition\": {\"value\": 300, \"test\": \"(datum.Horsepower < selector001.cutoff)\"}, \"value\": 10}, \"x\": {\"type\": \"quantitative\", \"field\": \"Horsepower\"}, \"y\": {\"type\": \"quantitative\", \"field\": \"Miles_per_Gallon\"}}, \"selection\": {\"selector001\": {\"type\": \"single\", \"bind\": {\"input\": \"range\", \"max\": 230.0, \"min\": 46.0, \"name\": \"cutoff\", \"step\": 1}, \"fields\": [\"cutoff\"], \"init\": {\"cutoff\": 230.0}}}}, {\"mark\": {\"type\": \"circle\", \"opacity\": 0.5, \"size\": 80}, \"encoding\": {\"color\": {\"type\": \"nominal\", \"field\": \"Origin\"}, \"size\": {\"condition\": {\"value\": 100, \"test\": \"(datum.Horsepower < selector001.cutoff)\"}, \"value\": 10}, \"x\": {\"type\": \"quantitative\", \"field\": \"Miles_per_Gallon\"}, \"y\": {\"type\": \"quantitative\", \"field\": \"Horsepower\"}}, \"selection\": {\"selector001\": {\"type\": \"single\", \"bind\": {\"input\": \"range\", \"max\": 230.0, \"min\": 46.0, \"name\": \"cutoff\", \"step\": 1}, \"fields\": [\"cutoff\"], \"init\": {\"cutoff\": 230.0}}}}], \"data\": {\"url\": \"https://vega.github.io/vega-datasets/data/cars.json\"}, \"$schema\": \"https://vega.github.io/schema/vega-lite/v4.0.2.json\"}, {\"mode\": \"vega-lite\"});\n",
              "</script>"
            ]
          },
          "metadata": {
            "tags": []
          },
          "execution_count": 14
        }
      ]
    },
    {
      "cell_type": "code",
      "metadata": {
        "id": "ikZrLDTcTp2I",
        "colab_type": "code",
        "outputId": "8c3291f6-fd21-49a2-f349-e77a8638df38",
        "colab": {
          "base_uri": "https://localhost:8080/",
          "height": 1000
        }
      },
      "source": [
        "print(c3.to_json())"
      ],
      "execution_count": 0,
      "outputs": [
        {
          "output_type": "stream",
          "text": [
            "{\n",
            "  \"$schema\": \"https://vega.github.io/schema/vega-lite/v4.0.2.json\",\n",
            "  \"config\": {\n",
            "    \"view\": {\n",
            "      \"continuousHeight\": 300,\n",
            "      \"continuousWidth\": 400\n",
            "    }\n",
            "  },\n",
            "  \"data\": {\n",
            "    \"url\": \"https://vega.github.io/vega-datasets/data/cars.json\"\n",
            "  },\n",
            "  \"hconcat\": [\n",
            "    {\n",
            "      \"encoding\": {\n",
            "        \"color\": {\n",
            "          \"field\": \"Origin\",\n",
            "          \"type\": \"nominal\"\n",
            "        },\n",
            "        \"size\": {\n",
            "          \"condition\": {\n",
            "            \"test\": \"(datum.Horsepower < selector001.cutoff)\",\n",
            "            \"value\": 300\n",
            "          },\n",
            "          \"value\": 10\n",
            "        },\n",
            "        \"x\": {\n",
            "          \"field\": \"Horsepower\",\n",
            "          \"type\": \"quantitative\"\n",
            "        },\n",
            "        \"y\": {\n",
            "          \"field\": \"Miles_per_Gallon\",\n",
            "          \"type\": \"quantitative\"\n",
            "        }\n",
            "      },\n",
            "      \"mark\": {\n",
            "        \"opacity\": 0.5,\n",
            "        \"size\": 80,\n",
            "        \"type\": \"circle\"\n",
            "      },\n",
            "      \"selection\": {\n",
            "        \"selector001\": {\n",
            "          \"bind\": {\n",
            "            \"input\": \"range\",\n",
            "            \"max\": 230.0,\n",
            "            \"min\": 46.0,\n",
            "            \"name\": \"cutoff\",\n",
            "            \"step\": 1\n",
            "          },\n",
            "          \"fields\": [\n",
            "            \"cutoff\"\n",
            "          ],\n",
            "          \"init\": {\n",
            "            \"cutoff\": 230.0\n",
            "          },\n",
            "          \"type\": \"single\"\n",
            "        }\n",
            "      }\n",
            "    },\n",
            "    {\n",
            "      \"encoding\": {\n",
            "        \"color\": {\n",
            "          \"field\": \"Origin\",\n",
            "          \"type\": \"nominal\"\n",
            "        },\n",
            "        \"size\": {\n",
            "          \"condition\": {\n",
            "            \"test\": \"(datum.Horsepower < selector001.cutoff)\",\n",
            "            \"value\": 100\n",
            "          },\n",
            "          \"value\": 10\n",
            "        },\n",
            "        \"x\": {\n",
            "          \"field\": \"Miles_per_Gallon\",\n",
            "          \"type\": \"quantitative\"\n",
            "        },\n",
            "        \"y\": {\n",
            "          \"field\": \"Horsepower\",\n",
            "          \"type\": \"quantitative\"\n",
            "        }\n",
            "      },\n",
            "      \"mark\": {\n",
            "        \"opacity\": 0.5,\n",
            "        \"size\": 80,\n",
            "        \"type\": \"circle\"\n",
            "      },\n",
            "      \"selection\": {\n",
            "        \"selector001\": {\n",
            "          \"bind\": {\n",
            "            \"input\": \"range\",\n",
            "            \"max\": 230.0,\n",
            "            \"min\": 46.0,\n",
            "            \"name\": \"cutoff\",\n",
            "            \"step\": 1\n",
            "          },\n",
            "          \"fields\": [\n",
            "            \"cutoff\"\n",
            "          ],\n",
            "          \"init\": {\n",
            "            \"cutoff\": 230.0\n",
            "          },\n",
            "          \"type\": \"single\"\n",
            "        }\n",
            "      }\n",
            "    }\n",
            "  ]\n",
            "}\n"
          ],
          "name": "stdout"
        }
      ]
    },
    {
      "cell_type": "markdown",
      "metadata": {
        "id": "7oGIVOHh7tE4",
        "colab_type": "text"
      },
      "source": [
        ""
      ]
    },
    {
      "cell_type": "code",
      "metadata": {
        "id": "7NmcwaMC67IM",
        "colab_type": "code",
        "outputId": "782b891e-b6ea-43b3-d408-0e1d7e9e9678",
        "colab": {
          "base_uri": "https://localhost:8080/",
          "height": 386
        }
      },
      "source": [
        "c4=makeC4(car_url)\n",
        "c4.save(\"c4.json\")\n",
        "c4"
      ],
      "execution_count": 0,
      "outputs": [
        {
          "output_type": "execute_result",
          "data": {
            "text/plain": [
              "alt.Chart(...)"
            ],
            "text/html": [
              "\n",
              "<div id=\"altair-viz-a95c688832014f54bcbfb38993bd7086\"></div>\n",
              "<script type=\"text/javascript\">\n",
              "  (function(spec, embedOpt){\n",
              "    const outputDiv = document.getElementById(\"altair-viz-a95c688832014f54bcbfb38993bd7086\");\n",
              "    const paths = {\n",
              "      \"vega\": \"https://cdn.jsdelivr.net/npm//vega@5?noext\",\n",
              "      \"vega-lib\": \"https://cdn.jsdelivr.net/npm//vega-lib?noext\",\n",
              "      \"vega-lite\": \"https://cdn.jsdelivr.net/npm//vega-lite@4.0.2?noext\",\n",
              "      \"vega-embed\": \"https://cdn.jsdelivr.net/npm//vega-embed@6?noext\",\n",
              "    };\n",
              "\n",
              "    function loadScript(lib) {\n",
              "      return new Promise(function(resolve, reject) {\n",
              "        var s = document.createElement('script');\n",
              "        s.src = paths[lib];\n",
              "        s.async = true;\n",
              "        s.onload = () => resolve(paths[lib]);\n",
              "        s.onerror = () => reject(`Error loading script: ${paths[lib]}`);\n",
              "        document.getElementsByTagName(\"head\")[0].appendChild(s);\n",
              "      });\n",
              "    }\n",
              "\n",
              "    function showError(err) {\n",
              "      outputDiv.innerHTML = `<div class=\"error\" style=\"color:red;\">${err}</div>`;\n",
              "      throw err;\n",
              "    }\n",
              "\n",
              "    function displayChart(vegaEmbed) {\n",
              "      vegaEmbed(outputDiv, spec, embedOpt)\n",
              "        .catch(err => showError(`Javascript Error: ${err.message}<br>This usually means there's a typo in your chart specification. See the javascript console for the full traceback.`));\n",
              "    }\n",
              "\n",
              "    if(typeof define === \"function\" && define.amd) {\n",
              "      requirejs.config({paths});\n",
              "      require([\"vega-embed\"], displayChart, err => showError(`Error loading script: ${err.message}`));\n",
              "    } else if (typeof vegaEmbed === \"function\") {\n",
              "      displayChart(vegaEmbed);\n",
              "    } else {\n",
              "      loadScript(\"vega\")\n",
              "        .then(() => loadScript(\"vega-lite\"))\n",
              "        .then(() => loadScript(\"vega-embed\"))\n",
              "        .catch(showError)\n",
              "        .then(() => displayChart(vegaEmbed));\n",
              "    }\n",
              "  })({\"config\": {\"view\": {\"continuousWidth\": 400, \"continuousHeight\": 300}}, \"data\": {\"url\": \"https://vega.github.io/vega-datasets/data/cars.json\"}, \"mark\": {\"type\": \"circle\", \"opacity\": 0.5, \"size\": 80}, \"encoding\": {\"color\": {\"condition\": {\"type\": \"nominal\", \"field\": \"Origin\", \"selection\": \"selector003\"}, \"value\": \"lightgray\"}, \"x\": {\"type\": \"quantitative\", \"field\": \"Horsepower\"}, \"y\": {\"type\": \"quantitative\", \"field\": \"Miles_per_Gallon\"}}, \"selection\": {\"selector003\": {\"type\": \"single\", \"fields\": [\"Origin\"], \"init\": {\"Origin\": \"Europe\"}, \"bind\": {\"input\": \"select\", \"options\": [\"Europe\", \"Japan\", \"USA\"], \"name\": \"Select Origin\"}}}, \"$schema\": \"https://vega.github.io/schema/vega-lite/v4.0.2.json\"}, {\"mode\": \"vega-lite\"});\n",
              "</script>"
            ]
          },
          "metadata": {
            "tags": []
          },
          "execution_count": 16
        }
      ]
    },
    {
      "cell_type": "markdown",
      "metadata": {
        "id": "tYQNKrRQZE_p",
        "colab_type": "text"
      },
      "source": [
        "## 4.Display with [VegaEmbed](https://github.com/vega/vega-embed)\n",
        "* copy-paste json \n",
        "* link to online json file \n",
        "* link to local json file (you need to run server)\n",
        "\n",
        "> cd  *\\[directory where your .html is stored\\]*\n",
        "\n",
        ">  python3 *(or python)* -m http.server\n"
      ]
    },
    {
      "cell_type": "markdown",
      "metadata": {
        "id": "CP8idsA2bwP7",
        "colab_type": "text"
      },
      "source": [
        "#### Useful embed config feature \n",
        "\n",
        "* [Renderer](https://vega.github.io/vega/docs/api/view/#view_renderer)\n",
        "* [Theme](https://github.com/vega/vega-themes) \n",
        "\n"
      ]
    }
  ]
}